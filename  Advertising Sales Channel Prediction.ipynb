{
 "cells": [
  {
   "cell_type": "markdown",
   "id": "395811d2",
   "metadata": {},
   "source": [
    "# Advertising Sales Channel Prediction\n",
    "\n",
    "### Problem Statement:\n",
    "Sales Channel Prediction Case Study  \n",
    "\n",
    "When a company enters a market, the distribution strategy and channel it uses are keys to its success in the market, as well as market know-how and customer knowledge and understanding. Because an effective distribution strategy under efficient supply-chain management opens doors for attaining competitive advantage and strong brand equity in the market, it is a component of the marketing mix that cannot be ignored . \n",
    "\n",
    "The distribution strategy and the channel design have to be right the first time. The case study of Sales channel includes the detailed study of TV, radio and newspaper channel. The predict the total sales generated from all the sales channel.  \n",
    "\n"
   ]
  },
  {
   "cell_type": "code",
   "execution_count": 1,
   "id": "b07e8429",
   "metadata": {},
   "outputs": [],
   "source": [
    "import pandas as pd\n",
    "import numpy as np\n",
    "import matplotlib.pyplot as plt\n",
    "import seaborn as sns\n",
    "import warnings\n",
    "warnings.filterwarnings('ignore')"
   ]
  },
  {
   "cell_type": "code",
   "execution_count": 2,
   "id": "bbdb8aff",
   "metadata": {},
   "outputs": [
    {
     "data": {
      "text/html": [
       "<style>.container { width:100% !important; }</style>"
      ],
      "text/plain": [
       "<IPython.core.display.HTML object>"
      ]
     },
     "metadata": {},
     "output_type": "display_data"
    }
   ],
   "source": [
    "from IPython.display import display, HTML\n",
    "display(HTML(\"<style>.container { width:100% !important; }</style>\"))"
   ]
  },
  {
   "cell_type": "code",
   "execution_count": 3,
   "id": "6e84fb00",
   "metadata": {},
   "outputs": [],
   "source": [
    "df=pd.read_csv('https://raw.githubusercontent.com/dsrscientist/DSData/master/Advertising.csv')"
   ]
  },
  {
   "cell_type": "code",
   "execution_count": 4,
   "id": "dc626d6f",
   "metadata": {},
   "outputs": [
    {
     "data": {
      "text/html": [
       "<div>\n",
       "<style scoped>\n",
       "    .dataframe tbody tr th:only-of-type {\n",
       "        vertical-align: middle;\n",
       "    }\n",
       "\n",
       "    .dataframe tbody tr th {\n",
       "        vertical-align: top;\n",
       "    }\n",
       "\n",
       "    .dataframe thead th {\n",
       "        text-align: right;\n",
       "    }\n",
       "</style>\n",
       "<table border=\"1\" class=\"dataframe\">\n",
       "  <thead>\n",
       "    <tr style=\"text-align: right;\">\n",
       "      <th></th>\n",
       "      <th>Unnamed: 0</th>\n",
       "      <th>TV</th>\n",
       "      <th>radio</th>\n",
       "      <th>newspaper</th>\n",
       "      <th>sales</th>\n",
       "    </tr>\n",
       "  </thead>\n",
       "  <tbody>\n",
       "    <tr>\n",
       "      <th>0</th>\n",
       "      <td>1</td>\n",
       "      <td>230.1</td>\n",
       "      <td>37.8</td>\n",
       "      <td>69.2</td>\n",
       "      <td>22.1</td>\n",
       "    </tr>\n",
       "    <tr>\n",
       "      <th>1</th>\n",
       "      <td>2</td>\n",
       "      <td>44.5</td>\n",
       "      <td>39.3</td>\n",
       "      <td>45.1</td>\n",
       "      <td>10.4</td>\n",
       "    </tr>\n",
       "    <tr>\n",
       "      <th>2</th>\n",
       "      <td>3</td>\n",
       "      <td>17.2</td>\n",
       "      <td>45.9</td>\n",
       "      <td>69.3</td>\n",
       "      <td>9.3</td>\n",
       "    </tr>\n",
       "    <tr>\n",
       "      <th>3</th>\n",
       "      <td>4</td>\n",
       "      <td>151.5</td>\n",
       "      <td>41.3</td>\n",
       "      <td>58.5</td>\n",
       "      <td>18.5</td>\n",
       "    </tr>\n",
       "    <tr>\n",
       "      <th>4</th>\n",
       "      <td>5</td>\n",
       "      <td>180.8</td>\n",
       "      <td>10.8</td>\n",
       "      <td>58.4</td>\n",
       "      <td>12.9</td>\n",
       "    </tr>\n",
       "  </tbody>\n",
       "</table>\n",
       "</div>"
      ],
      "text/plain": [
       "   Unnamed: 0     TV  radio  newspaper  sales\n",
       "0           1  230.1   37.8       69.2   22.1\n",
       "1           2   44.5   39.3       45.1   10.4\n",
       "2           3   17.2   45.9       69.3    9.3\n",
       "3           4  151.5   41.3       58.5   18.5\n",
       "4           5  180.8   10.8       58.4   12.9"
      ]
     },
     "execution_count": 4,
     "metadata": {},
     "output_type": "execute_result"
    }
   ],
   "source": [
    "df.head()"
   ]
  },
  {
   "cell_type": "code",
   "execution_count": 5,
   "id": "bfa15304",
   "metadata": {},
   "outputs": [
    {
     "data": {
      "text/plain": [
       "(200, 5)"
      ]
     },
     "execution_count": 5,
     "metadata": {},
     "output_type": "execute_result"
    }
   ],
   "source": [
    "df.shape"
   ]
  },
  {
   "cell_type": "code",
   "execution_count": 6,
   "id": "4b14b168",
   "metadata": {},
   "outputs": [
    {
     "name": "stdout",
     "output_type": "stream",
     "text": [
      "<class 'pandas.core.frame.DataFrame'>\n",
      "RangeIndex: 200 entries, 0 to 199\n",
      "Data columns (total 5 columns):\n",
      " #   Column      Non-Null Count  Dtype  \n",
      "---  ------      --------------  -----  \n",
      " 0   Unnamed: 0  200 non-null    int64  \n",
      " 1   TV          200 non-null    float64\n",
      " 2   radio       200 non-null    float64\n",
      " 3   newspaper   200 non-null    float64\n",
      " 4   sales       200 non-null    float64\n",
      "dtypes: float64(4), int64(1)\n",
      "memory usage: 7.9 KB\n"
     ]
    }
   ],
   "source": [
    "df.info()"
   ]
  },
  {
   "cell_type": "code",
   "execution_count": 7,
   "id": "e2970ac8",
   "metadata": {},
   "outputs": [
    {
     "data": {
      "image/png": "[encoded data removed]",
      "text/plain": [
       "<Figure size 432x288 with 2 Axes>"
      ]
     },
     "metadata": {
      "needs_background": "light"
     },
     "output_type": "display_data"
    }
   ],
   "source": [
    "# cheaking the null values\n",
    "sns.heatmap(df.isnull())\n",
    "plt.title(\"Null values\")\n",
    "plt.show()"
   ]
  },
  {
   "cell_type": "code",
   "execution_count": 8,
   "id": "ab9bdd3e",
   "metadata": {},
   "outputs": [
    {
     "data": {
      "text/plain": [
       "0"
      ]
     },
     "execution_count": 8,
     "metadata": {},
     "output_type": "execute_result"
    }
   ],
   "source": [
    "df.isnull().sum().sum()"
   ]
  },
  {
   "cell_type": "markdown",
   "id": "f98f6634",
   "metadata": {},
   "source": [
    "* there are no null values in data set"
   ]
  },
  {
   "cell_type": "markdown",
   "id": "c3058287",
   "metadata": {},
   "source": [
    "### Statistical summary"
   ]
  },
  {
   "cell_type": "code",
   "execution_count": 9,
   "id": "63dde568",
   "metadata": {},
   "outputs": [
    {
     "data": {
      "text/html": [
       "<div>\n",
       "<style scoped>\n",
       "    .dataframe tbody tr th:only-of-type {\n",
       "        vertical-align: middle;\n",
       "    }\n",
       "\n",
       "    .dataframe tbody tr th {\n",
       "        vertical-align: top;\n",
       "    }\n",
       "\n",
       "    .dataframe thead th {\n",
       "        text-align: right;\n",
       "    }\n",
       "</style>\n",
       "<table border=\"1\" class=\"dataframe\">\n",
       "  <thead>\n",
       "    <tr style=\"text-align: right;\">\n",
       "      <th></th>\n",
       "      <th>Unnamed: 0</th>\n",
       "      <th>TV</th>\n",
       "      <th>radio</th>\n",
       "      <th>newspaper</th>\n",
       "      <th>sales</th>\n",
       "    </tr>\n",
       "  </thead>\n",
       "  <tbody>\n",
       "    <tr>\n",
       "      <th>count</th>\n",
       "      <td>200.000000</td>\n",
       "      <td>200.000000</td>\n",
       "      <td>200.000000</td>\n",
       "      <td>200.000000</td>\n",
       "      <td>200.000000</td>\n",
       "    </tr>\n",
       "    <tr>\n",
       "      <th>mean</th>\n",
       "      <td>100.500000</td>\n",
       "      <td>147.042500</td>\n",
       "      <td>23.264000</td>\n",
       "      <td>30.554000</td>\n",
       "      <td>14.022500</td>\n",
       "    </tr>\n",
       "    <tr>\n",
       "      <th>std</th>\n",
       "      <td>57.879185</td>\n",
       "      <td>85.854236</td>\n",
       "      <td>14.846809</td>\n",
       "      <td>21.778621</td>\n",
       "      <td>5.217457</td>\n",
       "    </tr>\n",
       "    <tr>\n",
       "      <th>min</th>\n",
       "      <td>1.000000</td>\n",
       "      <td>0.700000</td>\n",
       "      <td>0.000000</td>\n",
       "      <td>0.300000</td>\n",
       "      <td>1.600000</td>\n",
       "    </tr>\n",
       "    <tr>\n",
       "      <th>25%</th>\n",
       "      <td>50.750000</td>\n",
       "      <td>74.375000</td>\n",
       "      <td>9.975000</td>\n",
       "      <td>12.750000</td>\n",
       "      <td>10.375000</td>\n",
       "    </tr>\n",
       "    <tr>\n",
       "      <th>50%</th>\n",
       "      <td>100.500000</td>\n",
       "      <td>149.750000</td>\n",
       "      <td>22.900000</td>\n",
       "      <td>25.750000</td>\n",
       "      <td>12.900000</td>\n",
       "    </tr>\n",
       "    <tr>\n",
       "      <th>75%</th>\n",
       "      <td>150.250000</td>\n",
       "      <td>218.825000</td>\n",
       "      <td>36.525000</td>\n",
       "      <td>45.100000</td>\n",
       "      <td>17.400000</td>\n",
       "    </tr>\n",
       "    <tr>\n",
       "      <th>max</th>\n",
       "      <td>200.000000</td>\n",
       "      <td>296.400000</td>\n",
       "      <td>49.600000</td>\n",
       "      <td>114.000000</td>\n",
       "      <td>27.000000</td>\n",
       "    </tr>\n",
       "  </tbody>\n",
       "</table>\n",
       "</div>"
      ],
      "text/plain": [
       "       Unnamed: 0          TV       radio   newspaper       sales\n",
       "count  200.000000  200.000000  200.000000  200.000000  200.000000\n",
       "mean   100.500000  147.042500   23.264000   30.554000   14.022500\n",
       "std     57.879185   85.854236   14.846809   21.778621    5.217457\n",
       "min      1.000000    0.700000    0.000000    0.300000    1.600000\n",
       "25%     50.750000   74.375000    9.975000   12.750000   10.375000\n",
       "50%    100.500000  149.750000   22.900000   25.750000   12.900000\n",
       "75%    150.250000  218.825000   36.525000   45.100000   17.400000\n",
       "max    200.000000  296.400000   49.600000  114.000000   27.000000"
      ]
     },
     "execution_count": 9,
     "metadata": {},
     "output_type": "execute_result"
    }
   ],
   "source": [
    "df.describe()"
   ]
  },
  {
   "cell_type": "code",
   "execution_count": 10,
   "id": "77c3b87c",
   "metadata": {},
   "outputs": [],
   "source": [
    "# droping unnamed column\n",
    "df.drop(columns='Unnamed: 0', inplace=True)"
   ]
  },
  {
   "cell_type": "code",
   "execution_count": 11,
   "id": "766f88ca",
   "metadata": {},
   "outputs": [
    {
     "data": {
      "text/html": [
       "<div>\n",
       "<style scoped>\n",
       "    .dataframe tbody tr th:only-of-type {\n",
       "        vertical-align: middle;\n",
       "    }\n",
       "\n",
       "    .dataframe tbody tr th {\n",
       "        vertical-align: top;\n",
       "    }\n",
       "\n",
       "    .dataframe thead th {\n",
       "        text-align: right;\n",
       "    }\n",
       "</style>\n",
       "<table border=\"1\" class=\"dataframe\">\n",
       "  <thead>\n",
       "    <tr style=\"text-align: right;\">\n",
       "      <th></th>\n",
       "      <th>TV</th>\n",
       "      <th>radio</th>\n",
       "      <th>newspaper</th>\n",
       "      <th>sales</th>\n",
       "    </tr>\n",
       "  </thead>\n",
       "  <tbody>\n",
       "    <tr>\n",
       "      <th>0</th>\n",
       "      <td>230.1</td>\n",
       "      <td>37.8</td>\n",
       "      <td>69.2</td>\n",
       "      <td>22.1</td>\n",
       "    </tr>\n",
       "    <tr>\n",
       "      <th>1</th>\n",
       "      <td>44.5</td>\n",
       "      <td>39.3</td>\n",
       "      <td>45.1</td>\n",
       "      <td>10.4</td>\n",
       "    </tr>\n",
       "    <tr>\n",
       "      <th>2</th>\n",
       "      <td>17.2</td>\n",
       "      <td>45.9</td>\n",
       "      <td>69.3</td>\n",
       "      <td>9.3</td>\n",
       "    </tr>\n",
       "    <tr>\n",
       "      <th>3</th>\n",
       "      <td>151.5</td>\n",
       "      <td>41.3</td>\n",
       "      <td>58.5</td>\n",
       "      <td>18.5</td>\n",
       "    </tr>\n",
       "    <tr>\n",
       "      <th>4</th>\n",
       "      <td>180.8</td>\n",
       "      <td>10.8</td>\n",
       "      <td>58.4</td>\n",
       "      <td>12.9</td>\n",
       "    </tr>\n",
       "  </tbody>\n",
       "</table>\n",
       "</div>"
      ],
      "text/plain": [
       "      TV  radio  newspaper  sales\n",
       "0  230.1   37.8       69.2   22.1\n",
       "1   44.5   39.3       45.1   10.4\n",
       "2   17.2   45.9       69.3    9.3\n",
       "3  151.5   41.3       58.5   18.5\n",
       "4  180.8   10.8       58.4   12.9"
      ]
     },
     "execution_count": 11,
     "metadata": {},
     "output_type": "execute_result"
    }
   ],
   "source": [
    "df.head()"
   ]
  },
  {
   "cell_type": "markdown",
   "id": "ee783f6a",
   "metadata": {},
   "source": [
    "### Data Analysis and visulaization\n"
   ]
  },
  {
   "cell_type": "code",
   "execution_count": 12,
   "id": "be62ebe0",
   "metadata": {},
   "outputs": [
    {
     "data": {
      "image/png": "[encoded data removed]",
      "text/plain": [
       "<Figure size 432x288 with 1 Axes>"
      ]
     },
     "metadata": {
      "needs_background": "light"
     },
     "output_type": "display_data"
    },
    {
     "data": {
      "image/png": "[encoded data removed]",
      "text/plain": [
       "<Figure size 432x288 with 1 Axes>"
      ]
     },
     "metadata": {
      "needs_background": "light"
     },
     "output_type": "display_data"
    },
    {
     "data": {
      "image/png": "[encoded data removed]",
      "text/plain": [
       "<Figure size 432x288 with 1 Axes>"
      ]
     },
     "metadata": {
      "needs_background": "light"
     },
     "output_type": "display_data"
    },
    {
     "data": {
      "image/png": "[encoded data removed]",
      "text/plain": [
       "<Figure size 432x288 with 1 Axes>"
      ]
     },
     "metadata": {
      "needs_background": "light"
     },
     "output_type": "display_data"
    }
   ],
   "source": [
    "for i in df.columns:\n",
    "    plt.figure()\n",
    "    sns.distplot(df[i])\n",
    "    \n",
    "plt.show()"
   ]
  },
  {
   "cell_type": "markdown",
   "id": "293369e0",
   "metadata": {},
   "source": [
    "## joint plot"
   ]
  },
  {
   "cell_type": "code",
   "execution_count": 13,
   "id": "9d5f8d70",
   "metadata": {},
   "outputs": [
    {
     "data": {
      "image/png": "[encoded data removed]",
      "text/plain": [
       "<Figure size 432x432 with 3 Axes>"
      ]
     },
     "metadata": {
      "needs_background": "light"
     },
     "output_type": "display_data"
    }
   ],
   "source": [
    "s=sns.JointGrid(data=df,x=\"TV\", y=\"sales\",hue=\"sales\")\n",
    "s.plot(sns.scatterplot, sns.histplot, color='b')\n",
    "plt.show()"
   ]
  },
  {
   "cell_type": "code",
   "execution_count": 14,
   "id": "ad1c6467",
   "metadata": {},
   "outputs": [
    {
     "data": {
      "image/png": "[encoded data removed]",
      "text/plain": [
       "<Figure size 432x432 with 3 Axes>"
      ]
     },
     "metadata": {
      "needs_background": "light"
     },
     "output_type": "display_data"
    }
   ],
   "source": [
    "s=sns.JointGrid(data=df,x=\"radio\", y=\"sales\",hue=\"sales\")\n",
    "s.plot(sns.scatterplot, sns.histplot, color='b')\n",
    "plt.show()"
   ]
  },
  {
   "cell_type": "code",
   "execution_count": 15,
   "id": "187756a2",
   "metadata": {},
   "outputs": [
    {
     "data": {
      "image/png": "[encoded data removed]",
      "text/plain": [
       "<Figure size 432x432 with 3 Axes>"
      ]
     },
     "metadata": {
      "needs_background": "light"
     },
     "output_type": "display_data"
    }
   ],
   "source": [
    "s=sns.JointGrid(data=df,x=\"newspaper\", y=\"sales\",hue=\"sales\")\n",
    "s.plot(sns.scatterplot, sns.histplot, color='b')\n",
    "plt.show()"
   ]
  },
  {
   "cell_type": "markdown",
   "id": "003b855a",
   "metadata": {},
   "source": [
    "### Correlation"
   ]
  },
  {
   "cell_type": "code",
   "execution_count": 16,
   "id": "fa1d6f6f",
   "metadata": {},
   "outputs": [
    {
     "data": {
      "text/html": [
       "<div>\n",
       "<style scoped>\n",
       "    .dataframe tbody tr th:only-of-type {\n",
       "        vertical-align: middle;\n",
       "    }\n",
       "\n",
       "    .dataframe tbody tr th {\n",
       "        vertical-align: top;\n",
       "    }\n",
       "\n",
       "    .dataframe thead th {\n",
       "        text-align: right;\n",
       "    }\n",
       "</style>\n",
       "<table border=\"1\" class=\"dataframe\">\n",
       "  <thead>\n",
       "    <tr style=\"text-align: right;\">\n",
       "      <th></th>\n",
       "      <th>TV</th>\n",
       "      <th>radio</th>\n",
       "      <th>newspaper</th>\n",
       "      <th>sales</th>\n",
       "    </tr>\n",
       "  </thead>\n",
       "  <tbody>\n",
       "    <tr>\n",
       "      <th>TV</th>\n",
       "      <td>1.000000</td>\n",
       "      <td>0.054809</td>\n",
       "      <td>0.056648</td>\n",
       "      <td>0.782224</td>\n",
       "    </tr>\n",
       "    <tr>\n",
       "      <th>radio</th>\n",
       "      <td>0.054809</td>\n",
       "      <td>1.000000</td>\n",
       "      <td>0.354104</td>\n",
       "      <td>0.576223</td>\n",
       "    </tr>\n",
       "    <tr>\n",
       "      <th>newspaper</th>\n",
       "      <td>0.056648</td>\n",
       "      <td>0.354104</td>\n",
       "      <td>1.000000</td>\n",
       "      <td>0.228299</td>\n",
       "    </tr>\n",
       "    <tr>\n",
       "      <th>sales</th>\n",
       "      <td>0.782224</td>\n",
       "      <td>0.576223</td>\n",
       "      <td>0.228299</td>\n",
       "      <td>1.000000</td>\n",
       "    </tr>\n",
       "  </tbody>\n",
       "</table>\n",
       "</div>"
      ],
      "text/plain": [
       "                 TV     radio  newspaper     sales\n",
       "TV         1.000000  0.054809   0.056648  0.782224\n",
       "radio      0.054809  1.000000   0.354104  0.576223\n",
       "newspaper  0.056648  0.354104   1.000000  0.228299\n",
       "sales      0.782224  0.576223   0.228299  1.000000"
      ]
     },
     "execution_count": 16,
     "metadata": {},
     "output_type": "execute_result"
    }
   ],
   "source": [
    "df.corr()"
   ]
  },
  {
   "cell_type": "markdown",
   "id": "0d0e75b2",
   "metadata": {},
   "source": [
    "* Tv correlated with sale more than any other"
   ]
  },
  {
   "cell_type": "code",
   "execution_count": 17,
   "id": "141e06e1",
   "metadata": {},
   "outputs": [
    {
     "data": {
      "image/png": "[encoded data removed]",
      "text/plain": [
       "<Figure size 576x432 with 2 Axes>"
      ]
     },
     "metadata": {
      "needs_background": "light"
     },
     "output_type": "display_data"
    }
   ],
   "source": [
    "plt.figure(figsize=(8,6))\n",
    "sns.heatmap(df.corr(),annot=True)\n",
    "plt.show()"
   ]
  },
  {
   "cell_type": "markdown",
   "id": "c6a8f769",
   "metadata": {},
   "source": [
    "## LM-Plot"
   ]
  },
  {
   "cell_type": "code",
   "execution_count": 18,
   "id": "b05a4dc1",
   "metadata": {},
   "outputs": [
    {
     "data": {
      "image/png": "[encoded data removed]",
      "text/plain": [
       "<Figure size 360x360 with 1 Axes>"
      ]
     },
     "metadata": {
      "needs_background": "light"
     },
     "output_type": "display_data"
    },
    {
     "data": {
      "image/png": "[encoded data removed]",
      "text/plain": [
       "<Figure size 360x360 with 1 Axes>"
      ]
     },
     "metadata": {
      "needs_background": "light"
     },
     "output_type": "display_data"
    },
    {
     "data": {
      "image/png": "[encoded data removed]",
      "text/plain": [
       "<Figure size 360x360 with 1 Axes>"
      ]
     },
     "metadata": {
      "needs_background": "light"
     },
     "output_type": "display_data"
    },
    {
     "data": {
      "image/png": "[encoded data removed]",
      "text/plain": [
       "<Figure size 360x360 with 1 Axes>"
      ]
     },
     "metadata": {
      "needs_background": "light"
     },
     "output_type": "display_data"
    }
   ],
   "source": [
    "for i in df:\n",
    "    sns.lmplot(x=i, y='sales',data=df)"
   ]
  },
  {
   "cell_type": "code",
   "execution_count": 19,
   "id": "94f2a96b",
   "metadata": {},
   "outputs": [
    {
     "data": {
      "image/png": "[encoded data removed]",
      "text/plain": [
       "<Figure size 720x360 with 1 Axes>"
      ]
     },
     "metadata": {
      "needs_background": "light"
     },
     "output_type": "display_data"
    }
   ],
   "source": [
    "sns.set_palette\n",
    "plt.figure(figsize=(10,5))\n",
    "df.corr()['sales'].drop(['sales']).plot(kind='bar')\n",
    "plt.show()"
   ]
  },
  {
   "cell_type": "markdown",
   "id": "953db2e2",
   "metadata": {},
   "source": [
    "### Standard Scaling"
   ]
  },
  {
   "cell_type": "code",
   "execution_count": 20,
   "id": "eb261f20",
   "metadata": {},
   "outputs": [],
   "source": [
    "from sklearn.preprocessing import StandardScaler"
   ]
  },
  {
   "cell_type": "code",
   "execution_count": 21,
   "id": "5eaf1477",
   "metadata": {},
   "outputs": [],
   "source": [
    "X=df.drop(columns=['sales'])\n",
    "Y=df['sales']"
   ]
  },
  {
   "cell_type": "code",
   "execution_count": 22,
   "id": "017bfbf5",
   "metadata": {},
   "outputs": [],
   "source": [
    "Scaler=StandardScaler()\n",
    "X_scale=Scaler.fit_transform(X)"
   ]
  },
  {
   "cell_type": "code",
   "execution_count": 23,
   "id": "5e185aae",
   "metadata": {},
   "outputs": [
    {
     "data": {
      "text/plain": [
       "array([[ 9.69852266e-01,  9.81522472e-01,  1.77894547e+00],\n",
       "       [-1.19737623e+00,  1.08280781e+00,  6.69578760e-01],\n",
       "       [-1.51615499e+00,  1.52846331e+00,  1.78354865e+00],\n",
       "       [ 5.20496822e-02,  1.21785493e+00,  1.28640506e+00],\n",
       "       [ 3.94182198e-01, -8.41613655e-01,  1.28180188e+00],\n",
       "       [-1.61540845e+00,  1.73103399e+00,  2.04592999e+00],\n",
       "       [-1.04557682e+00,  6.43904671e-01, -3.24708413e-01],\n",
       "       [-3.13436589e-01, -2.47406325e-01, -8.72486994e-01],\n",
       "       [-1.61657614e+00, -1.42906863e+00, -1.36042422e+00],\n",
       "       [ 6.16042873e-01, -1.39530685e+00, -4.30581584e-01],\n",
       "       [-9.45155670e-01, -1.17923146e+00, -2.92486143e-01],\n",
       "       [ 7.90028350e-01,  4.96973404e-02, -1.22232878e+00],\n",
       "       [-1.43908760e+00,  7.99208859e-01,  1.62704048e+00],\n",
       "       [-5.78501712e-01, -1.05768905e+00, -1.07502697e+00],\n",
       "       [ 6.66253447e-01,  6.50657027e-01,  7.11007392e-01],\n",
       "       [ 5.64664612e-01,  1.65000572e+00,  1.02862691e+00],\n",
       "       [-9.25304978e-01,  9.00494200e-01,  3.84117072e+00],\n",
       "       [ 1.56887609e+00,  1.10306488e+00,  1.16211917e+00],\n",
       "       [-9.08957349e-01, -1.86635121e-01, -5.64073843e-01],\n",
       "       [ 3.00679600e-03,  4.29449843e-02, -5.27248393e-01],\n",
       "       [ 8.33232798e-01,  2.99534513e-01,  1.05164281e+00],\n",
       "       [ 1.05509347e+00, -1.22649795e+00, -3.24708413e-01],\n",
       "       [-1.56286250e+00, -4.97243498e-01,  8.76721921e-01],\n",
       "       [ 9.48833887e-01, -4.29719938e-01, -2.00422516e-01],\n",
       "       [-9.89527805e-01, -7.20071247e-01, -5.64073843e-01],\n",
       "       [ 1.35285385e+00, -1.33453565e+00, -5.08835667e-01],\n",
       "       [-4.83714657e-02,  4.07572210e-01, -8.26455181e-01],\n",
       "       [ 1.08662104e+00, -4.43224650e-01, -3.52327501e-01],\n",
       "       [ 1.18820988e+00,  2.59020377e-01, -3.52327501e-01],\n",
       "       [-8.92609721e-01, -4.90491142e-01,  4.71641962e-01],\n",
       "       [ 1.70316018e+00,  3.40048650e-01,  5.82118314e-01],\n",
       "       [-3.98677796e-01, -3.95958157e-01,  3.70371972e-01],\n",
       "       [-5.82004775e-01, -1.46958277e+00, -2.55016247e-02],\n",
       "       [ 1.38438142e+00, -2.20396901e-01, -1.39264649e+00],\n",
       "       [-5.99520091e-01, -1.47633512e+00, -1.06582061e+00],\n",
       "       [ 1.67747105e+00, -1.29402151e+00, -1.01518562e+00],\n",
       "       [ 1.39956136e+00,  1.38666383e+00, -1.17629696e+00],\n",
       "       [-8.44734522e-01,  1.76479577e+00,  6.97197848e-01],\n",
       "       [-1.21372386e+00,  2.32010953e-01,  2.09260624e-01],\n",
       "       [ 9.45330823e-01,  9.74770116e-01,  6.65620024e-02],\n",
       "       [ 6.47570443e-01, -6.50927121e-02,  4.81492770e-02],\n",
       "       [ 3.49810063e-01,  6.84418807e-01,  3.74975153e-01],\n",
       "       [ 1.71133400e+00,  2.99534513e-01, -1.32359877e+00],\n",
       "       [ 6.98948705e-01, -1.00367020e+00, -1.91216154e-01],\n",
       "       [-1.42390765e+00,  1.64487393e-01,  5.86721496e-01],\n",
       "       [ 3.27623995e-01, -5.15880000e-02,  4.35460956e-02],\n",
       "       [-6.69581357e-01, -9.02384859e-01,  2.36879713e-01],\n",
       "       [ 1.08428567e+00,  1.23135965e+00, -5.54867481e-01],\n",
       "       [ 9.35989321e-01, -5.03995854e-01,  8.90531465e-01],\n",
       "       [-9.35814168e-01, -7.80842451e-01,  2.87514708e-01],\n",
       "       [ 6.16042873e-01, -1.36154507e+00,  1.86244718e-01],\n",
       "       [-5.44638766e-01, -9.22641928e-01, -1.24074150e+00],\n",
       "       [ 8.09879042e-01,  1.24486436e+00,  4.16403786e-01],\n",
       "       [ 4.15200577e-01,  1.54872038e+00,  1.29561142e+00],\n",
       "       [ 1.35051848e+00,  3.73810430e-01, -6.74550196e-01],\n",
       "       [ 6.05533683e-01,  1.76479577e+00,  1.35545278e+00],\n",
       "       [-1.63175608e+00,  3.26543937e-01,  4.99261050e-01],\n",
       "       [-1.26606546e-01, -2.74415749e-01, -6.42327927e-01],\n",
       "       [ 7.44488528e-01,  1.77830048e+00,  3.28943340e-01],\n",
       "       [ 7.43320840e-01,  4.21076922e-01, -9.78360166e-01],\n",
       "       [-1.09228433e+00, -1.43582099e+00, -4.21375221e-01],\n",
       "       [ 1.33417085e+00,  1.31238792e+00,  1.11148417e+00],\n",
       "       [ 1.07727954e+00, -5.24252922e-01, -1.49787521e-01],\n",
       "       [-5.17781948e-01,  4.27829278e-01, -1.01978880e+00],\n",
       "       [-1.86158622e-01,  1.31914027e+00, -7.61366196e-02],\n",
       "       [-9.11292725e-01, -9.42898996e-01, -1.36502740e+00],\n",
       "       [-1.34917564e+00,  9.02114765e-02, -1.30518604e+00],\n",
       "       [-9.04082253e-02, -5.91776482e-01, -9.36931533e-01],\n",
       "       [ 1.05509347e+00,  2.86029801e-01, -9.00106083e-01],\n",
       "       [ 8.14549794e-01,  1.39341619e+00, -1.54390703e-01],\n",
       "       [ 6.07869059e-01,  4.95352838e-01,  3.74975153e-01],\n",
       "       [-4.34876116e-01, -6.05281194e-01,  5.27524584e-02],\n",
       "       [-1.40405696e+00,  6.57409383e-01, -5.18042030e-01],\n",
       "       [-2.06009314e-01, -1.18598381e+00,  3.43397329e-02],\n",
       "       [ 7.74848409e-01,  9.02114765e-02, -8.03439274e-01],\n",
       "       [-1.51965805e+00,  1.37991148e+00,  2.70878810e+00],\n",
       "       [-1.39588315e+00, -1.46283041e+00, -4.53597491e-01],\n",
       "       [-3.09933525e-01,  3.53553362e-01, -7.52804279e-01],\n",
       "       [-1.65394214e+00,  4.48086346e-01, -9.73756984e-01],\n",
       "       [-3.62479475e-01, -1.05093669e+00, -3.43121138e-01],\n",
       "       [-8.24883830e-01,  2.32010953e-01, -3.79946589e-01],\n",
       "       [ 1.08311798e+00, -1.29402151e+00,  2.92117889e-01],\n",
       "       [-8.37728396e-01, -2.00139833e-01,  8.95779092e-02],\n",
       "       [-9.18298852e-01,  1.43393033e+00,  2.32276531e-01],\n",
       "       [ 7.76016097e-01,  1.33264499e+00,  1.49419267e-01],\n",
       "       [ 5.38975481e-01, -3.28434597e-01,  1.61783412e+00],\n",
       "       [-8.26051518e-01,  2.86029801e-01, -6.69947015e-01],\n",
       "       [-4.24366926e-01,  1.17058844e+00,  1.50275459e+00],\n",
       "       [-6.85928986e-01,  1.50982681e-01,  1.97227908e+00],\n",
       "       [-4.34876116e-01,  1.65675807e+00,  9.59579186e-01],\n",
       "       [-1.48792614e-01, -1.24000266e+00, -9.78360166e-01],\n",
       "       [-1.38303858e+00, -1.46958277e+00,  1.12593816e-01],\n",
       "       [ 8.25058983e-01,  6.91171163e-01,  1.30942097e+00],\n",
       "       [ 1.21273132e+00,  8.93741844e-01,  1.92164409e+00],\n",
       "       [-4.62900623e-01, -6.25538262e-01, -9.04709264e-01],\n",
       "       [ 1.89836839e-01,  5.62876398e-01,  1.02862691e+00],\n",
       "       [ 5.90353742e-01, -1.33453565e+00, -1.13486833e+00],\n",
       "       [ 4.42057396e-01, -1.52873340e-01, -3.93756133e-01],\n",
       "       [ 1.66579418e+00,  1.28537849e+00,  9.50372823e-01],\n",
       "       [-1.38283424e-01,  1.24486436e+00,  7.06404211e-01],\n",
       "       [ 8.79940308e-01, -1.28051680e+00,  8.85928284e-01],\n",
       "       [ 1.74402926e+00,  8.80237132e-01,  3.23815396e+00],\n",
       "       [ 1.55486384e+00, -8.88880147e-01, -4.21375221e-01],\n",
       "       [ 4.77088029e-01, -4.09462869e-01, -5.82486569e-01],\n",
       "       [ 1.06443498e+00,  7.45190011e-01, -1.16248742e+00],\n",
       "       [-1.06755854e-01,  1.56222509e+00,  1.30942097e+00],\n",
       "       [-1.42507534e+00, -8.28108943e-01, -3.93111688e-02],\n",
       "       [-6.61407543e-01, -1.55061104e+00, -3.38517957e-01],\n",
       "       [-1.56403019e+00, -1.54385868e+00, -2.28041604e-01],\n",
       "       [ 1.26527727e+00,  2.45515665e-01, -1.15328106e+00],\n",
       "       [ 9.19641692e-01, -1.01717491e+00,  1.19434143e+00],\n",
       "       [ 1.10530405e+00,  9.95027184e-01, -3.38517957e-01],\n",
       "       [ 3.34630122e-01, -5.31005278e-01, -1.29597968e+00],\n",
       "       [ 7.30476274e-01, -1.79882765e-01, -9.13915627e-01],\n",
       "       [-8.03865450e-01,  1.58923451e+00,  1.81641536e-01],\n",
       "       [-8.40063771e-01,  7.92456503e-01,  1.01942054e+00],\n",
       "       [-9.15759131e-02, -6.05281194e-01, -2.28041604e-01],\n",
       "       [-8.24883830e-01, -1.51684926e+00, -7.25185191e-01],\n",
       "       [-2.49213762e-01,  9.20751268e-01,  2.23926360e+00],\n",
       "       [-1.49046586e+00, -4.90491142e-01, -3.79946589e-01],\n",
       "       [-6.70544700e-02,  2.38763309e-01,  7.20213755e-01],\n",
       "       [-1.49747198e+00, -1.05606848e-01,  9.13547372e-01],\n",
       "       [ 8.98623313e-01, -1.40881156e+00, -6.88359740e-01],\n",
       "       [-2.79573643e-01,  7.65447079e-01, -8.35661544e-01],\n",
       "       [ 9.62846140e-01,  6.10142891e-01,  2.00910454e+00],\n",
       "       [-6.98773552e-01, -7.74090095e-01, -2.14232060e-01],\n",
       "       [-1.62591764e+00,  1.05579839e+00,  9.22753735e-01],\n",
       "       [-7.80511695e-01, -1.57086811e+00, -9.82963347e-01],\n",
       "       [ 8.55418865e-01,  1.73778635e+00, -1.25915423e+00],\n",
       "       [-1.02105537e+00, -7.60585383e-01,  5.77515133e-01],\n",
       "       [-1.70882347e+00,  1.10306488e+00, -1.00597925e+00],\n",
       "       [ 1.37971067e+00, -1.37504978e+00,  5.72911952e-01],\n",
       "       [-1.61891151e+00,  2.65772733e-01, -1.30978922e+00],\n",
       "       [ 8.49580427e-01,  6.91171163e-01,  6.69578760e-01],\n",
       "       [-1.28612050e+00,  1.03554132e+00,  1.61323094e+00],\n",
       "       [-1.15300409e+00,  1.60273923e+00, -1.01518562e+00],\n",
       "       [-1.41806922e+00,  1.06255074e+00, -9.78360166e-01],\n",
       "       [ 1.47896413e+00,  3.80562786e-01,  1.34164324e+00],\n",
       "       [-1.21489154e+00,  1.77992105e-01, -4.62803854e-01],\n",
       "       [ 4.42057396e-01,  1.39341619e+00, -1.32820195e+00],\n",
       "       [-8.59914463e-01, -4.22967582e-01, -8.12645637e-01],\n",
       "       [ 5.44813920e-01,  8.19465927e-01,  2.07354907e+00],\n",
       "       [ 8.57754241e-01,  6.70914095e-01,  3.38149702e-01],\n",
       "       [-4.95595880e-01, -1.18598381e+00,  1.77038355e-01],\n",
       "       [-5.93681653e-01, -5.71519414e-01,  3.84181516e-01],\n",
       "       [-7.87313476e-02, -1.44257334e+00, -9.92169710e-01],\n",
       "       [ 1.08662104e+00, -1.07794612e+00, -1.00597925e+00],\n",
       "       [ 1.12281936e+00,  1.73778635e+00,  6.32753309e-01],\n",
       "       [-1.27327593e+00,  1.15033137e+00, -8.58677450e-01],\n",
       "       [-1.19504085e+00,  1.71239749e-01, -4.58200672e-01],\n",
       "       [ 1.56070228e+00, -6.32290618e-01,  2.96721070e-01],\n",
       "       [-3.04095087e-01, -1.00367020e+00,  8.35293289e-01],\n",
       "       [ 5.90353742e-01,  2.43084817e-03, -7.52804279e-01],\n",
       "       [ 2.83251860e-01,  1.10981724e+00,  3.28943340e-01],\n",
       "       [ 4.75920341e-01, -1.46120984e-01, -9.69153803e-01],\n",
       "       [-1.66912209e+00, -7.87594807e-01, -1.14407469e+00],\n",
       "       [-6.20538471e-01,  1.36640677e+00,  9.18150553e-01],\n",
       "       [ 3.21989902e-02, -1.48308748e+00, -2.87882962e-01],\n",
       "       [-1.58037782e+00,  9.20751268e-01,  6.74181942e-01],\n",
       "       [-1.79152496e-01, -3.28434597e-01,  1.86244718e-01],\n",
       "       [ 2.97264113e-01, -3.48691665e-01,  6.72064478e-03],\n",
       "       [-7.16288868e-01,  8.46475352e-01,  8.62912377e-01],\n",
       "       [ 4.82926468e-01, -3.48691665e-01, -2.28041604e-01],\n",
       "       [ 1.92172214e-01,  9.13998912e-01, -1.06582061e+00],\n",
       "       [-3.48467222e-01, -5.78271770e-01, -1.15788424e+00],\n",
       "       [ 1.02123053e+00, -1.34128800e+00,  2.49704176e+00],\n",
       "       [-1.50798117e+00,  9.68017760e-01, -4.12168859e-01],\n",
       "       [ 6.97781017e-01, -1.21974559e+00, -5.13438849e-01],\n",
       "       [ 7.98202165e-01,  2.26879163e-02,  1.24497643e+00],\n",
       "       [ 1.60273904e+00, -8.55118367e-01, -1.11185242e+00],\n",
       "       [-1.13315340e+00, -7.87594807e-01, -5.59470662e-01],\n",
       "       [ 2.03849092e-01, -1.59625696e-01,  7.75451931e-01],\n",
       "       [-1.48813048e+00, -2.13644545e-01, -6.23915201e-01],\n",
       "       [ 2.49388915e-01, -1.09145083e+00, -8.17248818e-01],\n",
       "       [ 8.79940308e-01, -1.34128800e+00, -8.03439274e-01],\n",
       "       [ 1.51633014e+00,  1.73103399e+00,  5.17673775e-01],\n",
       "       [ 1.18353913e+00,  4.68343414e-01, -4.72010216e-01],\n",
       "       [ 2.70407294e-01, -1.04418434e+00,  2.13863806e-01],\n",
       "       [ 1.51399477e+00, -1.41556392e+00, -3.15502050e-01],\n",
       "       [ 2.16693657e-01, -8.95632503e-01, -5.96296113e-01],\n",
       "       [ 1.11601758e-01, -1.39530685e+00, -1.02439198e+00],\n",
       "       [ 8.34400486e-01, -1.20624088e+00, -1.45184340e-01],\n",
       "       [-1.06075676e+00, -1.18598381e+00, -3.93111688e-02],\n",
       "       [ 1.64127273e+00,  1.33264499e+00,  1.89862818e+00],\n",
       "       [ 1.24659427e+00, -1.32616272e-01, -2.55016247e-02],\n",
       "       [ 6.76762637e-01,  1.47444446e+00, -5.04232486e-01],\n",
       "       [-8.80728498e-02, -1.42906863e+00, -1.82009791e-01],\n",
       "       [ 5.14454038e-01,  3.67058074e-01, -5.68677025e-01],\n",
       "       [ 1.62258973e+00, -6.32290618e-01, -1.23613832e+00],\n",
       "       [-1.49863967e+00, -7.53833027e-01, -3.29311594e-01],\n",
       "       [-1.25576062e+00,  1.20435022e+00, -1.13947151e+00],\n",
       "       [-8.35393020e-01, -8.41613655e-01, -1.13026515e+00],\n",
       "       [-1.51615499e+00, -1.29402151e+00,  4.81492770e-02],\n",
       "       [ 2.30705910e-01,  1.26512143e+00, -1.24074150e+00],\n",
       "       [ 3.10313024e-02,  8.32970639e-01, -1.13026515e+00],\n",
       "       [-1.27094056e+00, -1.32103093e+00, -7.71217005e-01],\n",
       "       [-6.17035408e-01, -1.24000266e+00, -1.03359834e+00],\n",
       "       [ 3.49810063e-01, -9.42898996e-01, -1.11185242e+00],\n",
       "       [ 1.59456522e+00,  1.26512143e+00,  1.64085003e+00],\n",
       "       [ 9.93206022e-01, -9.90165488e-01, -1.00597925e+00]])"
      ]
     },
     "execution_count": 23,
     "metadata": {},
     "output_type": "execute_result"
    }
   ],
   "source": [
    "X_scale"
   ]
  },
  {
   "cell_type": "markdown",
   "id": "7c5a4627",
   "metadata": {},
   "source": [
    "### Checking multicollinearity between Features\n",
    "### variance_inflation_factor (VIF)"
   ]
  },
  {
   "cell_type": "code",
   "execution_count": 24,
   "id": "0a2373f9",
   "metadata": {},
   "outputs": [],
   "source": [
    "from statsmodels.stats.outliers_influence import variance_inflation_factor"
   ]
  },
  {
   "cell_type": "code",
   "execution_count": 25,
   "id": "189597a8",
   "metadata": {},
   "outputs": [
    {
     "data": {
      "text/html": [
       "<div>\n",
       "<style scoped>\n",
       "    .dataframe tbody tr th:only-of-type {\n",
       "        vertical-align: middle;\n",
       "    }\n",
       "\n",
       "    .dataframe tbody tr th {\n",
       "        vertical-align: top;\n",
       "    }\n",
       "\n",
       "    .dataframe thead th {\n",
       "        text-align: right;\n",
       "    }\n",
       "</style>\n",
       "<table border=\"1\" class=\"dataframe\">\n",
       "  <thead>\n",
       "    <tr style=\"text-align: right;\">\n",
       "      <th></th>\n",
       "      <th>VIF</th>\n",
       "      <th>Features</th>\n",
       "    </tr>\n",
       "  </thead>\n",
       "  <tbody>\n",
       "    <tr>\n",
       "      <th>0</th>\n",
       "      <td>1.004611</td>\n",
       "      <td>TV</td>\n",
       "    </tr>\n",
       "    <tr>\n",
       "      <th>1</th>\n",
       "      <td>1.144952</td>\n",
       "      <td>radio</td>\n",
       "    </tr>\n",
       "    <tr>\n",
       "      <th>2</th>\n",
       "      <td>1.145187</td>\n",
       "      <td>newspaper</td>\n",
       "    </tr>\n",
       "  </tbody>\n",
       "</table>\n",
       "</div>"
      ],
      "text/plain": [
       "        VIF   Features\n",
       "0  1.004611         TV\n",
       "1  1.144952      radio\n",
       "2  1.145187  newspaper"
      ]
     },
     "execution_count": 25,
     "metadata": {},
     "output_type": "execute_result"
    }
   ],
   "source": [
    "vif=pd.DataFrame()\n",
    "vif['VIF']=[variance_inflation_factor(X_scale,i)for i in range(X_scale.shape[1])]\n",
    "vif['Features']=X.columns\n",
    "vif"
   ]
  },
  {
   "cell_type": "markdown",
   "id": "9abad6ab",
   "metadata": {},
   "source": [
    "* All VIF values are less than 5 it's means no multicollinearity"
   ]
  },
  {
   "cell_type": "markdown",
   "id": "1f9580b2",
   "metadata": {},
   "source": [
    "## Model Building"
   ]
  },
  {
   "cell_type": "markdown",
   "id": "57850285",
   "metadata": {},
   "source": [
    "#### Spliting the data"
   ]
  },
  {
   "cell_type": "code",
   "execution_count": 26,
   "id": "8638155d",
   "metadata": {},
   "outputs": [],
   "source": [
    "from sklearn.model_selection import train_test_split"
   ]
  },
  {
   "cell_type": "code",
   "execution_count": 27,
   "id": "ba8c5370",
   "metadata": {},
   "outputs": [],
   "source": [
    "X_train, X_test, Y_train, Y_test = train_test_split(X_scale, Y, test_size=.2,random_state=5)"
   ]
  },
  {
   "cell_type": "code",
   "execution_count": 28,
   "id": "caddb37b",
   "metadata": {},
   "outputs": [
    {
     "name": "stdout",
     "output_type": "stream",
     "text": [
      "X train: (160, 3)\n",
      "Y train: (160,)\n",
      "X test: (40, 3)\n",
      "Y test: (40,)\n"
     ]
    }
   ],
   "source": [
    "print('X train:',X_train.shape)\n",
    "print('Y train:',Y_train.shape)\n",
    "print('X test:',X_test.shape)\n",
    "print('Y test:',Y_test.shape)"
   ]
  },
  {
   "cell_type": "markdown",
   "id": "f47cca44",
   "metadata": {},
   "source": [
    "## Linear Regression"
   ]
  },
  {
   "cell_type": "code",
   "execution_count": 29,
   "id": "c8da4c06",
   "metadata": {},
   "outputs": [],
   "source": [
    "from sklearn.linear_model import LinearRegression\n",
    "from sklearn.metrics import r2_score"
   ]
  },
  {
   "cell_type": "code",
   "execution_count": 30,
   "id": "74173431",
   "metadata": {},
   "outputs": [],
   "source": [
    "lr=LinearRegression()"
   ]
  },
  {
   "cell_type": "code",
   "execution_count": 31,
   "id": "fcd5ef7e",
   "metadata": {},
   "outputs": [
    {
     "data": {
      "text/plain": [
       "LinearRegression()"
      ]
     },
     "execution_count": 31,
     "metadata": {},
     "output_type": "execute_result"
    }
   ],
   "source": [
    "lr.fit(X_train,Y_train)"
   ]
  },
  {
   "cell_type": "code",
   "execution_count": 32,
   "id": "07241d12",
   "metadata": {},
   "outputs": [
    {
     "data": {
      "text/plain": [
       "0.8956962280033928"
      ]
     },
     "execution_count": 32,
     "metadata": {},
     "output_type": "execute_result"
    }
   ],
   "source": [
    "lr.score(X_train,Y_train)"
   ]
  },
  {
   "cell_type": "code",
   "execution_count": 33,
   "id": "a987bb11",
   "metadata": {},
   "outputs": [],
   "source": [
    "y_pred=lr.predict(X_test)"
   ]
  },
  {
   "cell_type": "code",
   "execution_count": 34,
   "id": "544586f0",
   "metadata": {},
   "outputs": [
    {
     "data": {
      "text/plain": [
       "0.8984204533332627"
      ]
     },
     "execution_count": 34,
     "metadata": {},
     "output_type": "execute_result"
    }
   ],
   "source": [
    "r2_score(Y_test,y_pred)"
   ]
  },
  {
   "cell_type": "markdown",
   "id": "9ffc40de",
   "metadata": {},
   "source": [
    "## KNN"
   ]
  },
  {
   "cell_type": "code",
   "execution_count": 35,
   "id": "0829fbc5",
   "metadata": {},
   "outputs": [],
   "source": [
    "from sklearn.neighbors import KNeighborsRegressor"
   ]
  },
  {
   "cell_type": "code",
   "execution_count": 36,
   "id": "ca1ee153",
   "metadata": {},
   "outputs": [],
   "source": [
    "knn = KNeighborsRegressor()"
   ]
  },
  {
   "cell_type": "code",
   "execution_count": 37,
   "id": "de519509",
   "metadata": {},
   "outputs": [
    {
     "data": {
      "text/plain": [
       "KNeighborsRegressor()"
      ]
     },
     "execution_count": 37,
     "metadata": {},
     "output_type": "execute_result"
    }
   ],
   "source": [
    "knn.fit(X_train,Y_train)"
   ]
  },
  {
   "cell_type": "code",
   "execution_count": 38,
   "id": "23a37b2c",
   "metadata": {},
   "outputs": [
    {
     "data": {
      "text/plain": [
       "0.9627454311312011"
      ]
     },
     "execution_count": 38,
     "metadata": {},
     "output_type": "execute_result"
    }
   ],
   "source": [
    "knn.score(X_train,Y_train)"
   ]
  },
  {
   "cell_type": "code",
   "execution_count": 39,
   "id": "3efb1632",
   "metadata": {},
   "outputs": [
    {
     "data": {
      "text/plain": [
       "0.9534380136164672"
      ]
     },
     "execution_count": 39,
     "metadata": {},
     "output_type": "execute_result"
    }
   ],
   "source": [
    "knn.score(X_test,Y_test)"
   ]
  },
  {
   "cell_type": "markdown",
   "id": "1b58af94",
   "metadata": {},
   "source": [
    "## Random Forest Regressor"
   ]
  },
  {
   "cell_type": "code",
   "execution_count": 40,
   "id": "f536341b",
   "metadata": {},
   "outputs": [],
   "source": [
    "from sklearn.ensemble import RandomForestRegressor"
   ]
  },
  {
   "cell_type": "code",
   "execution_count": 41,
   "id": "fad447ad",
   "metadata": {},
   "outputs": [],
   "source": [
    "rf = RandomForestRegressor(n_estimators = 100 )"
   ]
  },
  {
   "cell_type": "code",
   "execution_count": 42,
   "id": "4d473670",
   "metadata": {},
   "outputs": [
    {
     "data": {
      "text/plain": [
       "RandomForestRegressor()"
      ]
     },
     "execution_count": 42,
     "metadata": {},
     "output_type": "execute_result"
    }
   ],
   "source": [
    "rf.fit(X_train,Y_train)"
   ]
  },
  {
   "cell_type": "code",
   "execution_count": 43,
   "id": "bde45fe1",
   "metadata": {},
   "outputs": [
    {
     "data": {
      "text/plain": [
       "0.9967367503512594"
      ]
     },
     "execution_count": 43,
     "metadata": {},
     "output_type": "execute_result"
    }
   ],
   "source": [
    "rf.score(X_train,Y_train)"
   ]
  },
  {
   "cell_type": "code",
   "execution_count": 44,
   "id": "014554e5",
   "metadata": {},
   "outputs": [
    {
     "data": {
      "text/plain": [
       "0.9861306346619626"
      ]
     },
     "execution_count": 44,
     "metadata": {},
     "output_type": "execute_result"
    }
   ],
   "source": [
    "rf.score(X_test,Y_test)"
   ]
  },
  {
   "cell_type": "markdown",
   "id": "1cd90f17",
   "metadata": {},
   "source": [
    "## Hyperparameter GridSearchCV"
   ]
  },
  {
   "cell_type": "code",
   "execution_count": 45,
   "id": "e0e49251",
   "metadata": {},
   "outputs": [],
   "source": [
    "from sklearn.model_selection import GridSearchCV\n",
    "from sklearn.ensemble import  GradientBoostingRegressor"
   ]
  },
  {
   "cell_type": "code",
   "execution_count": 52,
   "id": "1435f1b1",
   "metadata": {},
   "outputs": [],
   "source": [
    "greid_param = [{    'learning_rate': [0.1,0.2,0.3,0.4],\n",
    "                  'subsample'    : [0.2,0.06,0.5,1],\n",
    "                  'n_estimators' : [100,200,300,400],\n",
    "                  'max_depth'    : [7,8,9,1]}] "
   ]
  },
  {
   "cell_type": "code",
   "execution_count": 53,
   "id": "e8e38061",
   "metadata": {},
   "outputs": [
    {
     "name": "stdout",
     "output_type": "stream",
     "text": [
      "Fitting 5 folds for each of 256 candidates, totalling 1280 fits\n",
      "[CV 2/5] END learning_rate=0.1, max_depth=7, n_estimators=100, subsample=9;, score=nan total time=   0.0s\n",
      "[CV 4/5] END learning_rate=0.1, max_depth=7, n_estimators=100, subsample=8;, score=nan total time=   0.0s\n",
      "[CV 5/5] END learning_rate=0.1, max_depth=7, n_estimators=100, subsample=8;, score=nan total time=   0.0s\n",
      "[CV 1/5] END learning_rate=0.1, max_depth=7, n_estimators=100, subsample=7;, score=nan total time=   0.0s\n",
      "[CV 2/5] END learning_rate=0.1, max_depth=7, n_estimators=100, subsample=7;, score=nan total time=   0.0s\n",
      "[CV 3/5] END learning_rate=0.1, max_depth=7, n_estimators=100, subsample=7;, score=nan total time=   0.0s\n",
      "[CV 4/5] END learning_rate=0.1, max_depth=7, n_estimators=100, subsample=7;, score=nan total time=   0.0s\n",
      "[CV 5/5] END learning_rate=0.1, max_depth=7, n_estimators=100, subsample=7;, score=nan total time=   0.0s\n",
      "[CV 1/5] END learning_rate=0.1, max_depth=7, n_estimators=100, subsample=6;, score=nan total time=   0.0s\n",
      "[CV 2/5] END learning_rate=0.1, max_depth=7, n_estimators=100, subsample=6;, score=nan total time=   0.0s\n",
      "[CV 3/5] END learning_rate=0.1, max_depth=7, n_estimators=100, subsample=6;, score=nan total time=   0.0s\n",
      "[CV 4/5] END learning_rate=0.1, max_depth=7, n_estimators=100, subsample=6;, score=nan total time=   0.0s\n",
      "[CV 5/5] END learning_rate=0.1, max_depth=7, n_estimators=100, subsample=6;, score=nan total time=   0.0s\n",
      "[CV 1/5] END learning_rate=0.1, max_depth=7, n_estimators=200, subsample=9;, score=nan total time=   0.0s\n",
      "[CV 2/5] END learning_rate=0.1, max_depth=7, n_estimators=200, subsample=9;, score=nan total time=   0.0s\n",
      "[CV 3/5] END learning_rate=0.1, max_depth=7, n_estimators=200, subsample=9;, score=nan total time=   0.0s\n",
      "[CV 4/5] END learning_rate=0.1, max_depth=7, n_estimators=200, subsample=9;, score=nan total time=   0.0s\n",
      "[CV 5/5] END learning_rate=0.1, max_depth=7, n_estimators=200, subsample=9;, score=nan total time=   0.0s\n",
      "[CV 3/5] END learning_rate=0.1, max_depth=7, n_estimators=200, subsample=8;, score=nan total time=   0.0s\n",
      "[CV 2/5] END learning_rate=0.1, max_depth=7, n_estimators=200, subsample=7;, score=nan total time=   0.0s\n",
      "[CV 5/5] END learning_rate=0.1, max_depth=7, n_estimators=200, subsample=7;, score=nan total time=   0.0s\n",
      "[CV 2/5] END learning_rate=0.1, max_depth=7, n_estimators=200, subsample=6;, score=nan total time=   0.0s\n",
      "[CV 4/5] END learning_rate=0.1, max_depth=7, n_estimators=200, subsample=6;, score=nan total time=   0.0s\n",
      "[CV 1/5] END learning_rate=0.1, max_depth=7, n_estimators=300, subsample=8;, score=nan total time=   0.0s\n",
      "[CV 3/5] END learning_rate=0.1, max_depth=7, n_estimators=300, subsample=8;, score=nan total time=   0.0s\n",
      "[CV 1/5] END learning_rate=0.1, max_depth=7, n_estimators=400, subsample=9;, score=nan total time=   0.0s\n",
      "[CV 2/5] END learning_rate=0.1, max_depth=7, n_estimators=400, subsample=9;, score=nan total time=   0.0s\n",
      "[CV 1/5] END learning_rate=0.1, max_depth=7, n_estimators=400, subsample=7;, score=nan total time=   0.0s\n",
      "[CV 2/5] END learning_rate=0.1, max_depth=7, n_estimators=400, subsample=7;, score=nan total time=   0.0s\n",
      "[CV 4/5] END learning_rate=0.1, max_depth=7, n_estimators=400, subsample=6;, score=nan total time=   0.0s\n",
      "[CV 5/5] END learning_rate=0.1, max_depth=7, n_estimators=400, subsample=6;, score=nan total time=   0.0s\n",
      "[CV 5/5] END learning_rate=0.1, max_depth=8, n_estimators=100, subsample=9;, score=nan total time=   0.0s\n",
      "[CV 1/5] END learning_rate=0.1, max_depth=8, n_estimators=100, subsample=8;, score=nan total time=   0.0s\n",
      "[CV 2/5] END learning_rate=0.1, max_depth=8, n_estimators=100, subsample=8;, score=nan total time=   0.0s\n",
      "[CV 3/5] END learning_rate=0.1, max_depth=8, n_estimators=100, subsample=8;, score=nan total time=   0.0s\n",
      "[CV 3/5] END learning_rate=0.1, max_depth=8, n_estimators=200, subsample=7;, score=nan total time=   0.0s\n",
      "[CV 4/5] END learning_rate=0.1, max_depth=8, n_estimators=200, subsample=7;, score=nan total time=   0.0s\n",
      "[CV 5/5] END learning_rate=0.1, max_depth=8, n_estimators=200, subsample=7;, score=nan total time=   0.0s\n",
      "[CV 1/5] END learning_rate=0.1, max_depth=8, n_estimators=200, subsample=6;, score=nan total time=   0.0s\n",
      "[CV 3/5] END learning_rate=0.1, max_depth=8, n_estimators=300, subsample=7;, score=nan total time=   0.0s\n",
      "[CV 4/5] END learning_rate=0.1, max_depth=8, n_estimators=300, subsample=7;, score=nan total time=   0.0s\n",
      "[CV 5/5] END learning_rate=0.1, max_depth=8, n_estimators=300, subsample=7;, score=nan total time=   0.0s\n",
      "[CV 1/5] END learning_rate=0.1, max_depth=8, n_estimators=300, subsample=6;, score=nan total time=   0.0s\n",
      "[CV 2/5] END learning_rate=0.1, max_depth=9, n_estimators=100, subsample=6;, score=nan total time=   0.0s\n",
      "[CV 3/5] END learning_rate=0.1, max_depth=9, n_estimators=100, subsample=6;, score=nan total time=   0.0s\n",
      "[CV 4/5] END learning_rate=0.1, max_depth=9, n_estimators=100, subsample=6;, score=nan total time=   0.0s\n",
      "[CV 5/5] END learning_rate=0.1, max_depth=9, n_estimators=100, subsample=6;, score=nan total time=   0.0s\n",
      "[CV 1/5] END learning_rate=0.1, max_depth=9, n_estimators=200, subsample=9;, score=nan total time=   0.0s\n",
      "[CV 2/5] END learning_rate=0.1, max_depth=9, n_estimators=200, subsample=9;, score=nan total time=   0.0s\n",
      "[CV 3/5] END learning_rate=0.1, max_depth=9, n_estimators=200, subsample=9;, score=nan total time=   0.0s\n",
      "[CV 4/5] END learning_rate=0.1, max_depth=9, n_estimators=200, subsample=9;, score=nan total time=   0.0s\n",
      "[CV 1/5] END learning_rate=0.1, max_depth=9, n_estimators=300, subsample=9;, score=nan total time=   0.0s\n",
      "[CV 2/5] END learning_rate=0.1, max_depth=9, n_estimators=300, subsample=9;, score=nan total time=   0.0s\n",
      "[CV 3/5] END learning_rate=0.1, max_depth=9, n_estimators=300, subsample=9;, score=nan total time=   0.0s\n",
      "[CV 4/5] END learning_rate=0.1, max_depth=9, n_estimators=300, subsample=9;, score=nan total time=   0.0s\n",
      "[CV 5/5] END learning_rate=0.1, max_depth=9, n_estimators=300, subsample=9;, score=nan total time=   0.0s\n",
      "[CV 1/5] END learning_rate=0.1, max_depth=9, n_estimators=300, subsample=8;, score=nan total time=   0.0s\n",
      "[CV 2/5] END learning_rate=0.1, max_depth=9, n_estimators=300, subsample=8;, score=nan total time=   0.0s\n",
      "[CV 3/5] END learning_rate=0.1, max_depth=9, n_estimators=300, subsample=8;, score=nan total time=   0.0s\n",
      "[CV 3/5] END learning_rate=0.1, max_depth=9, n_estimators=400, subsample=7;, score=nan total time=   0.0s\n",
      "[CV 4/5] END learning_rate=0.1, max_depth=9, n_estimators=400, subsample=7;, score=nan total time=   0.0s\n",
      "[CV 5/5] END learning_rate=0.1, max_depth=9, n_estimators=400, subsample=7;, score=nan total time=   0.0s\n",
      "[CV 1/5] END learning_rate=0.1, max_depth=9, n_estimators=400, subsample=6;, score=nan total time=   0.0s\n",
      "[CV 2/5] END learning_rate=0.1, max_depth=9, n_estimators=400, subsample=6;, score=nan total time=   0.0s\n",
      "[CV 3/5] END learning_rate=0.1, max_depth=9, n_estimators=400, subsample=6;, score=nan total time=   0.0s\n",
      "[CV 4/5] END learning_rate=0.1, max_depth=9, n_estimators=400, subsample=6;, score=nan total time=   0.0s\n",
      "[CV 5/5] END learning_rate=0.1, max_depth=9, n_estimators=400, subsample=6;, score=nan total time=   0.0s\n",
      "[CV 5/5] END learning_rate=0.2, max_depth=8, n_estimators=400, subsample=9;, score=nan total time=   0.0s\n",
      "[CV 1/5] END learning_rate=0.2, max_depth=8, n_estimators=400, subsample=8;, score=nan total time=   0.0s\n",
      "[CV 2/5] END learning_rate=0.2, max_depth=8, n_estimators=400, subsample=8;, score=nan total time=   0.0s\n",
      "[CV 3/5] END learning_rate=0.2, max_depth=8, n_estimators=400, subsample=8;, score=nan total time=   0.0s\n",
      "[CV 4/5] END learning_rate=0.2, max_depth=8, n_estimators=400, subsample=8;, score=nan total time=   0.0s\n",
      "[CV 5/5] END learning_rate=0.2, max_depth=8, n_estimators=400, subsample=8;, score=nan total time=   0.0s\n",
      "[CV 1/5] END learning_rate=0.2, max_depth=8, n_estimators=400, subsample=7;, score=nan total time=   0.0s\n",
      "[CV 2/5] END learning_rate=0.2, max_depth=8, n_estimators=400, subsample=7;, score=nan total time=   0.0s\n",
      "[CV 3/5] END learning_rate=0.2, max_depth=8, n_estimators=400, subsample=7;, score=nan total time=   0.0s\n",
      "[CV 4/5] END learning_rate=0.2, max_depth=8, n_estimators=400, subsample=7;, score=nan total time=   0.0s\n",
      "[CV 5/5] END learning_rate=0.2, max_depth=8, n_estimators=400, subsample=7;, score=nan total time=   0.0s\n",
      "[CV 1/5] END learning_rate=0.2, max_depth=8, n_estimators=400, subsample=6;, score=nan total time=   0.0s\n",
      "[CV 2/5] END learning_rate=0.2, max_depth=8, n_estimators=400, subsample=6;, score=nan total time=   0.0s\n",
      "[CV 3/5] END learning_rate=0.2, max_depth=8, n_estimators=400, subsample=6;, score=nan total time=   0.0s\n",
      "[CV 4/5] END learning_rate=0.2, max_depth=8, n_estimators=400, subsample=6;, score=nan total time=   0.0s\n",
      "[CV 5/5] END learning_rate=0.2, max_depth=8, n_estimators=400, subsample=6;, score=nan total time=   0.0s\n",
      "[CV 4/5] END learning_rate=0.3, max_depth=7, n_estimators=300, subsample=8;, score=nan total time=   0.0s\n",
      "[CV 5/5] END learning_rate=0.3, max_depth=7, n_estimators=300, subsample=8;, score=nan total time=   0.0s\n",
      "[CV 1/5] END learning_rate=0.3, max_depth=7, n_estimators=300, subsample=7;, score=nan total time=   0.0s\n",
      "[CV 2/5] END learning_rate=0.3, max_depth=7, n_estimators=300, subsample=7;, score=nan total time=   0.0s\n",
      "[CV 3/5] END learning_rate=0.3, max_depth=7, n_estimators=300, subsample=7;, score=nan total time=   0.0s\n",
      "[CV 4/5] END learning_rate=0.3, max_depth=7, n_estimators=300, subsample=7;, score=nan total time=   0.0s\n",
      "[CV 5/5] END learning_rate=0.3, max_depth=7, n_estimators=300, subsample=7;, score=nan total time=   0.0s\n",
      "[CV 1/5] END learning_rate=0.3, max_depth=7, n_estimators=300, subsample=6;, score=nan total time=   0.0s\n",
      "[CV 2/5] END learning_rate=0.3, max_depth=7, n_estimators=300, subsample=6;, score=nan total time=   0.0s\n",
      "[CV 3/5] END learning_rate=0.3, max_depth=7, n_estimators=300, subsample=6;, score=nan total time=   0.0s\n",
      "[CV 4/5] END learning_rate=0.3, max_depth=7, n_estimators=300, subsample=6;, score=nan total time=   0.0s\n",
      "[CV 5/5] END learning_rate=0.3, max_depth=7, n_estimators=300, subsample=6;, score=nan total time=   0.0s\n",
      "[CV 1/5] END learning_rate=0.3, max_depth=7, n_estimators=400, subsample=9;, score=nan total time=   0.0s\n",
      "[CV 2/5] END learning_rate=0.3, max_depth=7, n_estimators=400, subsample=9;, score=nan total time=   0.0s\n",
      "[CV 3/5] END learning_rate=0.3, max_depth=7, n_estimators=400, subsample=9;, score=nan total time=   0.0s\n",
      "[CV 4/5] END learning_rate=0.3, max_depth=7, n_estimators=400, subsample=9;, score=nan total time=   0.0s\n",
      "[CV 5/5] END learning_rate=0.3, max_depth=7, n_estimators=400, subsample=9;, score=nan total time=   0.0s\n",
      "[CV 1/5] END learning_rate=0.3, max_depth=7, n_estimators=400, subsample=8;, score=nan total time=   0.0s\n",
      "[CV 2/5] END learning_rate=0.3, max_depth=7, n_estimators=400, subsample=8;, score=nan total time=   0.0s\n",
      "[CV 3/5] END learning_rate=0.3, max_depth=7, n_estimators=400, subsample=8;, score=nan total time=   0.0s\n",
      "[CV 4/5] END learning_rate=0.3, max_depth=7, n_estimators=400, subsample=8;, score=nan total time=   0.0s\n",
      "[CV 5/5] END learning_rate=0.3, max_depth=7, n_estimators=400, subsample=8;, score=nan total time=   0.0s\n",
      "[CV 1/5] END learning_rate=0.3, max_depth=7, n_estimators=400, subsample=7;, score=nan total time=   0.0s\n",
      "[CV 2/5] END learning_rate=0.3, max_depth=7, n_estimators=400, subsample=7;, score=nan total time=   0.0s\n",
      "[CV 3/5] END learning_rate=0.3, max_depth=7, n_estimators=400, subsample=7;, score=nan total time=   0.0s\n",
      "[CV 4/5] END learning_rate=0.3, max_depth=7, n_estimators=400, subsample=7;, score=nan total time=   0.0s\n",
      "[CV 5/5] END learning_rate=0.3, max_depth=7, n_estimators=400, subsample=7;, score=nan total time=   0.0s\n",
      "[CV 1/5] END learning_rate=0.3, max_depth=7, n_estimators=400, subsample=6;, score=nan total time=   0.0s\n",
      "[CV 2/5] END learning_rate=0.3, max_depth=7, n_estimators=400, subsample=6;, score=nan total time=   0.0s\n",
      "[CV 3/5] END learning_rate=0.3, max_depth=7, n_estimators=400, subsample=6;, score=nan total time=   0.0s\n",
      "[CV 4/5] END learning_rate=0.3, max_depth=7, n_estimators=400, subsample=6;, score=nan total time=   0.0s\n",
      "[CV 5/5] END learning_rate=0.3, max_depth=7, n_estimators=400, subsample=6;, score=nan total time=   0.0s\n",
      "[CV 5/5] END learning_rate=0.3, max_depth=1, n_estimators=400, subsample=9;, score=nan total time=   0.0s\n",
      "[CV 1/5] END learning_rate=0.3, max_depth=1, n_estimators=400, subsample=8;, score=nan total time=   0.0s\n",
      "[CV 2/5] END learning_rate=0.3, max_depth=1, n_estimators=400, subsample=8;, score=nan total time=   0.0s\n",
      "[CV 3/5] END learning_rate=0.3, max_depth=1, n_estimators=400, subsample=8;, score=nan total time=   0.0s\n",
      "[CV 4/5] END learning_rate=0.3, max_depth=1, n_estimators=400, subsample=8;, score=nan total time=   0.0s\n",
      "[CV 5/5] END learning_rate=0.3, max_depth=1, n_estimators=400, subsample=8;, score=nan total time=   0.0s\n",
      "[CV 1/5] END learning_rate=0.3, max_depth=1, n_estimators=400, subsample=7;, score=nan total time=   0.0s\n",
      "[CV 2/5] END learning_rate=0.3, max_depth=1, n_estimators=400, subsample=7;, score=nan total time=   0.0s\n",
      "[CV 3/5] END learning_rate=0.3, max_depth=1, n_estimators=400, subsample=7;, score=nan total time=   0.0s\n",
      "[CV 4/5] END learning_rate=0.3, max_depth=1, n_estimators=400, subsample=7;, score=nan total time=   0.0s\n",
      "[CV 5/5] END learning_rate=0.3, max_depth=1, n_estimators=400, subsample=7;, score=nan total time=   0.0s\n",
      "[CV 1/5] END learning_rate=0.3, max_depth=1, n_estimators=400, subsample=6;, score=nan total time=   0.0s\n",
      "[CV 2/5] END learning_rate=0.3, max_depth=1, n_estimators=400, subsample=6;, score=nan total time=   0.0s\n",
      "[CV 3/5] END learning_rate=0.3, max_depth=1, n_estimators=400, subsample=6;, score=nan total time=   0.0s\n",
      "[CV 4/5] END learning_rate=0.3, max_depth=1, n_estimators=400, subsample=6;, score=nan total time=   0.0s\n",
      "[CV 5/5] END learning_rate=0.3, max_depth=1, n_estimators=400, subsample=6;, score=nan total time=   0.0s\n",
      "[CV 1/5] END learning_rate=0.4, max_depth=7, n_estimators=100, subsample=9;, score=nan total time=   0.0s\n",
      "[CV 2/5] END learning_rate=0.4, max_depth=7, n_estimators=100, subsample=9;, score=nan total time=   0.0s\n",
      "[CV 3/5] END learning_rate=0.4, max_depth=7, n_estimators=100, subsample=9;, score=nan total time=   0.0s\n",
      "[CV 4/5] END learning_rate=0.4, max_depth=7, n_estimators=100, subsample=9;, score=nan total time=   0.0s\n",
      "[CV 5/5] END learning_rate=0.4, max_depth=7, n_estimators=100, subsample=9;, score=nan total time=   0.0s\n",
      "[CV 1/5] END learning_rate=0.4, max_depth=7, n_estimators=100, subsample=8;, score=nan total time=   0.0s\n",
      "[CV 2/5] END learning_rate=0.4, max_depth=7, n_estimators=100, subsample=8;, score=nan total time=   0.0s\n",
      "[CV 3/5] END learning_rate=0.4, max_depth=7, n_estimators=100, subsample=8;, score=nan total time=   0.0s\n",
      "[CV 4/5] END learning_rate=0.4, max_depth=7, n_estimators=100, subsample=8;, score=nan total time=   0.0s\n",
      "[CV 5/5] END learning_rate=0.4, max_depth=7, n_estimators=100, subsample=8;, score=nan total time=   0.0s\n",
      "[CV 1/5] END learning_rate=0.4, max_depth=7, n_estimators=100, subsample=7;, score=nan total time=   0.0s\n",
      "[CV 2/5] END learning_rate=0.4, max_depth=7, n_estimators=100, subsample=7;, score=nan total time=   0.0s\n",
      "[CV 3/5] END learning_rate=0.4, max_depth=7, n_estimators=100, subsample=7;, score=nan total time=   0.0s\n",
      "[CV 4/5] END learning_rate=0.4, max_depth=7, n_estimators=100, subsample=7;, score=nan total time=   0.0s\n",
      "[CV 5/5] END learning_rate=0.4, max_depth=7, n_estimators=100, subsample=7;, score=nan total time=   0.0s\n",
      "[CV 1/5] END learning_rate=0.4, max_depth=7, n_estimators=100, subsample=6;, score=nan total time=   0.0s\n",
      "[CV 5/5] END learning_rate=0.4, max_depth=8, n_estimators=200, subsample=9;, score=nan total time=   0.0s\n",
      "[CV 1/5] END learning_rate=0.4, max_depth=8, n_estimators=200, subsample=8;, score=nan total time=   0.0s\n",
      "[CV 2/5] END learning_rate=0.4, max_depth=8, n_estimators=200, subsample=8;, score=nan total time=   0.0s\n",
      "[CV 4/5] END learning_rate=0.4, max_depth=8, n_estimators=300, subsample=8;, score=nan total time=   0.0s\n",
      "[CV 5/5] END learning_rate=0.4, max_depth=8, n_estimators=300, subsample=8;, score=nan total time=   0.0s\n",
      "[CV 1/5] END learning_rate=0.4, max_depth=8, n_estimators=300, subsample=7;, score=nan total time=   0.0s\n",
      "[CV 5/5] END learning_rate=0.4, max_depth=8, n_estimators=300, subsample=7;, score=nan total time=   0.0s\n",
      "[CV 5/5] END learning_rate=0.1, max_depth=7, n_estimators=100, subsample=9;, score=nan total time=   0.0s\n",
      "[CV 2/5] END learning_rate=0.1, max_depth=8, n_estimators=100, subsample=6;, score=nan total time=   0.0s\n",
      "[CV 3/5] END learning_rate=0.1, max_depth=8, n_estimators=100, subsample=6;, score=nan total time=   0.0s\n",
      "[CV 4/5] END learning_rate=0.1, max_depth=8, n_estimators=100, subsample=6;, score=nan total time=   0.0s\n",
      "[CV 5/5] END learning_rate=0.1, max_depth=8, n_estimators=100, subsample=6;, score=nan total time=   0.0s\n",
      "[CV 5/5] END learning_rate=0.1, max_depth=8, n_estimators=300, subsample=9;, score=nan total time=   0.0s\n",
      "[CV 1/5] END learning_rate=0.1, max_depth=8, n_estimators=300, subsample=8;, score=nan total time=   0.0s\n",
      "[CV 2/5] END learning_rate=0.1, max_depth=8, n_estimators=300, subsample=8;, score=nan total time=   0.0s\n",
      "[CV 3/5] END learning_rate=0.1, max_depth=8, n_estimators=300, subsample=8;, score=nan total time=   0.0s\n",
      "[CV 2/5] END learning_rate=0.1, max_depth=8, n_estimators=300, subsample=6;, score=nan total time=   0.0s\n",
      "[CV 3/5] END learning_rate=0.1, max_depth=8, n_estimators=300, subsample=6;, score=nan total time=   0.0s\n",
      "[CV 4/5] END learning_rate=0.1, max_depth=8, n_estimators=300, subsample=6;, score=nan total time=   0.0s\n",
      "[CV 5/5] END learning_rate=0.1, max_depth=8, n_estimators=300, subsample=6;, score=nan total time=   0.0s\n",
      "[CV 3/5] END learning_rate=0.1, max_depth=8, n_estimators=400, subsample=7;, score=nan total time=   0.0s\n",
      "[CV 4/5] END learning_rate=0.1, max_depth=8, n_estimators=400, subsample=7;, score=nan total time=   0.0s\n",
      "[CV 5/5] END learning_rate=0.1, max_depth=8, n_estimators=400, subsample=7;, score=nan total time=   0.0s\n",
      "[CV 1/5] END learning_rate=0.1, max_depth=8, n_estimators=400, subsample=6;, score=nan total time=   0.0s\n",
      "[CV 2/5] END learning_rate=0.1, max_depth=8, n_estimators=400, subsample=6;, score=nan total time=   0.0s\n",
      "[CV 3/5] END learning_rate=0.1, max_depth=8, n_estimators=400, subsample=6;, score=nan total time=   0.0s\n",
      "[CV 4/5] END learning_rate=0.1, max_depth=8, n_estimators=400, subsample=6;, score=nan total time=   0.0s\n",
      "[CV 5/5] END learning_rate=0.1, max_depth=8, n_estimators=400, subsample=6;, score=nan total time=   0.0s\n",
      "[CV 5/5] END learning_rate=0.1, max_depth=1, n_estimators=200, subsample=9;, score=nan total time=   0.0s\n",
      "[CV 1/5] END learning_rate=0.1, max_depth=1, n_estimators=200, subsample=8;, score=nan total time=   0.0s\n",
      "[CV 2/5] END learning_rate=0.1, max_depth=1, n_estimators=200, subsample=8;, score=nan total time=   0.0s\n",
      "[CV 3/5] END learning_rate=0.1, max_depth=1, n_estimators=200, subsample=8;, score=nan total time=   0.0s\n",
      "[CV 4/5] END learning_rate=0.1, max_depth=1, n_estimators=200, subsample=8;, score=nan total time=   0.0s\n",
      "[CV 5/5] END learning_rate=0.1, max_depth=1, n_estimators=200, subsample=8;, score=nan total time=   0.0s\n",
      "[CV 1/5] END learning_rate=0.1, max_depth=1, n_estimators=200, subsample=7;, score=nan total time=   0.0s\n",
      "[CV 2/5] END learning_rate=0.1, max_depth=1, n_estimators=200, subsample=7;, score=nan total time=   0.0s\n",
      "[CV 4/5] END learning_rate=0.1, max_depth=1, n_estimators=300, subsample=8;, score=nan total time=   0.0s\n",
      "[CV 5/5] END learning_rate=0.1, max_depth=1, n_estimators=300, subsample=8;, score=nan total time=   0.0s\n",
      "[CV 1/5] END learning_rate=0.1, max_depth=1, n_estimators=300, subsample=7;, score=nan total time=   0.0s\n",
      "[CV 2/5] END learning_rate=0.1, max_depth=1, n_estimators=300, subsample=7;, score=nan total time=   0.0s\n",
      "[CV 3/5] END learning_rate=0.1, max_depth=1, n_estimators=300, subsample=7;, score=nan total time=   0.0s\n",
      "[CV 4/5] END learning_rate=0.1, max_depth=1, n_estimators=300, subsample=7;, score=nan total time=   0.0s\n",
      "[CV 5/5] END learning_rate=0.1, max_depth=1, n_estimators=300, subsample=7;, score=nan total time=   0.0s\n",
      "[CV 1/5] END learning_rate=0.1, max_depth=1, n_estimators=300, subsample=6;, score=nan total time=   0.0s\n",
      "[CV 2/5] END learning_rate=0.1, max_depth=1, n_estimators=300, subsample=6;, score=nan total time=   0.0s\n",
      "[CV 3/5] END learning_rate=0.1, max_depth=1, n_estimators=300, subsample=6;, score=nan total time=   0.0s\n",
      "[CV 4/5] END learning_rate=0.1, max_depth=1, n_estimators=300, subsample=6;, score=nan total time=   0.0s\n",
      "[CV 5/5] END learning_rate=0.1, max_depth=1, n_estimators=300, subsample=6;, score=nan total time=   0.0s\n",
      "[CV 1/5] END learning_rate=0.1, max_depth=1, n_estimators=400, subsample=9;, score=nan total time=   0.0s\n",
      "[CV 2/5] END learning_rate=0.1, max_depth=1, n_estimators=400, subsample=9;, score=nan total time=   0.0s\n",
      "[CV 3/5] END learning_rate=0.1, max_depth=1, n_estimators=400, subsample=9;, score=nan total time=   0.0s\n",
      "[CV 4/5] END learning_rate=0.1, max_depth=1, n_estimators=400, subsample=9;, score=nan total time=   0.0s\n",
      "[CV 3/5] END learning_rate=0.2, max_depth=7, n_estimators=200, subsample=7;, score=nan total time=   0.0s\n",
      "[CV 4/5] END learning_rate=0.2, max_depth=7, n_estimators=200, subsample=7;, score=nan total time=   0.0s\n",
      "[CV 5/5] END learning_rate=0.2, max_depth=7, n_estimators=200, subsample=7;, score=nan total time=   0.0s\n",
      "[CV 1/5] END learning_rate=0.2, max_depth=7, n_estimators=200, subsample=6;, score=nan total time=   0.0s\n",
      "[CV 2/5] END learning_rate=0.2, max_depth=7, n_estimators=200, subsample=6;, score=nan total time=   0.0s\n",
      "[CV 3/5] END learning_rate=0.2, max_depth=7, n_estimators=200, subsample=6;, score=nan total time=   0.0s\n",
      "[CV 4/5] END learning_rate=0.2, max_depth=7, n_estimators=200, subsample=6;, score=nan total time=   0.0s\n",
      "[CV 5/5] END learning_rate=0.2, max_depth=7, n_estimators=200, subsample=6;, score=nan total time=   0.0s\n",
      "[CV 1/5] END learning_rate=0.2, max_depth=7, n_estimators=300, subsample=9;, score=nan total time=   0.0s\n",
      "[CV 2/5] END learning_rate=0.2, max_depth=7, n_estimators=300, subsample=9;, score=nan total time=   0.0s\n",
      "[CV 3/5] END learning_rate=0.2, max_depth=7, n_estimators=300, subsample=9;, score=nan total time=   0.0s\n",
      "[CV 4/5] END learning_rate=0.2, max_depth=7, n_estimators=300, subsample=9;, score=nan total time=   0.0s\n",
      "[CV 5/5] END learning_rate=0.2, max_depth=7, n_estimators=300, subsample=9;, score=nan total time=   0.0s\n",
      "[CV 1/5] END learning_rate=0.2, max_depth=7, n_estimators=300, subsample=8;, score=nan total time=   0.0s\n",
      "[CV 2/5] END learning_rate=0.2, max_depth=7, n_estimators=300, subsample=8;, score=nan total time=   0.0s\n",
      "[CV 3/5] END learning_rate=0.2, max_depth=7, n_estimators=300, subsample=8;, score=nan total time=   0.0s\n",
      "[CV 3/5] END learning_rate=0.2, max_depth=8, n_estimators=200, subsample=7;, score=nan total time=   0.0s\n",
      "[CV 4/5] END learning_rate=0.2, max_depth=8, n_estimators=200, subsample=7;, score=nan total time=   0.0s\n",
      "[CV 5/5] END learning_rate=0.2, max_depth=8, n_estimators=200, subsample=7;, score=nan total time=   0.0s\n",
      "[CV 1/5] END learning_rate=0.2, max_depth=8, n_estimators=200, subsample=6;, score=nan total time=   0.0s\n",
      "[CV 2/5] END learning_rate=0.2, max_depth=8, n_estimators=200, subsample=6;, score=nan total time=   0.0s\n",
      "[CV 3/5] END learning_rate=0.2, max_depth=8, n_estimators=200, subsample=6;, score=nan total time=   0.0s\n",
      "[CV 4/5] END learning_rate=0.2, max_depth=8, n_estimators=200, subsample=6;, score=nan total time=   0.0s\n",
      "[CV 5/5] END learning_rate=0.2, max_depth=8, n_estimators=200, subsample=6;, score=nan total time=   0.0s\n",
      "[CV 1/5] END learning_rate=0.2, max_depth=8, n_estimators=300, subsample=9;, score=nan total time=   0.0s\n",
      "[CV 2/5] END learning_rate=0.2, max_depth=8, n_estimators=300, subsample=9;, score=nan total time=   0.0s\n",
      "[CV 3/5] END learning_rate=0.2, max_depth=8, n_estimators=300, subsample=9;, score=nan total time=   0.0s\n",
      "[CV 4/5] END learning_rate=0.2, max_depth=8, n_estimators=300, subsample=9;, score=nan total time=   0.0s\n",
      "[CV 5/5] END learning_rate=0.2, max_depth=8, n_estimators=300, subsample=9;, score=nan total time=   0.0s\n",
      "[CV 1/5] END learning_rate=0.2, max_depth=8, n_estimators=300, subsample=8;, score=nan total time=   0.0s\n",
      "[CV 2/5] END learning_rate=0.2, max_depth=8, n_estimators=300, subsample=8;, score=nan total time=   0.0s\n",
      "[CV 3/5] END learning_rate=0.2, max_depth=8, n_estimators=300, subsample=8;, score=nan total time=   0.0s\n",
      "[CV 3/5] END learning_rate=0.2, max_depth=1, n_estimators=200, subsample=7;, score=nan total time=   0.0s\n",
      "[CV 4/5] END learning_rate=0.2, max_depth=1, n_estimators=200, subsample=7;, score=nan total time=   0.0s\n",
      "[CV 5/5] END learning_rate=0.2, max_depth=1, n_estimators=200, subsample=7;, score=nan total time=   0.0s\n",
      "[CV 1/5] END learning_rate=0.2, max_depth=1, n_estimators=200, subsample=6;, score=nan total time=   0.0s\n",
      "[CV 2/5] END learning_rate=0.2, max_depth=1, n_estimators=200, subsample=6;, score=nan total time=   0.0s\n",
      "[CV 3/5] END learning_rate=0.2, max_depth=1, n_estimators=200, subsample=6;, score=nan total time=   0.0s\n",
      "[CV 4/5] END learning_rate=0.2, max_depth=1, n_estimators=200, subsample=6;, score=nan total time=   0.0s\n",
      "[CV 5/5] END learning_rate=0.2, max_depth=1, n_estimators=200, subsample=6;, score=nan total time=   0.0s\n",
      "[CV 1/5] END learning_rate=0.2, max_depth=1, n_estimators=300, subsample=9;, score=nan total time=   0.0s\n",
      "[CV 2/5] END learning_rate=0.2, max_depth=1, n_estimators=300, subsample=9;, score=nan total time=   0.0s\n",
      "[CV 3/5] END learning_rate=0.2, max_depth=1, n_estimators=300, subsample=9;, score=nan total time=   0.0s\n",
      "[CV 4/5] END learning_rate=0.2, max_depth=1, n_estimators=300, subsample=9;, score=nan total time=   0.0s\n",
      "[CV 5/5] END learning_rate=0.2, max_depth=1, n_estimators=300, subsample=9;, score=nan total time=   0.0s\n",
      "[CV 1/5] END learning_rate=0.2, max_depth=1, n_estimators=300, subsample=8;, score=nan total time=   0.0s\n",
      "[CV 2/5] END learning_rate=0.2, max_depth=1, n_estimators=300, subsample=8;, score=nan total time=   0.0s\n",
      "[CV 3/5] END learning_rate=0.2, max_depth=1, n_estimators=300, subsample=8;, score=nan total time=   0.0s\n",
      "[CV 4/5] END learning_rate=0.2, max_depth=1, n_estimators=300, subsample=8;, score=nan total time=   0.0s\n",
      "[CV 5/5] END learning_rate=0.2, max_depth=1, n_estimators=300, subsample=8;, score=nan total time=   0.0s\n",
      "[CV 1/5] END learning_rate=0.2, max_depth=1, n_estimators=300, subsample=7;, score=nan total time=   0.0s\n",
      "[CV 2/5] END learning_rate=0.2, max_depth=1, n_estimators=300, subsample=7;, score=nan total time=   0.0s\n",
      "[CV 3/5] END learning_rate=0.2, max_depth=1, n_estimators=300, subsample=7;, score=nan total time=   0.0s\n",
      "[CV 4/5] END learning_rate=0.2, max_depth=1, n_estimators=300, subsample=7;, score=nan total time=   0.0s\n",
      "[CV 5/5] END learning_rate=0.2, max_depth=1, n_estimators=300, subsample=7;, score=nan total time=   0.0s\n",
      "[CV 1/5] END learning_rate=0.2, max_depth=1, n_estimators=300, subsample=6;, score=nan total time=   0.0s\n",
      "[CV 2/5] END learning_rate=0.2, max_depth=1, n_estimators=300, subsample=6;, score=nan total time=   0.0s\n",
      "[CV 3/5] END learning_rate=0.2, max_depth=1, n_estimators=300, subsample=6;, score=nan total time=   0.0s\n",
      "[CV 4/5] END learning_rate=0.2, max_depth=1, n_estimators=300, subsample=6;, score=nan total time=   0.0s\n",
      "[CV 5/5] END learning_rate=0.2, max_depth=1, n_estimators=300, subsample=6;, score=nan total time=   0.0s\n",
      "[CV 1/5] END learning_rate=0.2, max_depth=1, n_estimators=400, subsample=9;, score=nan total time=   0.0s\n",
      "[CV 2/5] END learning_rate=0.2, max_depth=1, n_estimators=400, subsample=9;, score=nan total time=   0.0s\n",
      "[CV 3/5] END learning_rate=0.2, max_depth=1, n_estimators=400, subsample=9;, score=nan total time=   0.0s\n",
      "[CV 4/5] END learning_rate=0.2, max_depth=1, n_estimators=400, subsample=9;, score=nan total time=   0.0s\n",
      "[CV 4/5] END learning_rate=0.3, max_depth=9, n_estimators=300, subsample=8;, score=nan total time=   0.0s\n",
      "[CV 5/5] END learning_rate=0.3, max_depth=9, n_estimators=300, subsample=8;, score=nan total time=   0.0s\n",
      "[CV 1/5] END learning_rate=0.3, max_depth=9, n_estimators=300, subsample=7;, score=nan total time=   0.0s\n",
      "[CV 2/5] END learning_rate=0.3, max_depth=9, n_estimators=300, subsample=7;, score=nan total time=   0.0s\n",
      "[CV 3/5] END learning_rate=0.3, max_depth=9, n_estimators=300, subsample=7;, score=nan total time=   0.0s\n",
      "[CV 4/5] END learning_rate=0.3, max_depth=9, n_estimators=300, subsample=7;, score=nan total time=   0.0s\n",
      "[CV 5/5] END learning_rate=0.3, max_depth=9, n_estimators=300, subsample=7;, score=nan total time=   0.0s\n",
      "[CV 1/5] END learning_rate=0.3, max_depth=9, n_estimators=300, subsample=6;, score=nan total time=   0.0s\n",
      "[CV 2/5] END learning_rate=0.3, max_depth=9, n_estimators=300, subsample=6;, score=nan total time=   0.0s\n",
      "[CV 3/5] END learning_rate=0.3, max_depth=9, n_estimators=300, subsample=6;, score=nan total time=   0.0s\n",
      "[CV 4/5] END learning_rate=0.3, max_depth=9, n_estimators=300, subsample=6;, score=nan total time=   0.0s\n",
      "[CV 5/5] END learning_rate=0.3, max_depth=9, n_estimators=300, subsample=6;, score=nan total time=   0.0s\n",
      "[CV 1/5] END learning_rate=0.3, max_depth=9, n_estimators=400, subsample=9;, score=nan total time=   0.0s\n",
      "[CV 2/5] END learning_rate=0.3, max_depth=9, n_estimators=400, subsample=9;, score=nan total time=   0.0s\n",
      "[CV 3/5] END learning_rate=0.3, max_depth=9, n_estimators=400, subsample=9;, score=nan total time=   0.0s\n",
      "[CV 4/5] END learning_rate=0.3, max_depth=9, n_estimators=400, subsample=9;, score=nan total time=   0.0s\n",
      "[CV 5/5] END learning_rate=0.3, max_depth=9, n_estimators=400, subsample=9;, score=nan total time=   0.0s\n",
      "[CV 1/5] END learning_rate=0.3, max_depth=9, n_estimators=400, subsample=8;, score=nan total time=   0.0s\n",
      "[CV 2/5] END learning_rate=0.3, max_depth=9, n_estimators=400, subsample=8;, score=nan total time=   0.0s\n",
      "[CV 3/5] END learning_rate=0.3, max_depth=9, n_estimators=400, subsample=8;, score=nan total time=   0.0s\n",
      "[CV 4/5] END learning_rate=0.3, max_depth=9, n_estimators=400, subsample=8;, score=nan total time=   0.0s\n",
      "[CV 5/5] END learning_rate=0.3, max_depth=9, n_estimators=400, subsample=8;, score=nan total time=   0.0s\n",
      "[CV 1/5] END learning_rate=0.3, max_depth=9, n_estimators=400, subsample=7;, score=nan total time=   0.0s\n",
      "[CV 2/5] END learning_rate=0.3, max_depth=9, n_estimators=400, subsample=7;, score=nan total time=   0.0s\n",
      "[CV 3/5] END learning_rate=0.3, max_depth=9, n_estimators=400, subsample=7;, score=nan total time=   0.0s\n",
      "[CV 4/5] END learning_rate=0.3, max_depth=9, n_estimators=400, subsample=7;, score=nan total time=   0.0s\n",
      "[CV 5/5] END learning_rate=0.3, max_depth=9, n_estimators=400, subsample=7;, score=nan total time=   0.0s\n",
      "[CV 1/5] END learning_rate=0.3, max_depth=9, n_estimators=400, subsample=6;, score=nan total time=   0.0s\n",
      "[CV 2/5] END learning_rate=0.3, max_depth=9, n_estimators=400, subsample=6;, score=nan total time=   0.0s\n",
      "[CV 3/5] END learning_rate=0.3, max_depth=9, n_estimators=400, subsample=6;, score=nan total time=   0.0s\n",
      "[CV 4/5] END learning_rate=0.3, max_depth=9, n_estimators=400, subsample=6;, score=nan total time=   0.0s\n",
      "[CV 5/5] END learning_rate=0.3, max_depth=9, n_estimators=400, subsample=6;, score=nan total time=   0.0s\n",
      "[CV 2/5] END learning_rate=0.4, max_depth=8, n_estimators=100, subsample=8;, score=nan total time=   0.0s\n",
      "[CV 3/5] END learning_rate=0.4, max_depth=8, n_estimators=100, subsample=8;, score=nan total time=   0.0s\n",
      "[CV 4/5] END learning_rate=0.4, max_depth=8, n_estimators=100, subsample=8;, score=nan total time=   0.0s\n",
      "[CV 4/5] END learning_rate=0.4, max_depth=8, n_estimators=100, subsample=6;, score=nan total time=   0.0s\n",
      "[CV 5/5] END learning_rate=0.4, max_depth=8, n_estimators=100, subsample=6;, score=nan total time=   0.0s\n",
      "[CV 1/5] END learning_rate=0.4, max_depth=8, n_estimators=200, subsample=9;, score=nan total time=   0.0s\n",
      "[CV 3/5] END learning_rate=0.4, max_depth=8, n_estimators=300, subsample=9;, score=nan total time=   0.0s\n",
      "[CV 4/5] END learning_rate=0.4, max_depth=8, n_estimators=300, subsample=9;, score=nan total time=   0.0s\n",
      "[CV 5/5] END learning_rate=0.4, max_depth=8, n_estimators=300, subsample=9;, score=nan total time=   0.0s\n",
      "[CV 1/5] END learning_rate=0.4, max_depth=8, n_estimators=400, subsample=9;, score=nan total time=   0.0s\n",
      "[CV 2/5] END learning_rate=0.4, max_depth=8, n_estimators=400, subsample=9;, score=nan total time=   0.0s\n",
      "[CV 3/5] END learning_rate=0.4, max_depth=8, n_estimators=400, subsample=9;, score=nan total time=   0.0s\n",
      "[CV 5/5] END learning_rate=0.4, max_depth=8, n_estimators=400, subsample=8;, score=nan total time=   0.0s\n",
      "[CV 1/5] END learning_rate=0.1, max_depth=7, n_estimators=100, subsample=8;, score=nan total time=   0.0s\n",
      "[CV 5/5] END learning_rate=0.1, max_depth=7, n_estimators=300, subsample=7;, score=nan total time=   0.0s\n",
      "[CV 1/5] END learning_rate=0.1, max_depth=7, n_estimators=300, subsample=6;, score=nan total time=   0.0s\n",
      "[CV 4/5] END learning_rate=0.1, max_depth=7, n_estimators=300, subsample=6;, score=nan total time=   0.0s\n",
      "[CV 5/5] END learning_rate=0.1, max_depth=7, n_estimators=300, subsample=6;, score=nan total time=   0.0s\n",
      "[CV 3/5] END learning_rate=0.1, max_depth=7, n_estimators=400, subsample=9;, score=nan total time=   0.0s\n",
      "[CV 4/5] END learning_rate=0.1, max_depth=7, n_estimators=400, subsample=9;, score=nan total time=   0.0s\n",
      "[CV 2/5] END learning_rate=0.1, max_depth=7, n_estimators=400, subsample=8;, score=nan total time=   0.0s\n",
      "[CV 3/5] END learning_rate=0.1, max_depth=7, n_estimators=400, subsample=8;, score=nan total time=   0.0s\n",
      "[CV 1/5] END learning_rate=0.1, max_depth=8, n_estimators=400, subsample=9;, score=nan total time=   0.0s\n",
      "[CV 2/5] END learning_rate=0.1, max_depth=8, n_estimators=400, subsample=9;, score=nan total time=   0.0s\n",
      "[CV 3/5] END learning_rate=0.1, max_depth=8, n_estimators=400, subsample=9;, score=nan total time=   0.0s\n",
      "[CV 4/5] END learning_rate=0.1, max_depth=8, n_estimators=400, subsample=9;, score=nan total time=   0.0s\n",
      "[CV 3/5] END learning_rate=0.1, max_depth=9, n_estimators=200, subsample=7;, score=nan total time=   0.0s\n",
      "[CV 4/5] END learning_rate=0.1, max_depth=9, n_estimators=200, subsample=7;, score=nan total time=   0.0s\n",
      "[CV 5/5] END learning_rate=0.1, max_depth=9, n_estimators=200, subsample=7;, score=nan total time=   0.0s\n",
      "[CV 1/5] END learning_rate=0.1, max_depth=9, n_estimators=200, subsample=6;, score=nan total time=   0.0s\n",
      "[CV 2/5] END learning_rate=0.1, max_depth=9, n_estimators=200, subsample=6;, score=nan total time=   0.0s\n",
      "[CV 3/5] END learning_rate=0.1, max_depth=9, n_estimators=200, subsample=6;, score=nan total time=   0.0s\n",
      "[CV 4/5] END learning_rate=0.1, max_depth=9, n_estimators=200, subsample=6;, score=nan total time=   0.0s\n",
      "[CV 5/5] END learning_rate=0.1, max_depth=9, n_estimators=200, subsample=6;, score=nan total time=   0.0s\n",
      "[CV 2/5] END learning_rate=0.1, max_depth=9, n_estimators=300, subsample=6;, score=nan total time=   0.0s\n",
      "[CV 3/5] END learning_rate=0.1, max_depth=9, n_estimators=300, subsample=6;, score=nan total time=   0.0s\n",
      "[CV 4/5] END learning_rate=0.1, max_depth=9, n_estimators=300, subsample=6;, score=nan total time=   0.0s\n",
      "[CV 5/5] END learning_rate=0.1, max_depth=9, n_estimators=300, subsample=6;, score=nan total time=   0.0s\n",
      "[CV 1/5] END learning_rate=0.1, max_depth=9, n_estimators=400, subsample=9;, score=nan total time=   0.0s\n",
      "[CV 2/5] END learning_rate=0.1, max_depth=9, n_estimators=400, subsample=9;, score=nan total time=   0.0s\n",
      "[CV 3/5] END learning_rate=0.1, max_depth=9, n_estimators=400, subsample=9;, score=nan total time=   0.0s\n",
      "[CV 4/5] END learning_rate=0.1, max_depth=9, n_estimators=400, subsample=9;, score=nan total time=   0.0s\n",
      "[CV 2/5] END learning_rate=0.1, max_depth=1, n_estimators=100, subsample=6;, score=nan total time=   0.0s\n",
      "[CV 3/5] END learning_rate=0.1, max_depth=1, n_estimators=100, subsample=6;, score=nan total time=   0.0s\n",
      "[CV 4/5] END learning_rate=0.1, max_depth=1, n_estimators=100, subsample=6;, score=nan total time=   0.0s\n",
      "[CV 5/5] END learning_rate=0.1, max_depth=1, n_estimators=100, subsample=6;, score=nan total time=   0.0s\n",
      "[CV 1/5] END learning_rate=0.1, max_depth=1, n_estimators=200, subsample=9;, score=nan total time=   0.0s\n",
      "[CV 2/5] END learning_rate=0.1, max_depth=1, n_estimators=200, subsample=9;, score=nan total time=   0.0s\n",
      "[CV 3/5] END learning_rate=0.1, max_depth=1, n_estimators=200, subsample=9;, score=nan total time=   0.0s\n",
      "[CV 4/5] END learning_rate=0.1, max_depth=1, n_estimators=200, subsample=9;, score=nan total time=   0.0s\n",
      "[CV 3/5] END learning_rate=0.1, max_depth=1, n_estimators=200, subsample=7;, score=nan total time=   0.0s\n",
      "[CV 4/5] END learning_rate=0.1, max_depth=1, n_estimators=200, subsample=7;, score=nan total time=   0.0s\n",
      "[CV 5/5] END learning_rate=0.1, max_depth=1, n_estimators=200, subsample=7;, score=nan total time=   0.0s\n",
      "[CV 1/5] END learning_rate=0.1, max_depth=1, n_estimators=200, subsample=6;, score=nan total time=   0.0s\n",
      "[CV 2/5] END learning_rate=0.1, max_depth=1, n_estimators=200, subsample=6;, score=nan total time=   0.0s\n",
      "[CV 3/5] END learning_rate=0.1, max_depth=1, n_estimators=200, subsample=6;, score=nan total time=   0.0s\n",
      "[CV 4/5] END learning_rate=0.1, max_depth=1, n_estimators=200, subsample=6;, score=nan total time=   0.0s\n",
      "[CV 5/5] END learning_rate=0.1, max_depth=1, n_estimators=200, subsample=6;, score=nan total time=   0.0s\n",
      "[CV 1/5] END learning_rate=0.1, max_depth=1, n_estimators=300, subsample=9;, score=nan total time=   0.0s\n",
      "[CV 2/5] END learning_rate=0.1, max_depth=1, n_estimators=300, subsample=9;, score=nan total time=   0.0s\n",
      "[CV 3/5] END learning_rate=0.1, max_depth=1, n_estimators=300, subsample=9;, score=nan total time=   0.0s\n",
      "[CV 4/5] END learning_rate=0.1, max_depth=1, n_estimators=300, subsample=9;, score=nan total time=   0.0s\n",
      "[CV 5/5] END learning_rate=0.1, max_depth=1, n_estimators=300, subsample=9;, score=nan total time=   0.0s\n",
      "[CV 1/5] END learning_rate=0.1, max_depth=1, n_estimators=300, subsample=8;, score=nan total time=   0.0s\n",
      "[CV 2/5] END learning_rate=0.1, max_depth=1, n_estimators=300, subsample=8;, score=nan total time=   0.0s\n",
      "[CV 3/5] END learning_rate=0.1, max_depth=1, n_estimators=300, subsample=8;, score=nan total time=   0.0s\n",
      "[CV 2/5] END learning_rate=0.2, max_depth=7, n_estimators=100, subsample=6;, score=nan total time=   0.0s\n",
      "[CV 3/5] END learning_rate=0.2, max_depth=7, n_estimators=100, subsample=6;, score=nan total time=   0.0s\n",
      "[CV 4/5] END learning_rate=0.2, max_depth=7, n_estimators=100, subsample=6;, score=nan total time=   0.0s\n",
      "[CV 5/5] END learning_rate=0.2, max_depth=7, n_estimators=100, subsample=6;, score=nan total time=   0.0s\n",
      "[CV 1/5] END learning_rate=0.2, max_depth=7, n_estimators=200, subsample=9;, score=nan total time=   0.0s\n",
      "[CV 2/5] END learning_rate=0.2, max_depth=7, n_estimators=200, subsample=9;, score=nan total time=   0.0s\n",
      "[CV 3/5] END learning_rate=0.2, max_depth=7, n_estimators=200, subsample=9;, score=nan total time=   0.0s\n",
      "[CV 4/5] END learning_rate=0.2, max_depth=7, n_estimators=200, subsample=9;, score=nan total time=   0.0s\n",
      "[CV 5/5] END learning_rate=0.2, max_depth=7, n_estimators=200, subsample=9;, score=nan total time=   0.0s\n",
      "[CV 1/5] END learning_rate=0.2, max_depth=7, n_estimators=200, subsample=8;, score=nan total time=   0.0s\n",
      "[CV 2/5] END learning_rate=0.2, max_depth=7, n_estimators=200, subsample=8;, score=nan total time=   0.0s\n",
      "[CV 3/5] END learning_rate=0.2, max_depth=7, n_estimators=200, subsample=8;, score=nan total time=   0.0s\n",
      "[CV 4/5] END learning_rate=0.2, max_depth=7, n_estimators=200, subsample=8;, score=nan total time=   0.0s\n",
      "[CV 5/5] END learning_rate=0.2, max_depth=7, n_estimators=200, subsample=8;, score=nan total time=   0.0s\n",
      "[CV 1/5] END learning_rate=0.2, max_depth=7, n_estimators=200, subsample=7;, score=nan total time=   0.0s\n",
      "[CV 2/5] END learning_rate=0.2, max_depth=7, n_estimators=200, subsample=7;, score=nan total time=   0.0s\n",
      "[CV 2/5] END learning_rate=0.2, max_depth=8, n_estimators=100, subsample=6;, score=nan total time=   0.0s\n",
      "[CV 3/5] END learning_rate=0.2, max_depth=8, n_estimators=100, subsample=6;, score=nan total time=   0.0s\n",
      "[CV 4/5] END learning_rate=0.2, max_depth=8, n_estimators=100, subsample=6;, score=nan total time=   0.0s\n",
      "[CV 5/5] END learning_rate=0.2, max_depth=8, n_estimators=100, subsample=6;, score=nan total time=   0.0s\n",
      "[CV 1/5] END learning_rate=0.2, max_depth=8, n_estimators=200, subsample=9;, score=nan total time=   0.0s\n",
      "[CV 2/5] END learning_rate=0.2, max_depth=8, n_estimators=200, subsample=9;, score=nan total time=   0.0s\n",
      "[CV 3/5] END learning_rate=0.2, max_depth=8, n_estimators=200, subsample=9;, score=nan total time=   0.0s\n",
      "[CV 4/5] END learning_rate=0.2, max_depth=8, n_estimators=200, subsample=9;, score=nan total time=   0.0s\n",
      "[CV 5/5] END learning_rate=0.2, max_depth=8, n_estimators=200, subsample=9;, score=nan total time=   0.0s\n",
      "[CV 1/5] END learning_rate=0.2, max_depth=8, n_estimators=200, subsample=8;, score=nan total time=   0.0s\n",
      "[CV 2/5] END learning_rate=0.2, max_depth=8, n_estimators=200, subsample=8;, score=nan total time=   0.0s\n",
      "[CV 3/5] END learning_rate=0.2, max_depth=8, n_estimators=200, subsample=8;, score=nan total time=   0.0s\n",
      "[CV 4/5] END learning_rate=0.2, max_depth=8, n_estimators=200, subsample=8;, score=nan total time=   0.0s\n",
      "[CV 5/5] END learning_rate=0.2, max_depth=8, n_estimators=200, subsample=8;, score=nan total time=   0.0s\n",
      "[CV 1/5] END learning_rate=0.2, max_depth=8, n_estimators=200, subsample=7;, score=nan total time=   0.0s\n",
      "[CV 2/5] END learning_rate=0.2, max_depth=8, n_estimators=200, subsample=7;, score=nan total time=   0.0s\n",
      "[CV 1/5] END learning_rate=0.2, max_depth=1, n_estimators=100, subsample=9;, score=nan total time=   0.0s\n",
      "[CV 2/5] END learning_rate=0.2, max_depth=1, n_estimators=100, subsample=9;, score=nan total time=   0.0s\n",
      "[CV 3/5] END learning_rate=0.2, max_depth=1, n_estimators=100, subsample=9;, score=nan total time=   0.0s\n",
      "[CV 4/5] END learning_rate=0.2, max_depth=1, n_estimators=100, subsample=9;, score=nan total time=   0.0s\n",
      "[CV 5/5] END learning_rate=0.2, max_depth=1, n_estimators=100, subsample=9;, score=nan total time=   0.0s\n",
      "[CV 1/5] END learning_rate=0.2, max_depth=1, n_estimators=100, subsample=8;, score=nan total time=   0.0s\n",
      "[CV 2/5] END learning_rate=0.2, max_depth=1, n_estimators=100, subsample=8;, score=nan total time=   0.0s\n",
      "[CV 3/5] END learning_rate=0.2, max_depth=1, n_estimators=100, subsample=8;, score=nan total time=   0.0s\n",
      "[CV 4/5] END learning_rate=0.2, max_depth=1, n_estimators=100, subsample=8;, score=nan total time=   0.0s\n",
      "[CV 5/5] END learning_rate=0.2, max_depth=1, n_estimators=100, subsample=8;, score=nan total time=   0.0s\n",
      "[CV 1/5] END learning_rate=0.2, max_depth=1, n_estimators=100, subsample=7;, score=nan total time=   0.0s\n",
      "[CV 2/5] END learning_rate=0.2, max_depth=1, n_estimators=100, subsample=7;, score=nan total time=   0.0s\n",
      "[CV 3/5] END learning_rate=0.2, max_depth=1, n_estimators=100, subsample=7;, score=nan total time=   0.0s\n",
      "[CV 4/5] END learning_rate=0.2, max_depth=1, n_estimators=100, subsample=7;, score=nan total time=   0.0s\n",
      "[CV 5/5] END learning_rate=0.2, max_depth=1, n_estimators=100, subsample=7;, score=nan total time=   0.0s\n",
      "[CV 1/5] END learning_rate=0.2, max_depth=1, n_estimators=100, subsample=6;, score=nan total time=   0.0s\n",
      "[CV 2/5] END learning_rate=0.2, max_depth=1, n_estimators=100, subsample=6;, score=nan total time=   0.0s\n",
      "[CV 3/5] END learning_rate=0.2, max_depth=1, n_estimators=100, subsample=6;, score=nan total time=   0.0s\n",
      "[CV 4/5] END learning_rate=0.2, max_depth=1, n_estimators=100, subsample=6;, score=nan total time=   0.0s\n",
      "[CV 5/5] END learning_rate=0.2, max_depth=1, n_estimators=100, subsample=6;, score=nan total time=   0.0s\n",
      "[CV 1/5] END learning_rate=0.2, max_depth=1, n_estimators=200, subsample=9;, score=nan total time=   0.0s\n",
      "[CV 2/5] END learning_rate=0.2, max_depth=1, n_estimators=200, subsample=9;, score=nan total time=   0.0s\n",
      "[CV 3/5] END learning_rate=0.2, max_depth=1, n_estimators=200, subsample=9;, score=nan total time=   0.0s\n",
      "[CV 4/5] END learning_rate=0.2, max_depth=1, n_estimators=200, subsample=9;, score=nan total time=   0.0s\n",
      "[CV 5/5] END learning_rate=0.2, max_depth=1, n_estimators=200, subsample=9;, score=nan total time=   0.0s\n",
      "[CV 1/5] END learning_rate=0.2, max_depth=1, n_estimators=200, subsample=8;, score=nan total time=   0.0s\n",
      "[CV 2/5] END learning_rate=0.2, max_depth=1, n_estimators=200, subsample=8;, score=nan total time=   0.0s\n",
      "[CV 3/5] END learning_rate=0.2, max_depth=1, n_estimators=200, subsample=8;, score=nan total time=   0.0s\n",
      "[CV 4/5] END learning_rate=0.2, max_depth=1, n_estimators=200, subsample=8;, score=nan total time=   0.0s\n",
      "[CV 5/5] END learning_rate=0.2, max_depth=1, n_estimators=200, subsample=8;, score=nan total time=   0.0s\n",
      "[CV 1/5] END learning_rate=0.2, max_depth=1, n_estimators=200, subsample=7;, score=nan total time=   0.0s\n",
      "[CV 2/5] END learning_rate=0.2, max_depth=1, n_estimators=200, subsample=7;, score=nan total time=   0.0s\n",
      "[CV 2/5] END learning_rate=0.3, max_depth=9, n_estimators=100, subsample=6;, score=nan total time=   0.0s\n",
      "[CV 3/5] END learning_rate=0.3, max_depth=9, n_estimators=100, subsample=6;, score=nan total time=   0.0s\n",
      "[CV 4/5] END learning_rate=0.3, max_depth=9, n_estimators=100, subsample=6;, score=nan total time=   0.0s\n",
      "[CV 5/5] END learning_rate=0.3, max_depth=9, n_estimators=100, subsample=6;, score=nan total time=   0.0s\n",
      "[CV 1/5] END learning_rate=0.3, max_depth=9, n_estimators=200, subsample=9;, score=nan total time=   0.0s\n",
      "[CV 2/5] END learning_rate=0.3, max_depth=9, n_estimators=200, subsample=9;, score=nan total time=   0.0s\n",
      "[CV 3/5] END learning_rate=0.3, max_depth=9, n_estimators=200, subsample=9;, score=nan total time=   0.0s\n",
      "[CV 4/5] END learning_rate=0.3, max_depth=9, n_estimators=200, subsample=9;, score=nan total time=   0.0s\n",
      "[CV 5/5] END learning_rate=0.3, max_depth=9, n_estimators=200, subsample=9;, score=nan total time=   0.0s\n",
      "[CV 1/5] END learning_rate=0.3, max_depth=9, n_estimators=200, subsample=8;, score=nan total time=   0.0s\n",
      "[CV 2/5] END learning_rate=0.3, max_depth=9, n_estimators=200, subsample=8;, score=nan total time=   0.0s\n",
      "[CV 3/5] END learning_rate=0.3, max_depth=9, n_estimators=200, subsample=8;, score=nan total time=   0.0s\n",
      "[CV 4/5] END learning_rate=0.3, max_depth=9, n_estimators=200, subsample=8;, score=nan total time=   0.0s\n",
      "[CV 5/5] END learning_rate=0.3, max_depth=9, n_estimators=200, subsample=8;, score=nan total time=   0.0s\n",
      "[CV 1/5] END learning_rate=0.3, max_depth=9, n_estimators=200, subsample=7;, score=nan total time=   0.0s\n",
      "[CV 2/5] END learning_rate=0.3, max_depth=9, n_estimators=200, subsample=7;, score=nan total time=   0.0s\n",
      "[CV 3/5] END learning_rate=0.3, max_depth=9, n_estimators=200, subsample=7;, score=nan total time=   0.0s\n",
      "[CV 4/5] END learning_rate=0.3, max_depth=9, n_estimators=200, subsample=7;, score=nan total time=   0.0s\n",
      "[CV 5/5] END learning_rate=0.3, max_depth=9, n_estimators=200, subsample=7;, score=nan total time=   0.0s\n",
      "[CV 1/5] END learning_rate=0.3, max_depth=9, n_estimators=200, subsample=6;, score=nan total time=   0.0s\n",
      "[CV 2/5] END learning_rate=0.3, max_depth=9, n_estimators=200, subsample=6;, score=nan total time=   0.0s\n",
      "[CV 3/5] END learning_rate=0.3, max_depth=9, n_estimators=200, subsample=6;, score=nan total time=   0.0s\n",
      "[CV 4/5] END learning_rate=0.3, max_depth=9, n_estimators=200, subsample=6;, score=nan total time=   0.0s\n",
      "[CV 5/5] END learning_rate=0.3, max_depth=9, n_estimators=200, subsample=6;, score=nan total time=   0.0s\n",
      "[CV 1/5] END learning_rate=0.3, max_depth=9, n_estimators=300, subsample=9;, score=nan total time=   0.0s\n",
      "[CV 2/5] END learning_rate=0.3, max_depth=9, n_estimators=300, subsample=9;, score=nan total time=   0.0s\n",
      "[CV 3/5] END learning_rate=0.3, max_depth=9, n_estimators=300, subsample=9;, score=nan total time=   0.0s\n",
      "[CV 4/5] END learning_rate=0.3, max_depth=9, n_estimators=300, subsample=9;, score=nan total time=   0.0s\n",
      "[CV 5/5] END learning_rate=0.3, max_depth=9, n_estimators=300, subsample=9;, score=nan total time=   0.0s\n",
      "[CV 1/5] END learning_rate=0.3, max_depth=9, n_estimators=300, subsample=8;, score=nan total time=   0.0s\n",
      "[CV 2/5] END learning_rate=0.3, max_depth=9, n_estimators=300, subsample=8;, score=nan total time=   0.0s\n",
      "[CV 3/5] END learning_rate=0.3, max_depth=9, n_estimators=300, subsample=8;, score=nan total time=   0.0s\n",
      "[CV 4/5] END learning_rate=0.4, max_depth=8, n_estimators=100, subsample=9;, score=nan total time=   0.0s\n",
      "[CV 5/5] END learning_rate=0.4, max_depth=8, n_estimators=100, subsample=9;, score=nan total time=   0.0s\n",
      "[CV 1/5] END learning_rate=0.4, max_depth=8, n_estimators=100, subsample=8;, score=nan total time=   0.0s\n",
      "[CV 1/5] END learning_rate=0.4, max_depth=8, n_estimators=100, subsample=6;, score=nan total time=   0.0s\n",
      "[CV 2/5] END learning_rate=0.4, max_depth=8, n_estimators=100, subsample=6;, score=nan total time=   0.0s\n",
      "[CV 1/5] END learning_rate=0.1, max_depth=7, n_estimators=100, subsample=9;, score=nan total time=   0.0s\n",
      "[CV 1/5] END learning_rate=0.1, max_depth=7, n_estimators=200, subsample=8;, score=nan total time=   0.0s\n",
      "[CV 2/5] END learning_rate=0.1, max_depth=7, n_estimators=200, subsample=8;, score=nan total time=   0.0s\n",
      "[CV 5/5] END learning_rate=0.1, max_depth=7, n_estimators=200, subsample=8;, score=nan total time=   0.0s\n",
      "[CV 3/5] END learning_rate=0.1, max_depth=7, n_estimators=200, subsample=7;, score=nan total time=   0.0s\n",
      "[CV 3/5] END learning_rate=0.1, max_depth=7, n_estimators=200, subsample=6;, score=nan total time=   0.0s\n",
      "[CV 5/5] END learning_rate=0.1, max_depth=7, n_estimators=200, subsample=6;, score=nan total time=   0.0s\n",
      "[CV 1/5] END learning_rate=0.1, max_depth=7, n_estimators=300, subsample=9;, score=nan total time=   0.0s\n",
      "[CV 3/5] END learning_rate=0.1, max_depth=7, n_estimators=300, subsample=9;, score=nan total time=   0.0s\n",
      "[CV 5/5] END learning_rate=0.1, max_depth=7, n_estimators=300, subsample=9;, score=nan total time=   0.0s\n",
      "[CV 4/5] END learning_rate=0.1, max_depth=7, n_estimators=300, subsample=8;, score=nan total time=   0.0s\n",
      "[CV 5/5] END learning_rate=0.1, max_depth=7, n_estimators=300, subsample=8;, score=nan total time=   0.0s\n",
      "[CV 3/5] END learning_rate=0.1, max_depth=7, n_estimators=300, subsample=7;, score=nan total time=   0.0s\n",
      "[CV 4/5] END learning_rate=0.1, max_depth=7, n_estimators=300, subsample=7;, score=nan total time=   0.0s\n",
      "[CV 5/5] END learning_rate=0.1, max_depth=7, n_estimators=400, subsample=7;, score=nan total time=   0.0s\n",
      "[CV 1/5] END learning_rate=0.1, max_depth=7, n_estimators=400, subsample=6;, score=nan total time=   0.0s\n",
      "[CV 1/5] END learning_rate=0.1, max_depth=8, n_estimators=100, subsample=9;, score=nan total time=   0.0s\n",
      "[CV 2/5] END learning_rate=0.1, max_depth=8, n_estimators=100, subsample=9;, score=nan total time=   0.0s\n",
      "[CV 3/5] END learning_rate=0.1, max_depth=8, n_estimators=100, subsample=9;, score=nan total time=   0.0s\n",
      "[CV 4/5] END learning_rate=0.1, max_depth=8, n_estimators=100, subsample=9;, score=nan total time=   0.0s\n",
      "[CV 4/5] END learning_rate=0.1, max_depth=8, n_estimators=100, subsample=8;, score=nan total time=   0.0s\n",
      "[CV 5/5] END learning_rate=0.1, max_depth=8, n_estimators=100, subsample=8;, score=nan total time=   0.0s\n",
      "[CV 1/5] END learning_rate=0.1, max_depth=8, n_estimators=100, subsample=7;, score=nan total time=   0.0s\n",
      "[CV 2/5] END learning_rate=0.1, max_depth=8, n_estimators=100, subsample=7;, score=nan total time=   0.0s\n",
      "[CV 1/5] END learning_rate=0.1, max_depth=8, n_estimators=200, subsample=9;, score=nan total time=   0.0s\n",
      "[CV 2/5] END learning_rate=0.1, max_depth=8, n_estimators=200, subsample=9;, score=nan total time=   0.0s\n",
      "[CV 3/5] END learning_rate=0.1, max_depth=8, n_estimators=200, subsample=9;, score=nan total time=   0.0s\n",
      "[CV 4/5] END learning_rate=0.1, max_depth=8, n_estimators=200, subsample=9;, score=nan total time=   0.0s\n",
      "[CV 4/5] END learning_rate=0.1, max_depth=8, n_estimators=200, subsample=8;, score=nan total time=   0.0s\n",
      "[CV 5/5] END learning_rate=0.1, max_depth=8, n_estimators=200, subsample=8;, score=nan total time=   0.0s\n",
      "[CV 1/5] END learning_rate=0.1, max_depth=8, n_estimators=200, subsample=7;, score=nan total time=   0.0s\n",
      "[CV 2/5] END learning_rate=0.1, max_depth=8, n_estimators=200, subsample=7;, score=nan total time=   0.0s\n",
      "[CV 1/5] END learning_rate=0.1, max_depth=8, n_estimators=300, subsample=9;, score=nan total time=   0.0s\n",
      "[CV 2/5] END learning_rate=0.1, max_depth=8, n_estimators=300, subsample=9;, score=nan total time=   0.0s\n",
      "[CV 3/5] END learning_rate=0.1, max_depth=8, n_estimators=300, subsample=9;, score=nan total time=   0.0s\n",
      "[CV 4/5] END learning_rate=0.1, max_depth=8, n_estimators=300, subsample=9;, score=nan total time=   0.0s\n",
      "[CV 4/5] END learning_rate=0.1, max_depth=8, n_estimators=300, subsample=8;, score=nan total time=   0.0s\n",
      "[CV 5/5] END learning_rate=0.1, max_depth=8, n_estimators=300, subsample=8;, score=nan total time=   0.0s\n",
      "[CV 1/5] END learning_rate=0.1, max_depth=8, n_estimators=300, subsample=7;, score=nan total time=   0.0s\n",
      "[CV 2/5] END learning_rate=0.1, max_depth=8, n_estimators=300, subsample=7;, score=nan total time=   0.0s\n",
      "[CV 4/5] END learning_rate=0.1, max_depth=9, n_estimators=100, subsample=8;, score=nan total time=   0.0s\n",
      "[CV 5/5] END learning_rate=0.1, max_depth=9, n_estimators=100, subsample=8;, score=nan total time=   0.0s\n",
      "[CV 1/5] END learning_rate=0.1, max_depth=9, n_estimators=100, subsample=7;, score=nan total time=   0.0s\n",
      "[CV 2/5] END learning_rate=0.1, max_depth=9, n_estimators=100, subsample=7;, score=nan total time=   0.0s\n",
      "[CV 3/5] END learning_rate=0.1, max_depth=9, n_estimators=100, subsample=7;, score=nan total time=   0.0s\n",
      "[CV 4/5] END learning_rate=0.1, max_depth=9, n_estimators=100, subsample=7;, score=nan total time=   0.0s\n",
      "[CV 5/5] END learning_rate=0.1, max_depth=9, n_estimators=100, subsample=7;, score=nan total time=   0.0s\n",
      "[CV 1/5] END learning_rate=0.1, max_depth=9, n_estimators=100, subsample=6;, score=nan total time=   0.0s\n",
      "[CV 4/5] END learning_rate=0.1, max_depth=9, n_estimators=300, subsample=8;, score=nan total time=   0.0s\n",
      "[CV 5/5] END learning_rate=0.1, max_depth=9, n_estimators=300, subsample=8;, score=nan total time=   0.0s\n",
      "[CV 1/5] END learning_rate=0.1, max_depth=9, n_estimators=300, subsample=7;, score=nan total time=   0.0s\n",
      "[CV 2/5] END learning_rate=0.1, max_depth=9, n_estimators=300, subsample=7;, score=nan total time=   0.0s\n",
      "[CV 3/5] END learning_rate=0.1, max_depth=9, n_estimators=300, subsample=7;, score=nan total time=   0.0s\n",
      "[CV 4/5] END learning_rate=0.1, max_depth=9, n_estimators=300, subsample=7;, score=nan total time=   0.0s\n",
      "[CV 5/5] END learning_rate=0.1, max_depth=9, n_estimators=300, subsample=7;, score=nan total time=   0.0s\n",
      "[CV 1/5] END learning_rate=0.1, max_depth=9, n_estimators=300, subsample=6;, score=nan total time=   0.0s\n",
      "[CV 1/5] END learning_rate=0.1, max_depth=1, n_estimators=100, subsample=9;, score=nan total time=   0.0s\n",
      "[CV 2/5] END learning_rate=0.1, max_depth=1, n_estimators=100, subsample=9;, score=nan total time=   0.0s\n",
      "[CV 3/5] END learning_rate=0.1, max_depth=1, n_estimators=100, subsample=9;, score=nan total time=   0.0s\n",
      "[CV 4/5] END learning_rate=0.1, max_depth=1, n_estimators=100, subsample=9;, score=nan total time=   0.0s\n",
      "[CV 5/5] END learning_rate=0.1, max_depth=1, n_estimators=100, subsample=9;, score=nan total time=   0.0s\n",
      "[CV 1/5] END learning_rate=0.1, max_depth=1, n_estimators=100, subsample=8;, score=nan total time=   0.0s\n",
      "[CV 2/5] END learning_rate=0.1, max_depth=1, n_estimators=100, subsample=8;, score=nan total time=   0.0s\n",
      "[CV 3/5] END learning_rate=0.1, max_depth=1, n_estimators=100, subsample=8;, score=nan total time=   0.0s\n",
      "[CV 1/5] END learning_rate=0.2, max_depth=7, n_estimators=100, subsample=9;, score=nan total time=   0.0s\n",
      "[CV 2/5] END learning_rate=0.2, max_depth=7, n_estimators=100, subsample=9;, score=nan total time=   0.0s\n",
      "[CV 3/5] END learning_rate=0.2, max_depth=7, n_estimators=100, subsample=9;, score=nan total time=   0.0s\n",
      "[CV 4/5] END learning_rate=0.2, max_depth=7, n_estimators=100, subsample=9;, score=nan total time=   0.0s\n",
      "[CV 5/5] END learning_rate=0.2, max_depth=7, n_estimators=100, subsample=9;, score=nan total time=   0.0s\n",
      "[CV 1/5] END learning_rate=0.2, max_depth=7, n_estimators=100, subsample=8;, score=nan total time=   0.0s\n",
      "[CV 2/5] END learning_rate=0.2, max_depth=7, n_estimators=100, subsample=8;, score=nan total time=   0.0s\n",
      "[CV 3/5] END learning_rate=0.2, max_depth=7, n_estimators=100, subsample=8;, score=nan total time=   0.0s\n",
      "[CV 4/5] END learning_rate=0.2, max_depth=7, n_estimators=100, subsample=8;, score=nan total time=   0.0s\n",
      "[CV 5/5] END learning_rate=0.2, max_depth=7, n_estimators=100, subsample=8;, score=nan total time=   0.0s\n",
      "[CV 1/5] END learning_rate=0.2, max_depth=7, n_estimators=100, subsample=7;, score=nan total time=   0.0s\n",
      "[CV 2/5] END learning_rate=0.2, max_depth=7, n_estimators=100, subsample=7;, score=nan total time=   0.0s\n",
      "[CV 3/5] END learning_rate=0.2, max_depth=7, n_estimators=100, subsample=7;, score=nan total time=   0.0s\n",
      "[CV 4/5] END learning_rate=0.2, max_depth=7, n_estimators=100, subsample=7;, score=nan total time=   0.0s\n",
      "[CV 5/5] END learning_rate=0.2, max_depth=7, n_estimators=100, subsample=7;, score=nan total time=   0.0s\n",
      "[CV 1/5] END learning_rate=0.2, max_depth=7, n_estimators=100, subsample=6;, score=nan total time=   0.0s\n",
      "[CV 4/5] END learning_rate=0.2, max_depth=8, n_estimators=300, subsample=8;, score=nan total time=   0.0s\n",
      "[CV 5/5] END learning_rate=0.2, max_depth=8, n_estimators=300, subsample=8;, score=nan total time=   0.0s\n",
      "[CV 1/5] END learning_rate=0.2, max_depth=8, n_estimators=300, subsample=7;, score=nan total time=   0.0s\n",
      "[CV 2/5] END learning_rate=0.2, max_depth=8, n_estimators=300, subsample=7;, score=nan total time=   0.0s\n",
      "[CV 3/5] END learning_rate=0.2, max_depth=8, n_estimators=300, subsample=7;, score=nan total time=   0.0s\n",
      "[CV 4/5] END learning_rate=0.2, max_depth=8, n_estimators=300, subsample=7;, score=nan total time=   0.0s\n",
      "[CV 5/5] END learning_rate=0.2, max_depth=8, n_estimators=300, subsample=7;, score=nan total time=   0.0s\n",
      "[CV 1/5] END learning_rate=0.2, max_depth=8, n_estimators=300, subsample=6;, score=nan total time=   0.0s\n",
      "[CV 2/5] END learning_rate=0.2, max_depth=8, n_estimators=300, subsample=6;, score=nan total time=   0.0s\n",
      "[CV 3/5] END learning_rate=0.2, max_depth=8, n_estimators=300, subsample=6;, score=nan total time=   0.0s\n",
      "[CV 4/5] END learning_rate=0.2, max_depth=8, n_estimators=300, subsample=6;, score=nan total time=   0.0s\n",
      "[CV 5/5] END learning_rate=0.2, max_depth=8, n_estimators=300, subsample=6;, score=nan total time=   0.0s\n",
      "[CV 1/5] END learning_rate=0.2, max_depth=8, n_estimators=400, subsample=9;, score=nan total time=   0.0s\n",
      "[CV 2/5] END learning_rate=0.2, max_depth=8, n_estimators=400, subsample=9;, score=nan total time=   0.0s\n",
      "[CV 3/5] END learning_rate=0.2, max_depth=8, n_estimators=400, subsample=9;, score=nan total time=   0.0s\n",
      "[CV 4/5] END learning_rate=0.2, max_depth=8, n_estimators=400, subsample=9;, score=nan total time=   0.0s\n",
      "[CV 5/5] END learning_rate=0.2, max_depth=1, n_estimators=400, subsample=9;, score=nan total time=   0.0s\n",
      "[CV 1/5] END learning_rate=0.2, max_depth=1, n_estimators=400, subsample=8;, score=nan total time=   0.0s\n",
      "[CV 2/5] END learning_rate=0.2, max_depth=1, n_estimators=400, subsample=8;, score=nan total time=   0.0s\n",
      "[CV 3/5] END learning_rate=0.2, max_depth=1, n_estimators=400, subsample=8;, score=nan total time=   0.0s\n",
      "[CV 4/5] END learning_rate=0.2, max_depth=1, n_estimators=400, subsample=8;, score=nan total time=   0.0s\n",
      "[CV 5/5] END learning_rate=0.2, max_depth=1, n_estimators=400, subsample=8;, score=nan total time=   0.0s\n",
      "[CV 1/5] END learning_rate=0.2, max_depth=1, n_estimators=400, subsample=7;, score=nan total time=   0.0s\n",
      "[CV 2/5] END learning_rate=0.2, max_depth=1, n_estimators=400, subsample=7;, score=nan total time=   0.0s\n",
      "[CV 3/5] END learning_rate=0.2, max_depth=1, n_estimators=400, subsample=7;, score=nan total time=   0.0s\n",
      "[CV 4/5] END learning_rate=0.2, max_depth=1, n_estimators=400, subsample=7;, score=nan total time=   0.0s\n",
      "[CV 5/5] END learning_rate=0.2, max_depth=1, n_estimators=400, subsample=7;, score=nan total time=   0.0s\n",
      "[CV 1/5] END learning_rate=0.2, max_depth=1, n_estimators=400, subsample=6;, score=nan total time=   0.0s\n",
      "[CV 2/5] END learning_rate=0.2, max_depth=1, n_estimators=400, subsample=6;, score=nan total time=   0.0s\n",
      "[CV 3/5] END learning_rate=0.2, max_depth=1, n_estimators=400, subsample=6;, score=nan total time=   0.0s\n",
      "[CV 4/5] END learning_rate=0.2, max_depth=1, n_estimators=400, subsample=6;, score=nan total time=   0.0s\n",
      "[CV 5/5] END learning_rate=0.2, max_depth=1, n_estimators=400, subsample=6;, score=nan total time=   0.0s\n",
      "[CV 1/5] END learning_rate=0.3, max_depth=7, n_estimators=100, subsample=9;, score=nan total time=   0.0s\n",
      "[CV 2/5] END learning_rate=0.3, max_depth=7, n_estimators=100, subsample=9;, score=nan total time=   0.0s\n",
      "[CV 3/5] END learning_rate=0.3, max_depth=7, n_estimators=100, subsample=9;, score=nan total time=   0.0s\n",
      "[CV 4/5] END learning_rate=0.3, max_depth=7, n_estimators=100, subsample=9;, score=nan total time=   0.0s\n",
      "[CV 5/5] END learning_rate=0.3, max_depth=7, n_estimators=100, subsample=9;, score=nan total time=   0.0s\n",
      "[CV 1/5] END learning_rate=0.3, max_depth=7, n_estimators=100, subsample=8;, score=nan total time=   0.0s\n",
      "[CV 2/5] END learning_rate=0.3, max_depth=7, n_estimators=100, subsample=8;, score=nan total time=   0.0s\n",
      "[CV 3/5] END learning_rate=0.3, max_depth=7, n_estimators=100, subsample=8;, score=nan total time=   0.0s\n",
      "[CV 4/5] END learning_rate=0.3, max_depth=7, n_estimators=100, subsample=8;, score=nan total time=   0.0s\n",
      "[CV 5/5] END learning_rate=0.3, max_depth=7, n_estimators=100, subsample=8;, score=nan total time=   0.0s\n",
      "[CV 1/5] END learning_rate=0.3, max_depth=7, n_estimators=100, subsample=7;, score=nan total time=   0.0s\n",
      "[CV 2/5] END learning_rate=0.3, max_depth=7, n_estimators=100, subsample=7;, score=nan total time=   0.0s\n",
      "[CV 3/5] END learning_rate=0.3, max_depth=7, n_estimators=100, subsample=7;, score=nan total time=   0.0s\n",
      "[CV 4/5] END learning_rate=0.3, max_depth=7, n_estimators=100, subsample=7;, score=nan total time=   0.0s\n",
      "[CV 5/5] END learning_rate=0.3, max_depth=7, n_estimators=100, subsample=7;, score=nan total time=   0.0s\n",
      "[CV 1/5] END learning_rate=0.3, max_depth=7, n_estimators=100, subsample=6;, score=nan total time=   0.0s\n",
      "[CV 1/5] END learning_rate=0.3, max_depth=1, n_estimators=100, subsample=9;, score=nan total time=   0.0s\n",
      "[CV 2/5] END learning_rate=0.3, max_depth=1, n_estimators=100, subsample=9;, score=nan total time=   0.0s\n",
      "[CV 3/5] END learning_rate=0.3, max_depth=1, n_estimators=100, subsample=9;, score=nan total time=   0.0s\n",
      "[CV 4/5] END learning_rate=0.3, max_depth=1, n_estimators=100, subsample=9;, score=nan total time=   0.0s\n",
      "[CV 5/5] END learning_rate=0.3, max_depth=1, n_estimators=100, subsample=9;, score=nan total time=   0.0s\n",
      "[CV 1/5] END learning_rate=0.3, max_depth=1, n_estimators=100, subsample=8;, score=nan total time=   0.0s\n",
      "[CV 2/5] END learning_rate=0.3, max_depth=1, n_estimators=100, subsample=8;, score=nan total time=   0.0s\n",
      "[CV 3/5] END learning_rate=0.3, max_depth=1, n_estimators=100, subsample=8;, score=nan total time=   0.0s\n",
      "[CV 4/5] END learning_rate=0.3, max_depth=1, n_estimators=100, subsample=8;, score=nan total time=   0.0s\n",
      "[CV 5/5] END learning_rate=0.3, max_depth=1, n_estimators=100, subsample=8;, score=nan total time=   0.0s\n",
      "[CV 1/5] END learning_rate=0.3, max_depth=1, n_estimators=100, subsample=7;, score=nan total time=   0.0s\n",
      "[CV 2/5] END learning_rate=0.3, max_depth=1, n_estimators=100, subsample=7;, score=nan total time=   0.0s\n",
      "[CV 3/5] END learning_rate=0.3, max_depth=1, n_estimators=100, subsample=7;, score=nan total time=   0.0s\n",
      "[CV 4/5] END learning_rate=0.3, max_depth=1, n_estimators=100, subsample=7;, score=nan total time=   0.0s\n",
      "[CV 5/5] END learning_rate=0.3, max_depth=1, n_estimators=100, subsample=7;, score=nan total time=   0.0s\n",
      "[CV 1/5] END learning_rate=0.3, max_depth=1, n_estimators=100, subsample=6;, score=nan total time=   0.0s\n",
      "[CV 2/5] END learning_rate=0.3, max_depth=1, n_estimators=100, subsample=6;, score=nan total time=   0.0s\n",
      "[CV 3/5] END learning_rate=0.3, max_depth=1, n_estimators=100, subsample=6;, score=nan total time=   0.0s\n",
      "[CV 4/5] END learning_rate=0.3, max_depth=1, n_estimators=100, subsample=6;, score=nan total time=   0.0s\n",
      "[CV 5/5] END learning_rate=0.3, max_depth=1, n_estimators=100, subsample=6;, score=nan total time=   0.0s\n",
      "[CV 1/5] END learning_rate=0.3, max_depth=1, n_estimators=200, subsample=9;, score=nan total time=   0.0s\n",
      "[CV 2/5] END learning_rate=0.3, max_depth=1, n_estimators=200, subsample=9;, score=nan total time=   0.0s\n",
      "[CV 3/5] END learning_rate=0.3, max_depth=1, n_estimators=200, subsample=9;, score=nan total time=   0.0s\n",
      "[CV 4/5] END learning_rate=0.3, max_depth=1, n_estimators=200, subsample=9;, score=nan total time=   0.0s\n",
      "[CV 5/5] END learning_rate=0.3, max_depth=1, n_estimators=200, subsample=9;, score=nan total time=   0.0s\n",
      "[CV 1/5] END learning_rate=0.3, max_depth=1, n_estimators=200, subsample=8;, score=nan total time=   0.0s\n",
      "[CV 2/5] END learning_rate=0.1, max_depth=7, n_estimators=100, subsample=8;, score=nan total time=   0.0s\n",
      "[CV 1/5] END learning_rate=0.1, max_depth=9, n_estimators=100, subsample=9;, score=nan total time=   0.0s\n",
      "[CV 2/5] END learning_rate=0.1, max_depth=9, n_estimators=100, subsample=9;, score=nan total time=   0.0s\n",
      "[CV 3/5] END learning_rate=0.1, max_depth=9, n_estimators=100, subsample=9;, score=nan total time=   0.0s\n",
      "[CV 4/5] END learning_rate=0.1, max_depth=9, n_estimators=100, subsample=9;, score=nan total time=   0.0s\n",
      "[CV 5/5] END learning_rate=0.1, max_depth=9, n_estimators=100, subsample=9;, score=nan total time=   0.0s\n",
      "[CV 1/5] END learning_rate=0.1, max_depth=9, n_estimators=100, subsample=8;, score=nan total time=   0.0s\n",
      "[CV 2/5] END learning_rate=0.1, max_depth=9, n_estimators=100, subsample=8;, score=nan total time=   0.0s\n",
      "[CV 3/5] END learning_rate=0.1, max_depth=9, n_estimators=100, subsample=8;, score=nan total time=   0.0s\n",
      "[CV 5/5] END learning_rate=0.1, max_depth=9, n_estimators=200, subsample=9;, score=nan total time=   0.0s\n",
      "[CV 1/5] END learning_rate=0.1, max_depth=9, n_estimators=200, subsample=8;, score=nan total time=   0.0s\n",
      "[CV 2/5] END learning_rate=0.1, max_depth=9, n_estimators=200, subsample=8;, score=nan total time=   0.0s\n",
      "[CV 3/5] END learning_rate=0.1, max_depth=9, n_estimators=200, subsample=8;, score=nan total time=   0.0s\n",
      "[CV 4/5] END learning_rate=0.1, max_depth=9, n_estimators=200, subsample=8;, score=nan total time=   0.0s\n",
      "[CV 5/5] END learning_rate=0.1, max_depth=9, n_estimators=200, subsample=8;, score=nan total time=   0.0s\n",
      "[CV 1/5] END learning_rate=0.1, max_depth=9, n_estimators=200, subsample=7;, score=nan total time=   0.0s\n",
      "[CV 2/5] END learning_rate=0.1, max_depth=9, n_estimators=200, subsample=7;, score=nan total time=   0.0s\n",
      "[CV 4/5] END learning_rate=0.1, max_depth=1, n_estimators=100, subsample=8;, score=nan total time=   0.0s\n",
      "[CV 5/5] END learning_rate=0.1, max_depth=1, n_estimators=100, subsample=8;, score=nan total time=   0.0s\n",
      "[CV 1/5] END learning_rate=0.1, max_depth=1, n_estimators=100, subsample=7;, score=nan total time=   0.0s\n",
      "[CV 2/5] END learning_rate=0.1, max_depth=1, n_estimators=100, subsample=7;, score=nan total time=   0.0s\n",
      "[CV 3/5] END learning_rate=0.1, max_depth=1, n_estimators=100, subsample=7;, score=nan total time=   0.0s\n",
      "[CV 4/5] END learning_rate=0.1, max_depth=1, n_estimators=100, subsample=7;, score=nan total time=   0.0s\n",
      "[CV 5/5] END learning_rate=0.1, max_depth=1, n_estimators=100, subsample=7;, score=nan total time=   0.0s\n",
      "[CV 1/5] END learning_rate=0.1, max_depth=1, n_estimators=100, subsample=6;, score=nan total time=   0.0s\n",
      "[CV 5/5] END learning_rate=0.1, max_depth=1, n_estimators=400, subsample=9;, score=nan total time=   0.0s\n",
      "[CV 1/5] END learning_rate=0.1, max_depth=1, n_estimators=400, subsample=8;, score=nan total time=   0.0s\n",
      "[CV 2/5] END learning_rate=0.1, max_depth=1, n_estimators=400, subsample=8;, score=nan total time=   0.0s\n",
      "[CV 3/5] END learning_rate=0.1, max_depth=1, n_estimators=400, subsample=8;, score=nan total time=   0.0s\n",
      "[CV 4/5] END learning_rate=0.1, max_depth=1, n_estimators=400, subsample=8;, score=nan total time=   0.0s\n",
      "[CV 5/5] END learning_rate=0.1, max_depth=1, n_estimators=400, subsample=8;, score=nan total time=   0.0s\n",
      "[CV 1/5] END learning_rate=0.1, max_depth=1, n_estimators=400, subsample=7;, score=nan total time=   0.0s\n",
      "[CV 2/5] END learning_rate=0.1, max_depth=1, n_estimators=400, subsample=7;, score=nan total time=   0.0s\n",
      "[CV 3/5] END learning_rate=0.1, max_depth=1, n_estimators=400, subsample=7;, score=nan total time=   0.0s\n",
      "[CV 4/5] END learning_rate=0.1, max_depth=1, n_estimators=400, subsample=7;, score=nan total time=   0.0s\n",
      "[CV 5/5] END learning_rate=0.1, max_depth=1, n_estimators=400, subsample=7;, score=nan total time=   0.0s\n",
      "[CV 1/5] END learning_rate=0.1, max_depth=1, n_estimators=400, subsample=6;, score=nan total time=   0.0s\n",
      "[CV 2/5] END learning_rate=0.1, max_depth=1, n_estimators=400, subsample=6;, score=nan total time=   0.0s\n",
      "[CV 3/5] END learning_rate=0.1, max_depth=1, n_estimators=400, subsample=6;, score=nan total time=   0.0s\n",
      "[CV 4/5] END learning_rate=0.1, max_depth=1, n_estimators=400, subsample=6;, score=nan total time=   0.0s\n",
      "[CV 5/5] END learning_rate=0.1, max_depth=1, n_estimators=400, subsample=6;, score=nan total time=   0.0s\n",
      "[CV 4/5] END learning_rate=0.2, max_depth=7, n_estimators=300, subsample=8;, score=nan total time=   0.0s\n",
      "[CV 5/5] END learning_rate=0.2, max_depth=7, n_estimators=300, subsample=8;, score=nan total time=   0.0s\n",
      "[CV 1/5] END learning_rate=0.2, max_depth=7, n_estimators=300, subsample=7;, score=nan total time=   0.0s\n",
      "[CV 2/5] END learning_rate=0.2, max_depth=7, n_estimators=300, subsample=7;, score=nan total time=   0.0s\n",
      "[CV 3/5] END learning_rate=0.2, max_depth=7, n_estimators=300, subsample=7;, score=nan total time=   0.0s\n",
      "[CV 4/5] END learning_rate=0.2, max_depth=7, n_estimators=300, subsample=7;, score=nan total time=   0.0s\n",
      "[CV 5/5] END learning_rate=0.2, max_depth=7, n_estimators=300, subsample=7;, score=nan total time=   0.0s\n",
      "[CV 1/5] END learning_rate=0.2, max_depth=7, n_estimators=300, subsample=6;, score=nan total time=   0.0s\n",
      "[CV 2/5] END learning_rate=0.2, max_depth=7, n_estimators=300, subsample=6;, score=nan total time=   0.0s\n",
      "[CV 3/5] END learning_rate=0.2, max_depth=7, n_estimators=300, subsample=6;, score=nan total time=   0.0s\n",
      "[CV 4/5] END learning_rate=0.2, max_depth=7, n_estimators=300, subsample=6;, score=nan total time=   0.0s\n",
      "[CV 5/5] END learning_rate=0.2, max_depth=7, n_estimators=300, subsample=6;, score=nan total time=   0.0s\n",
      "[CV 1/5] END learning_rate=0.2, max_depth=7, n_estimators=400, subsample=9;, score=nan total time=   0.0s\n",
      "[CV 2/5] END learning_rate=0.2, max_depth=7, n_estimators=400, subsample=9;, score=nan total time=   0.0s\n",
      "[CV 3/5] END learning_rate=0.2, max_depth=7, n_estimators=400, subsample=9;, score=nan total time=   0.0s\n",
      "[CV 4/5] END learning_rate=0.2, max_depth=7, n_estimators=400, subsample=9;, score=nan total time=   0.0s\n",
      "[CV 1/5] END learning_rate=0.2, max_depth=9, n_estimators=100, subsample=9;, score=nan total time=   0.0s\n",
      "[CV 2/5] END learning_rate=0.2, max_depth=9, n_estimators=100, subsample=9;, score=nan total time=   0.0s\n",
      "[CV 3/5] END learning_rate=0.2, max_depth=9, n_estimators=100, subsample=9;, score=nan total time=   0.0s\n",
      "[CV 4/5] END learning_rate=0.2, max_depth=9, n_estimators=100, subsample=9;, score=nan total time=   0.0s\n",
      "[CV 5/5] END learning_rate=0.2, max_depth=9, n_estimators=100, subsample=9;, score=nan total time=   0.0s\n",
      "[CV 1/5] END learning_rate=0.2, max_depth=9, n_estimators=100, subsample=8;, score=nan total time=   0.0s\n",
      "[CV 2/5] END learning_rate=0.2, max_depth=9, n_estimators=100, subsample=8;, score=nan total time=   0.0s\n",
      "[CV 3/5] END learning_rate=0.2, max_depth=9, n_estimators=100, subsample=8;, score=nan total time=   0.0s\n",
      "[CV 4/5] END learning_rate=0.2, max_depth=9, n_estimators=100, subsample=8;, score=nan total time=   0.0s\n",
      "[CV 5/5] END learning_rate=0.2, max_depth=9, n_estimators=100, subsample=8;, score=nan total time=   0.0s\n",
      "[CV 1/5] END learning_rate=0.2, max_depth=9, n_estimators=100, subsample=7;, score=nan total time=   0.0s\n",
      "[CV 2/5] END learning_rate=0.2, max_depth=9, n_estimators=100, subsample=7;, score=nan total time=   0.0s\n",
      "[CV 3/5] END learning_rate=0.2, max_depth=9, n_estimators=100, subsample=7;, score=nan total time=   0.0s\n",
      "[CV 4/5] END learning_rate=0.2, max_depth=9, n_estimators=100, subsample=7;, score=nan total time=   0.0s\n",
      "[CV 5/5] END learning_rate=0.2, max_depth=9, n_estimators=100, subsample=7;, score=nan total time=   0.0s\n",
      "[CV 1/5] END learning_rate=0.2, max_depth=9, n_estimators=100, subsample=6;, score=nan total time=   0.0s\n",
      "[CV 2/5] END learning_rate=0.3, max_depth=7, n_estimators=100, subsample=6;, score=nan total time=   0.0s\n",
      "[CV 3/5] END learning_rate=0.3, max_depth=7, n_estimators=100, subsample=6;, score=nan total time=   0.0s\n",
      "[CV 4/5] END learning_rate=0.3, max_depth=7, n_estimators=100, subsample=6;, score=nan total time=   0.0s\n",
      "[CV 5/5] END learning_rate=0.3, max_depth=7, n_estimators=100, subsample=6;, score=nan total time=   0.0s\n",
      "[CV 1/5] END learning_rate=0.3, max_depth=7, n_estimators=200, subsample=9;, score=nan total time=   0.0s\n",
      "[CV 2/5] END learning_rate=0.3, max_depth=7, n_estimators=200, subsample=9;, score=nan total time=   0.0s\n",
      "[CV 3/5] END learning_rate=0.3, max_depth=7, n_estimators=200, subsample=9;, score=nan total time=   0.0s\n",
      "[CV 4/5] END learning_rate=0.3, max_depth=7, n_estimators=200, subsample=9;, score=nan total time=   0.0s\n",
      "[CV 5/5] END learning_rate=0.3, max_depth=7, n_estimators=200, subsample=9;, score=nan total time=   0.0s\n",
      "[CV 1/5] END learning_rate=0.3, max_depth=7, n_estimators=200, subsample=8;, score=nan total time=   0.0s\n",
      "[CV 2/5] END learning_rate=0.3, max_depth=7, n_estimators=200, subsample=8;, score=nan total time=   0.0s\n",
      "[CV 3/5] END learning_rate=0.3, max_depth=7, n_estimators=200, subsample=8;, score=nan total time=   0.0s\n",
      "[CV 4/5] END learning_rate=0.3, max_depth=7, n_estimators=200, subsample=8;, score=nan total time=   0.0s\n",
      "[CV 5/5] END learning_rate=0.3, max_depth=7, n_estimators=200, subsample=8;, score=nan total time=   0.0s\n",
      "[CV 1/5] END learning_rate=0.3, max_depth=7, n_estimators=200, subsample=7;, score=nan total time=   0.0s\n",
      "[CV 2/5] END learning_rate=0.3, max_depth=7, n_estimators=200, subsample=7;, score=nan total time=   0.0s\n",
      "[CV 3/5] END learning_rate=0.3, max_depth=7, n_estimators=200, subsample=7;, score=nan total time=   0.0s\n",
      "[CV 4/5] END learning_rate=0.3, max_depth=7, n_estimators=200, subsample=7;, score=nan total time=   0.0s\n",
      "[CV 5/5] END learning_rate=0.3, max_depth=7, n_estimators=200, subsample=7;, score=nan total time=   0.0s\n",
      "[CV 1/5] END learning_rate=0.3, max_depth=7, n_estimators=200, subsample=6;, score=nan total time=   0.0s\n",
      "[CV 2/5] END learning_rate=0.3, max_depth=7, n_estimators=200, subsample=6;, score=nan total time=   0.0s\n",
      "[CV 3/5] END learning_rate=0.3, max_depth=7, n_estimators=200, subsample=6;, score=nan total time=   0.0s\n",
      "[CV 4/5] END learning_rate=0.3, max_depth=7, n_estimators=200, subsample=6;, score=nan total time=   0.0s\n",
      "[CV 5/5] END learning_rate=0.3, max_depth=7, n_estimators=200, subsample=6;, score=nan total time=   0.0s\n",
      "[CV 1/5] END learning_rate=0.3, max_depth=7, n_estimators=300, subsample=9;, score=nan total time=   0.0s\n",
      "[CV 2/5] END learning_rate=0.3, max_depth=7, n_estimators=300, subsample=9;, score=nan total time=   0.0s\n",
      "[CV 3/5] END learning_rate=0.3, max_depth=7, n_estimators=300, subsample=9;, score=nan total time=   0.0s\n",
      "[CV 4/5] END learning_rate=0.3, max_depth=7, n_estimators=300, subsample=9;, score=nan total time=   0.0s\n",
      "[CV 5/5] END learning_rate=0.3, max_depth=7, n_estimators=300, subsample=9;, score=nan total time=   0.0s\n",
      "[CV 1/5] END learning_rate=0.3, max_depth=7, n_estimators=300, subsample=8;, score=nan total time=   0.0s\n",
      "[CV 2/5] END learning_rate=0.3, max_depth=7, n_estimators=300, subsample=8;, score=nan total time=   0.0s\n",
      "[CV 3/5] END learning_rate=0.3, max_depth=7, n_estimators=300, subsample=8;, score=nan total time=   0.0s\n",
      "[CV 3/5] END learning_rate=0.3, max_depth=1, n_estimators=200, subsample=7;, score=nan total time=   0.0s\n",
      "[CV 4/5] END learning_rate=0.3, max_depth=1, n_estimators=200, subsample=7;, score=nan total time=   0.0s\n",
      "[CV 5/5] END learning_rate=0.3, max_depth=1, n_estimators=200, subsample=7;, score=nan total time=   0.0s\n",
      "[CV 1/5] END learning_rate=0.3, max_depth=1, n_estimators=200, subsample=6;, score=nan total time=   0.0s\n",
      "[CV 2/5] END learning_rate=0.3, max_depth=1, n_estimators=200, subsample=6;, score=nan total time=   0.0s\n",
      "[CV 3/5] END learning_rate=0.3, max_depth=1, n_estimators=200, subsample=6;, score=nan total time=   0.0s\n",
      "[CV 4/5] END learning_rate=0.3, max_depth=1, n_estimators=200, subsample=6;, score=nan total time=   0.0s\n",
      "[CV 5/5] END learning_rate=0.3, max_depth=1, n_estimators=200, subsample=6;, score=nan total time=   0.0s\n",
      "[CV 1/5] END learning_rate=0.3, max_depth=1, n_estimators=300, subsample=9;, score=nan total time=   0.0s\n",
      "[CV 2/5] END learning_rate=0.3, max_depth=1, n_estimators=300, subsample=9;, score=nan total time=   0.0s\n",
      "[CV 3/5] END learning_rate=0.3, max_depth=1, n_estimators=300, subsample=9;, score=nan total time=   0.0s\n",
      "[CV 4/5] END learning_rate=0.3, max_depth=1, n_estimators=300, subsample=9;, score=nan total time=   0.0s\n",
      "[CV 5/5] END learning_rate=0.3, max_depth=1, n_estimators=300, subsample=9;, score=nan total time=   0.0s\n",
      "[CV 1/5] END learning_rate=0.3, max_depth=1, n_estimators=300, subsample=8;, score=nan total time=   0.0s\n",
      "[CV 2/5] END learning_rate=0.3, max_depth=1, n_estimators=300, subsample=8;, score=nan total time=   0.0s\n",
      "[CV 3/5] END learning_rate=0.3, max_depth=1, n_estimators=300, subsample=8;, score=nan total time=   0.0s\n",
      "[CV 4/5] END learning_rate=0.3, max_depth=1, n_estimators=300, subsample=8;, score=nan total time=   0.0s\n",
      "[CV 5/5] END learning_rate=0.3, max_depth=1, n_estimators=300, subsample=8;, score=nan total time=   0.0s\n",
      "[CV 1/5] END learning_rate=0.3, max_depth=1, n_estimators=300, subsample=7;, score=nan total time=   0.0s\n",
      "[CV 2/5] END learning_rate=0.3, max_depth=1, n_estimators=300, subsample=7;, score=nan total time=   0.0s\n",
      "[CV 3/5] END learning_rate=0.3, max_depth=1, n_estimators=300, subsample=7;, score=nan total time=   0.0s\n",
      "[CV 4/5] END learning_rate=0.3, max_depth=1, n_estimators=300, subsample=7;, score=nan total time=   0.0s\n",
      "[CV 5/5] END learning_rate=0.3, max_depth=1, n_estimators=300, subsample=7;, score=nan total time=   0.0s\n",
      "[CV 1/5] END learning_rate=0.3, max_depth=1, n_estimators=300, subsample=6;, score=nan total time=   0.0s\n",
      "[CV 2/5] END learning_rate=0.3, max_depth=1, n_estimators=300, subsample=6;, score=nan total time=   0.0s\n",
      "[CV 3/5] END learning_rate=0.3, max_depth=1, n_estimators=300, subsample=6;, score=nan total time=   0.0s\n",
      "[CV 4/5] END learning_rate=0.3, max_depth=1, n_estimators=300, subsample=6;, score=nan total time=   0.0s\n",
      "[CV 5/5] END learning_rate=0.3, max_depth=1, n_estimators=300, subsample=6;, score=nan total time=   0.0s\n",
      "[CV 1/5] END learning_rate=0.3, max_depth=1, n_estimators=400, subsample=9;, score=nan total time=   0.0s\n",
      "[CV 2/5] END learning_rate=0.3, max_depth=1, n_estimators=400, subsample=9;, score=nan total time=   0.0s\n",
      "[CV 3/5] END learning_rate=0.3, max_depth=1, n_estimators=400, subsample=9;, score=nan total time=   0.0s\n",
      "[CV 4/5] END learning_rate=0.3, max_depth=1, n_estimators=400, subsample=9;, score=nan total time=   0.0s\n",
      "[CV 2/5] END learning_rate=0.4, max_depth=8, n_estimators=200, subsample=9;, score=nan total time=   0.0s\n",
      "[CV 3/5] END learning_rate=0.4, max_depth=8, n_estimators=200, subsample=9;, score=nan total time=   0.0s\n",
      "[CV 4/5] END learning_rate=0.4, max_depth=8, n_estimators=200, subsample=9;, score=nan total time=   0.0s\n",
      "[CV 1/5] END learning_rate=0.4, max_depth=8, n_estimators=300, subsample=8;, score=nan total time=   0.0s\n",
      "[CV 2/5] END learning_rate=0.4, max_depth=8, n_estimators=300, subsample=8;, score=nan total time=   0.0s\n",
      "[CV 3/5] END learning_rate=0.4, max_depth=8, n_estimators=300, subsample=8;, score=nan total time=   0.0s\n",
      "[CV 3/5] END learning_rate=0.4, max_depth=8, n_estimators=300, subsample=6;, score=nan total time=   0.0s\n",
      "[CV 4/5] END learning_rate=0.4, max_depth=8, n_estimators=300, subsample=6;, score=nan total time=   0.0s\n",
      "[CV 5/5] END learning_rate=0.4, max_depth=8, n_estimators=300, subsample=6;, score=nan total time=   0.0s\n",
      "[CV 3/5] END learning_rate=0.4, max_depth=9, n_estimators=100, subsample=8;, score=nan total time=   0.0s\n",
      "[CV 4/5] END learning_rate=0.4, max_depth=9, n_estimators=100, subsample=8;, score=nan total time=   0.0s\n",
      "[CV 5/5] END learning_rate=0.4, max_depth=9, n_estimators=100, subsample=8;, score=nan total time=   0.0s\n",
      "[CV 5/5] END learning_rate=0.4, max_depth=9, n_estimators=100, subsample=6;, score=nan total time=   0.0s\n",
      "[CV 1/5] END learning_rate=0.4, max_depth=9, n_estimators=200, subsample=9;, score=nan total time=   0.0s\n",
      "[CV 2/5] END learning_rate=0.4, max_depth=9, n_estimators=200, subsample=9;, score=nan total time=   0.0s\n",
      "[CV 3/5] END learning_rate=0.4, max_depth=1, n_estimators=300, subsample=8;, score=nan total time=   0.0s\n",
      "[CV 4/5] END learning_rate=0.4, max_depth=1, n_estimators=300, subsample=8;, score=nan total time=   0.0s\n",
      "[CV 4/5] END learning_rate=0.1, max_depth=7, n_estimators=100, subsample=9;, score=nan total time=   0.0s\n",
      "[CV 2/5] END learning_rate=0.1, max_depth=7, n_estimators=300, subsample=9;, score=nan total time=   0.0s\n",
      "[CV 4/5] END learning_rate=0.1, max_depth=7, n_estimators=300, subsample=9;, score=nan total time=   0.0s\n",
      "[CV 2/5] END learning_rate=0.1, max_depth=7, n_estimators=300, subsample=8;, score=nan total time=   0.0s\n",
      "[CV 1/5] END learning_rate=0.1, max_depth=7, n_estimators=300, subsample=7;, score=nan total time=   0.0s\n",
      "[CV 2/5] END learning_rate=0.1, max_depth=7, n_estimators=300, subsample=7;, score=nan total time=   0.0s\n",
      "[CV 2/5] END learning_rate=0.1, max_depth=7, n_estimators=300, subsample=6;, score=nan total time=   0.0s\n",
      "[CV 3/5] END learning_rate=0.1, max_depth=7, n_estimators=300, subsample=6;, score=nan total time=   0.0s\n",
      "[CV 5/5] END learning_rate=0.1, max_depth=7, n_estimators=400, subsample=9;, score=nan total time=   0.0s\n",
      "[CV 1/5] END learning_rate=0.1, max_depth=7, n_estimators=400, subsample=8;, score=nan total time=   0.0s\n",
      "[CV 4/5] END learning_rate=0.1, max_depth=7, n_estimators=400, subsample=8;, score=nan total time=   0.0s\n",
      "[CV 5/5] END learning_rate=0.1, max_depth=7, n_estimators=400, subsample=8;, score=nan total time=   0.0s\n",
      "[CV 3/5] END learning_rate=0.1, max_depth=7, n_estimators=400, subsample=7;, score=nan total time=   0.0s\n",
      "[CV 4/5] END learning_rate=0.1, max_depth=7, n_estimators=400, subsample=7;, score=nan total time=   0.0s\n",
      "[CV 2/5] END learning_rate=0.1, max_depth=7, n_estimators=400, subsample=6;, score=nan total time=   0.0s\n",
      "[CV 3/5] END learning_rate=0.1, max_depth=7, n_estimators=400, subsample=6;, score=nan total time=   0.0s\n",
      "[CV 3/5] END learning_rate=0.1, max_depth=8, n_estimators=100, subsample=7;, score=nan total time=   0.0s\n",
      "[CV 4/5] END learning_rate=0.1, max_depth=8, n_estimators=100, subsample=7;, score=nan total time=   0.0s\n",
      "[CV 5/5] END learning_rate=0.1, max_depth=8, n_estimators=100, subsample=7;, score=nan total time=   0.0s\n",
      "[CV 1/5] END learning_rate=0.1, max_depth=8, n_estimators=100, subsample=6;, score=nan total time=   0.0s\n",
      "[CV 5/5] END learning_rate=0.1, max_depth=8, n_estimators=200, subsample=9;, score=nan total time=   0.0s\n",
      "[CV 1/5] END learning_rate=0.1, max_depth=8, n_estimators=200, subsample=8;, score=nan total time=   0.0s\n",
      "[CV 2/5] END learning_rate=0.1, max_depth=8, n_estimators=200, subsample=8;, score=nan total time=   0.0s\n",
      "[CV 3/5] END learning_rate=0.1, max_depth=8, n_estimators=200, subsample=8;, score=nan total time=   0.0s\n",
      "[CV 2/5] END learning_rate=0.1, max_depth=8, n_estimators=200, subsample=6;, score=nan total time=   0.0s\n",
      "[CV 3/5] END learning_rate=0.1, max_depth=8, n_estimators=200, subsample=6;, score=nan total time=   0.0s\n",
      "[CV 4/5] END learning_rate=0.1, max_depth=8, n_estimators=200, subsample=6;, score=nan total time=   0.0s\n",
      "[CV 5/5] END learning_rate=0.1, max_depth=8, n_estimators=200, subsample=6;, score=nan total time=   0.0s\n",
      "[CV 5/5] END learning_rate=0.1, max_depth=8, n_estimators=400, subsample=9;, score=nan total time=   0.0s\n",
      "[CV 1/5] END learning_rate=0.1, max_depth=8, n_estimators=400, subsample=8;, score=nan total time=   0.0s\n",
      "[CV 2/5] END learning_rate=0.1, max_depth=8, n_estimators=400, subsample=8;, score=nan total time=   0.0s\n",
      "[CV 3/5] END learning_rate=0.1, max_depth=8, n_estimators=400, subsample=8;, score=nan total time=   0.0s\n",
      "[CV 4/5] END learning_rate=0.1, max_depth=8, n_estimators=400, subsample=8;, score=nan total time=   0.0s\n",
      "[CV 5/5] END learning_rate=0.1, max_depth=8, n_estimators=400, subsample=8;, score=nan total time=   0.0s\n",
      "[CV 1/5] END learning_rate=0.1, max_depth=8, n_estimators=400, subsample=7;, score=nan total time=   0.0s\n",
      "[CV 2/5] END learning_rate=0.1, max_depth=8, n_estimators=400, subsample=7;, score=nan total time=   0.0s\n",
      "[CV 1/5] END learning_rate=0.2, max_depth=8, n_estimators=100, subsample=9;, score=nan total time=   0.0s\n",
      "[CV 2/5] END learning_rate=0.2, max_depth=8, n_estimators=100, subsample=9;, score=nan total time=   0.0s\n",
      "[CV 3/5] END learning_rate=0.2, max_depth=8, n_estimators=100, subsample=9;, score=nan total time=   0.0s\n",
      "[CV 4/5] END learning_rate=0.2, max_depth=8, n_estimators=100, subsample=9;, score=nan total time=   0.0s\n",
      "[CV 5/5] END learning_rate=0.2, max_depth=8, n_estimators=100, subsample=9;, score=nan total time=   0.0s\n",
      "[CV 1/5] END learning_rate=0.2, max_depth=8, n_estimators=100, subsample=8;, score=nan total time=   0.0s\n",
      "[CV 2/5] END learning_rate=0.2, max_depth=8, n_estimators=100, subsample=8;, score=nan total time=   0.0s\n",
      "[CV 3/5] END learning_rate=0.2, max_depth=8, n_estimators=100, subsample=8;, score=nan total time=   0.0s\n",
      "[CV 4/5] END learning_rate=0.2, max_depth=8, n_estimators=100, subsample=8;, score=nan total time=   0.0s\n",
      "[CV 5/5] END learning_rate=0.2, max_depth=8, n_estimators=100, subsample=8;, score=nan total time=   0.0s\n",
      "[CV 1/5] END learning_rate=0.2, max_depth=8, n_estimators=100, subsample=7;, score=nan total time=   0.0s\n",
      "[CV 2/5] END learning_rate=0.2, max_depth=8, n_estimators=100, subsample=7;, score=nan total time=   0.0s\n",
      "[CV 3/5] END learning_rate=0.2, max_depth=8, n_estimators=100, subsample=7;, score=nan total time=   0.0s\n",
      "[CV 4/5] END learning_rate=0.2, max_depth=8, n_estimators=100, subsample=7;, score=nan total time=   0.0s\n",
      "[CV 5/5] END learning_rate=0.2, max_depth=8, n_estimators=100, subsample=7;, score=nan total time=   0.0s\n",
      "[CV 1/5] END learning_rate=0.2, max_depth=8, n_estimators=100, subsample=6;, score=nan total time=   0.0s\n",
      "[CV 4/5] END learning_rate=0.2, max_depth=9, n_estimators=300, subsample=8;, score=nan total time=   0.0s\n",
      "[CV 5/5] END learning_rate=0.2, max_depth=9, n_estimators=300, subsample=8;, score=nan total time=   0.0s\n",
      "[CV 1/5] END learning_rate=0.2, max_depth=9, n_estimators=300, subsample=7;, score=nan total time=   0.0s\n",
      "[CV 2/5] END learning_rate=0.2, max_depth=9, n_estimators=300, subsample=7;, score=nan total time=   0.0s\n",
      "[CV 3/5] END learning_rate=0.2, max_depth=9, n_estimators=300, subsample=7;, score=nan total time=   0.0s\n",
      "[CV 4/5] END learning_rate=0.2, max_depth=9, n_estimators=300, subsample=7;, score=nan total time=   0.0s\n",
      "[CV 5/5] END learning_rate=0.2, max_depth=9, n_estimators=300, subsample=7;, score=nan total time=   0.0s\n",
      "[CV 1/5] END learning_rate=0.2, max_depth=9, n_estimators=300, subsample=6;, score=nan total time=   0.0s\n",
      "[CV 2/5] END learning_rate=0.2, max_depth=9, n_estimators=300, subsample=6;, score=nan total time=   0.0s\n",
      "[CV 3/5] END learning_rate=0.2, max_depth=9, n_estimators=300, subsample=6;, score=nan total time=   0.0s\n",
      "[CV 4/5] END learning_rate=0.2, max_depth=9, n_estimators=300, subsample=6;, score=nan total time=   0.0s\n",
      "[CV 5/5] END learning_rate=0.2, max_depth=9, n_estimators=300, subsample=6;, score=nan total time=   0.0s\n",
      "[CV 1/5] END learning_rate=0.2, max_depth=9, n_estimators=400, subsample=9;, score=nan total time=   0.0s\n",
      "[CV 2/5] END learning_rate=0.2, max_depth=9, n_estimators=400, subsample=9;, score=nan total time=   0.0s\n",
      "[CV 3/5] END learning_rate=0.2, max_depth=9, n_estimators=400, subsample=9;, score=nan total time=   0.0s\n",
      "[CV 4/5] END learning_rate=0.2, max_depth=9, n_estimators=400, subsample=9;, score=nan total time=   0.0s\n",
      "[CV 5/5] END learning_rate=0.2, max_depth=9, n_estimators=400, subsample=9;, score=nan total time=   0.0s\n",
      "[CV 1/5] END learning_rate=0.2, max_depth=9, n_estimators=400, subsample=8;, score=nan total time=   0.0s\n",
      "[CV 2/5] END learning_rate=0.2, max_depth=9, n_estimators=400, subsample=8;, score=nan total time=   0.0s\n",
      "[CV 3/5] END learning_rate=0.2, max_depth=9, n_estimators=400, subsample=8;, score=nan total time=   0.0s\n",
      "[CV 4/5] END learning_rate=0.2, max_depth=9, n_estimators=400, subsample=8;, score=nan total time=   0.0s\n",
      "[CV 5/5] END learning_rate=0.2, max_depth=9, n_estimators=400, subsample=8;, score=nan total time=   0.0s\n",
      "[CV 1/5] END learning_rate=0.2, max_depth=9, n_estimators=400, subsample=7;, score=nan total time=   0.0s\n",
      "[CV 2/5] END learning_rate=0.2, max_depth=9, n_estimators=400, subsample=7;, score=nan total time=   0.0s\n",
      "[CV 3/5] END learning_rate=0.2, max_depth=9, n_estimators=400, subsample=7;, score=nan total time=   0.0s\n",
      "[CV 4/5] END learning_rate=0.2, max_depth=9, n_estimators=400, subsample=7;, score=nan total time=   0.0s\n",
      "[CV 5/5] END learning_rate=0.2, max_depth=9, n_estimators=400, subsample=7;, score=nan total time=   0.0s\n",
      "[CV 1/5] END learning_rate=0.2, max_depth=9, n_estimators=400, subsample=6;, score=nan total time=   0.0s\n",
      "[CV 2/5] END learning_rate=0.2, max_depth=9, n_estimators=400, subsample=6;, score=nan total time=   0.0s\n",
      "[CV 3/5] END learning_rate=0.2, max_depth=9, n_estimators=400, subsample=6;, score=nan total time=   0.0s\n",
      "[CV 4/5] END learning_rate=0.2, max_depth=9, n_estimators=400, subsample=6;, score=nan total time=   0.0s\n",
      "[CV 5/5] END learning_rate=0.2, max_depth=9, n_estimators=400, subsample=6;, score=nan total time=   0.0s\n",
      "[CV 5/5] END learning_rate=0.3, max_depth=8, n_estimators=400, subsample=9;, score=nan total time=   0.0s\n",
      "[CV 1/5] END learning_rate=0.3, max_depth=8, n_estimators=400, subsample=8;, score=nan total time=   0.0s\n",
      "[CV 2/5] END learning_rate=0.3, max_depth=8, n_estimators=400, subsample=8;, score=nan total time=   0.0s\n",
      "[CV 3/5] END learning_rate=0.3, max_depth=8, n_estimators=400, subsample=8;, score=nan total time=   0.0s\n",
      "[CV 4/5] END learning_rate=0.3, max_depth=8, n_estimators=400, subsample=8;, score=nan total time=   0.0s\n",
      "[CV 5/5] END learning_rate=0.3, max_depth=8, n_estimators=400, subsample=8;, score=nan total time=   0.0s\n",
      "[CV 1/5] END learning_rate=0.3, max_depth=8, n_estimators=400, subsample=7;, score=nan total time=   0.0s\n",
      "[CV 2/5] END learning_rate=0.3, max_depth=8, n_estimators=400, subsample=7;, score=nan total time=   0.0s\n",
      "[CV 3/5] END learning_rate=0.3, max_depth=8, n_estimators=400, subsample=7;, score=nan total time=   0.0s\n",
      "[CV 4/5] END learning_rate=0.3, max_depth=8, n_estimators=400, subsample=7;, score=nan total time=   0.0s\n",
      "[CV 5/5] END learning_rate=0.3, max_depth=8, n_estimators=400, subsample=7;, score=nan total time=   0.0s\n",
      "[CV 1/5] END learning_rate=0.3, max_depth=8, n_estimators=400, subsample=6;, score=nan total time=   0.0s\n",
      "[CV 2/5] END learning_rate=0.3, max_depth=8, n_estimators=400, subsample=6;, score=nan total time=   0.0s\n",
      "[CV 3/5] END learning_rate=0.3, max_depth=8, n_estimators=400, subsample=6;, score=nan total time=   0.0s\n",
      "[CV 4/5] END learning_rate=0.3, max_depth=8, n_estimators=400, subsample=6;, score=nan total time=   0.0s\n",
      "[CV 5/5] END learning_rate=0.3, max_depth=8, n_estimators=400, subsample=6;, score=nan total time=   0.0s\n",
      "[CV 1/5] END learning_rate=0.3, max_depth=9, n_estimators=100, subsample=9;, score=nan total time=   0.0s\n",
      "[CV 2/5] END learning_rate=0.3, max_depth=9, n_estimators=100, subsample=9;, score=nan total time=   0.0s\n",
      "[CV 3/5] END learning_rate=0.3, max_depth=9, n_estimators=100, subsample=9;, score=nan total time=   0.0s\n",
      "[CV 4/5] END learning_rate=0.3, max_depth=9, n_estimators=100, subsample=9;, score=nan total time=   0.0s\n",
      "[CV 5/5] END learning_rate=0.3, max_depth=9, n_estimators=100, subsample=9;, score=nan total time=   0.0s\n",
      "[CV 1/5] END learning_rate=0.3, max_depth=9, n_estimators=100, subsample=8;, score=nan total time=   0.0s\n",
      "[CV 2/5] END learning_rate=0.3, max_depth=9, n_estimators=100, subsample=8;, score=nan total time=   0.0s\n",
      "[CV 3/5] END learning_rate=0.3, max_depth=9, n_estimators=100, subsample=8;, score=nan total time=   0.0s\n",
      "[CV 4/5] END learning_rate=0.3, max_depth=9, n_estimators=100, subsample=8;, score=nan total time=   0.0s\n",
      "[CV 5/5] END learning_rate=0.3, max_depth=9, n_estimators=100, subsample=8;, score=nan total time=   0.0s\n",
      "[CV 1/5] END learning_rate=0.3, max_depth=9, n_estimators=100, subsample=7;, score=nan total time=   0.0s\n",
      "[CV 2/5] END learning_rate=0.3, max_depth=9, n_estimators=100, subsample=7;, score=nan total time=   0.0s\n",
      "[CV 3/5] END learning_rate=0.3, max_depth=9, n_estimators=100, subsample=7;, score=nan total time=   0.0s\n",
      "[CV 4/5] END learning_rate=0.3, max_depth=9, n_estimators=100, subsample=7;, score=nan total time=   0.0s\n",
      "[CV 5/5] END learning_rate=0.3, max_depth=9, n_estimators=100, subsample=7;, score=nan total time=   0.0s\n",
      "[CV 1/5] END learning_rate=0.3, max_depth=9, n_estimators=100, subsample=6;, score=nan total time=   0.0s\n",
      "[CV 1/5] END learning_rate=0.4, max_depth=8, n_estimators=100, subsample=9;, score=nan total time=   0.0s\n",
      "[CV 2/5] END learning_rate=0.4, max_depth=8, n_estimators=100, subsample=9;, score=nan total time=   0.0s\n",
      "[CV 3/5] END learning_rate=0.4, max_depth=8, n_estimators=100, subsample=9;, score=nan total time=   0.0s\n",
      "[CV 3/5] END learning_rate=0.4, max_depth=8, n_estimators=100, subsample=7;, score=nan total time=   0.0s\n",
      "[CV 4/5] END learning_rate=0.4, max_depth=8, n_estimators=100, subsample=7;, score=nan total time=   0.0s\n",
      "[CV 5/5] END learning_rate=0.4, max_depth=8, n_estimators=100, subsample=7;, score=nan total time=   0.0s\n",
      "[CV 1/5] END learning_rate=0.4, max_depth=8, n_estimators=200, subsample=7;, score=nan total time=   0.0s\n",
      "[CV 2/5] END learning_rate=0.4, max_depth=8, n_estimators=200, subsample=7;, score=nan total time=   0.0s\n",
      "[CV 3/5] END learning_rate=0.4, max_depth=8, n_estimators=200, subsample=7;, score=nan total time=   0.0s\n",
      "[CV 2/5] END learning_rate=0.4, max_depth=9, n_estimators=200, subsample=7;, score=nan total time=   0.0s\n",
      "[CV 3/5] END learning_rate=0.4, max_depth=9, n_estimators=200, subsample=7;, score=nan total time=   0.0s\n",
      "[CV 4/5] END learning_rate=0.4, max_depth=9, n_estimators=200, subsample=7;, score=nan total time=   0.0s\n",
      "[CV 4/5] END learning_rate=0.4, max_depth=9, n_estimators=300, subsample=9;, score=nan total time=   0.0s\n",
      "[CV 5/5] END learning_rate=0.4, max_depth=9, n_estimators=300, subsample=9;, score=nan total time=   0.0s\n",
      "[CV 1/5] END learning_rate=0.4, max_depth=9, n_estimators=300, subsample=8;, score=nan total time=   0.0s\n",
      "[CV 2/5] END learning_rate=0.4, max_depth=9, n_estimators=400, subsample=9;, score=nan total time=   0.0s\n",
      "[CV 3/5] END learning_rate=0.4, max_depth=9, n_estimators=400, subsample=9;, score=nan total time=   0.0s\n",
      "[CV 4/5] END learning_rate=0.4, max_depth=9, n_estimators=400, subsample=9;, score=nan total time=   0.0s\n",
      "[CV 1/5] END learning_rate=0.4, max_depth=9, n_estimators=400, subsample=7;, score=nan total time=   0.0s\n",
      "[CV 2/5] END learning_rate=0.4, max_depth=9, n_estimators=400, subsample=7;, score=nan total time=   0.0s\n",
      "[CV 3/5] END learning_rate=0.4, max_depth=9, n_estimators=400, subsample=7;, score=nan total time=   0.0s\n",
      "[CV 3/5] END learning_rate=0.4, max_depth=1, n_estimators=100, subsample=6;, score=nan total time=   0.0s\n",
      "[CV 4/5] END learning_rate=0.4, max_depth=1, n_estimators=100, subsample=6;, score=nan total time=   0.0s\n",
      "[CV 5/5] END learning_rate=0.4, max_depth=1, n_estimators=100, subsample=6;, score=nan total time=   0.0s\n",
      "[CV 1/5] END learning_rate=0.1, max_depth=7, n_estimators=100, subsample=0.06;, score=0.950 total time=   0.0s\n",
      "[CV 1/5] END learning_rate=0.1, max_depth=7, n_estimators=100, subsample=0.5;, score=0.978 total time=   0.0s\n",
      "[CV 2/5] END learning_rate=0.1, max_depth=7, n_estimators=200, subsample=0.06;, score=0.936 total time=   0.0s\n",
      "[CV 3/5] END learning_rate=0.1, max_depth=7, n_estimators=200, subsample=0.06;, score=0.972 total time=   0.0s\n",
      "[CV 4/5] END learning_rate=0.1, max_depth=7, n_estimators=200, subsample=1;, score=0.943 total time=   0.1s\n",
      "[CV 5/5] END learning_rate=0.1, max_depth=7, n_estimators=200, subsample=1;, score=0.960 total time=   0.1s\n",
      "[CV 4/5] END learning_rate=0.1, max_depth=7, n_estimators=400, subsample=0.06;, score=0.951 total time=   0.1s\n",
      "[CV 5/5] END learning_rate=0.1, max_depth=7, n_estimators=400, subsample=0.06;, score=0.969 total time=   0.1s\n",
      "[CV 1/5] END learning_rate=0.1, max_depth=7, n_estimators=400, subsample=0.5;, score=0.981 total time=   0.1s\n",
      "[CV 2/5] END learning_rate=0.1, max_depth=7, n_estimators=400, subsample=0.5;, score=0.971 total time=   0.1s\n",
      "[CV 2/5] END learning_rate=0.1, max_depth=8, n_estimators=200, subsample=1;, score=0.904 total time=   0.1s\n",
      "[CV 3/5] END learning_rate=0.1, max_depth=8, n_estimators=200, subsample=1;, score=0.974 total time=   0.1s\n",
      "[CV 4/5] END learning_rate=0.1, max_depth=8, n_estimators=200, subsample=1;, score=0.946 total time=   0.1s\n",
      "[CV 3/5] END learning_rate=0.1, max_depth=7, n_estimators=100, subsample=8;, score=nan total time=   0.0s\n",
      "[CV 5/5] END learning_rate=0.1, max_depth=9, n_estimators=400, subsample=9;, score=nan total time=   0.0s\n",
      "[CV 1/5] END learning_rate=0.1, max_depth=9, n_estimators=400, subsample=8;, score=nan total time=   0.0s\n",
      "[CV 2/5] END learning_rate=0.1, max_depth=9, n_estimators=400, subsample=8;, score=nan total time=   0.0s\n",
      "[CV 3/5] END learning_rate=0.1, max_depth=9, n_estimators=400, subsample=8;, score=nan total time=   0.0s\n",
      "[CV 4/5] END learning_rate=0.1, max_depth=9, n_estimators=400, subsample=8;, score=nan total time=   0.0s\n",
      "[CV 5/5] END learning_rate=0.1, max_depth=9, n_estimators=400, subsample=8;, score=nan total time=   0.0s\n",
      "[CV 1/5] END learning_rate=0.1, max_depth=9, n_estimators=400, subsample=7;, score=nan total time=   0.0s\n",
      "[CV 2/5] END learning_rate=0.1, max_depth=9, n_estimators=400, subsample=7;, score=nan total time=   0.0s\n",
      "[CV 5/5] END learning_rate=0.2, max_depth=7, n_estimators=400, subsample=9;, score=nan total time=   0.0s\n",
      "[CV 1/5] END learning_rate=0.2, max_depth=7, n_estimators=400, subsample=8;, score=nan total time=   0.0s\n",
      "[CV 2/5] END learning_rate=0.2, max_depth=7, n_estimators=400, subsample=8;, score=nan total time=   0.0s\n",
      "[CV 3/5] END learning_rate=0.2, max_depth=7, n_estimators=400, subsample=8;, score=nan total time=   0.0s\n",
      "[CV 4/5] END learning_rate=0.2, max_depth=7, n_estimators=400, subsample=8;, score=nan total time=   0.0s\n",
      "[CV 5/5] END learning_rate=0.2, max_depth=7, n_estimators=400, subsample=8;, score=nan total time=   0.0s\n",
      "[CV 1/5] END learning_rate=0.2, max_depth=7, n_estimators=400, subsample=7;, score=nan total time=   0.0s\n",
      "[CV 2/5] END learning_rate=0.2, max_depth=7, n_estimators=400, subsample=7;, score=nan total time=   0.0s\n",
      "[CV 3/5] END learning_rate=0.2, max_depth=7, n_estimators=400, subsample=7;, score=nan total time=   0.0s\n",
      "[CV 4/5] END learning_rate=0.2, max_depth=7, n_estimators=400, subsample=7;, score=nan total time=   0.0s\n",
      "[CV 5/5] END learning_rate=0.2, max_depth=7, n_estimators=400, subsample=7;, score=nan total time=   0.0s\n",
      "[CV 1/5] END learning_rate=0.2, max_depth=7, n_estimators=400, subsample=6;, score=nan total time=   0.0s\n",
      "[CV 2/5] END learning_rate=0.2, max_depth=7, n_estimators=400, subsample=6;, score=nan total time=   0.0s\n",
      "[CV 3/5] END learning_rate=0.2, max_depth=7, n_estimators=400, subsample=6;, score=nan total time=   0.0s\n",
      "[CV 4/5] END learning_rate=0.2, max_depth=7, n_estimators=400, subsample=6;, score=nan total time=   0.0s\n",
      "[CV 5/5] END learning_rate=0.2, max_depth=7, n_estimators=400, subsample=6;, score=nan total time=   0.0s\n",
      "[CV 3/5] END learning_rate=0.2, max_depth=9, n_estimators=200, subsample=7;, score=nan total time=   0.0s\n",
      "[CV 4/5] END learning_rate=0.2, max_depth=9, n_estimators=200, subsample=7;, score=nan total time=   0.0s\n",
      "[CV 5/5] END learning_rate=0.2, max_depth=9, n_estimators=200, subsample=7;, score=nan total time=   0.0s\n",
      "[CV 1/5] END learning_rate=0.2, max_depth=9, n_estimators=200, subsample=6;, score=nan total time=   0.0s\n",
      "[CV 2/5] END learning_rate=0.2, max_depth=9, n_estimators=200, subsample=6;, score=nan total time=   0.0s\n",
      "[CV 3/5] END learning_rate=0.2, max_depth=9, n_estimators=200, subsample=6;, score=nan total time=   0.0s\n",
      "[CV 4/5] END learning_rate=0.2, max_depth=9, n_estimators=200, subsample=6;, score=nan total time=   0.0s\n",
      "[CV 5/5] END learning_rate=0.2, max_depth=9, n_estimators=200, subsample=6;, score=nan total time=   0.0s\n",
      "[CV 1/5] END learning_rate=0.2, max_depth=9, n_estimators=300, subsample=9;, score=nan total time=   0.0s\n",
      "[CV 2/5] END learning_rate=0.2, max_depth=9, n_estimators=300, subsample=9;, score=nan total time=   0.0s\n",
      "[CV 3/5] END learning_rate=0.2, max_depth=9, n_estimators=300, subsample=9;, score=nan total time=   0.0s\n",
      "[CV 4/5] END learning_rate=0.2, max_depth=9, n_estimators=300, subsample=9;, score=nan total time=   0.0s\n",
      "[CV 5/5] END learning_rate=0.2, max_depth=9, n_estimators=300, subsample=9;, score=nan total time=   0.0s\n",
      "[CV 1/5] END learning_rate=0.2, max_depth=9, n_estimators=300, subsample=8;, score=nan total time=   0.0s\n",
      "[CV 2/5] END learning_rate=0.2, max_depth=9, n_estimators=300, subsample=8;, score=nan total time=   0.0s\n",
      "[CV 3/5] END learning_rate=0.2, max_depth=9, n_estimators=300, subsample=8;, score=nan total time=   0.0s\n",
      "[CV 3/5] END learning_rate=0.3, max_depth=8, n_estimators=200, subsample=7;, score=nan total time=   0.0s\n",
      "[CV 4/5] END learning_rate=0.3, max_depth=8, n_estimators=200, subsample=7;, score=nan total time=   0.0s\n",
      "[CV 5/5] END learning_rate=0.3, max_depth=8, n_estimators=200, subsample=7;, score=nan total time=   0.0s\n",
      "[CV 1/5] END learning_rate=0.3, max_depth=8, n_estimators=200, subsample=6;, score=nan total time=   0.0s\n",
      "[CV 2/5] END learning_rate=0.3, max_depth=8, n_estimators=200, subsample=6;, score=nan total time=   0.0s\n",
      "[CV 3/5] END learning_rate=0.3, max_depth=8, n_estimators=200, subsample=6;, score=nan total time=   0.0s\n",
      "[CV 4/5] END learning_rate=0.3, max_depth=8, n_estimators=200, subsample=6;, score=nan total time=   0.0s\n",
      "[CV 5/5] END learning_rate=0.3, max_depth=8, n_estimators=200, subsample=6;, score=nan total time=   0.0s\n",
      "[CV 1/5] END learning_rate=0.3, max_depth=8, n_estimators=300, subsample=9;, score=nan total time=   0.0s\n",
      "[CV 2/5] END learning_rate=0.3, max_depth=8, n_estimators=300, subsample=9;, score=nan total time=   0.0s\n",
      "[CV 3/5] END learning_rate=0.3, max_depth=8, n_estimators=300, subsample=9;, score=nan total time=   0.0s\n",
      "[CV 4/5] END learning_rate=0.3, max_depth=8, n_estimators=300, subsample=9;, score=nan total time=   0.0s\n",
      "[CV 5/5] END learning_rate=0.3, max_depth=8, n_estimators=300, subsample=9;, score=nan total time=   0.0s\n",
      "[CV 1/5] END learning_rate=0.3, max_depth=8, n_estimators=300, subsample=8;, score=nan total time=   0.0s\n",
      "[CV 2/5] END learning_rate=0.3, max_depth=8, n_estimators=300, subsample=8;, score=nan total time=   0.0s\n",
      "[CV 3/5] END learning_rate=0.3, max_depth=8, n_estimators=300, subsample=8;, score=nan total time=   0.0s\n",
      "[CV 4/5] END learning_rate=0.3, max_depth=8, n_estimators=300, subsample=8;, score=nan total time=   0.0s\n",
      "[CV 5/5] END learning_rate=0.3, max_depth=8, n_estimators=300, subsample=8;, score=nan total time=   0.0s\n",
      "[CV 1/5] END learning_rate=0.3, max_depth=8, n_estimators=300, subsample=7;, score=nan total time=   0.0s\n",
      "[CV 2/5] END learning_rate=0.3, max_depth=8, n_estimators=300, subsample=7;, score=nan total time=   0.0s\n",
      "[CV 3/5] END learning_rate=0.3, max_depth=8, n_estimators=300, subsample=7;, score=nan total time=   0.0s\n",
      "[CV 4/5] END learning_rate=0.3, max_depth=8, n_estimators=300, subsample=7;, score=nan total time=   0.0s\n",
      "[CV 5/5] END learning_rate=0.3, max_depth=8, n_estimators=300, subsample=7;, score=nan total time=   0.0s\n",
      "[CV 1/5] END learning_rate=0.3, max_depth=8, n_estimators=300, subsample=6;, score=nan total time=   0.0s\n",
      "[CV 2/5] END learning_rate=0.3, max_depth=8, n_estimators=300, subsample=6;, score=nan total time=   0.0s\n",
      "[CV 3/5] END learning_rate=0.3, max_depth=8, n_estimators=300, subsample=6;, score=nan total time=   0.0s\n",
      "[CV 4/5] END learning_rate=0.3, max_depth=8, n_estimators=300, subsample=6;, score=nan total time=   0.0s\n",
      "[CV 5/5] END learning_rate=0.3, max_depth=8, n_estimators=300, subsample=6;, score=nan total time=   0.0s\n",
      "[CV 1/5] END learning_rate=0.3, max_depth=8, n_estimators=400, subsample=9;, score=nan total time=   0.0s\n",
      "[CV 2/5] END learning_rate=0.3, max_depth=8, n_estimators=400, subsample=9;, score=nan total time=   0.0s\n",
      "[CV 3/5] END learning_rate=0.3, max_depth=8, n_estimators=400, subsample=9;, score=nan total time=   0.0s\n",
      "[CV 4/5] END learning_rate=0.3, max_depth=8, n_estimators=400, subsample=9;, score=nan total time=   0.0s\n",
      "[CV 4/5] END learning_rate=0.4, max_depth=7, n_estimators=300, subsample=8;, score=nan total time=   0.0s\n",
      "[CV 5/5] END learning_rate=0.4, max_depth=7, n_estimators=300, subsample=8;, score=nan total time=   0.0s\n",
      "[CV 1/5] END learning_rate=0.4, max_depth=7, n_estimators=300, subsample=7;, score=nan total time=   0.0s\n",
      "[CV 2/5] END learning_rate=0.4, max_depth=7, n_estimators=300, subsample=7;, score=nan total time=   0.0s\n",
      "[CV 3/5] END learning_rate=0.4, max_depth=7, n_estimators=300, subsample=7;, score=nan total time=   0.0s\n",
      "[CV 4/5] END learning_rate=0.4, max_depth=7, n_estimators=300, subsample=7;, score=nan total time=   0.0s\n",
      "[CV 5/5] END learning_rate=0.4, max_depth=7, n_estimators=300, subsample=7;, score=nan total time=   0.0s\n",
      "[CV 1/5] END learning_rate=0.4, max_depth=7, n_estimators=300, subsample=6;, score=nan total time=   0.0s\n",
      "[CV 2/5] END learning_rate=0.4, max_depth=7, n_estimators=300, subsample=6;, score=nan total time=   0.0s\n",
      "[CV 3/5] END learning_rate=0.4, max_depth=7, n_estimators=300, subsample=6;, score=nan total time=   0.0s\n",
      "[CV 4/5] END learning_rate=0.4, max_depth=7, n_estimators=300, subsample=6;, score=nan total time=   0.0s\n",
      "[CV 5/5] END learning_rate=0.4, max_depth=7, n_estimators=300, subsample=6;, score=nan total time=   0.0s\n",
      "[CV 1/5] END learning_rate=0.4, max_depth=7, n_estimators=400, subsample=9;, score=nan total time=   0.0s\n",
      "[CV 2/5] END learning_rate=0.4, max_depth=7, n_estimators=400, subsample=9;, score=nan total time=   0.0s\n",
      "[CV 3/5] END learning_rate=0.4, max_depth=7, n_estimators=400, subsample=9;, score=nan total time=   0.0s\n",
      "[CV 4/5] END learning_rate=0.4, max_depth=7, n_estimators=400, subsample=9;, score=nan total time=   0.0s\n",
      "[CV 5/5] END learning_rate=0.4, max_depth=7, n_estimators=400, subsample=9;, score=nan total time=   0.0s\n",
      "[CV 1/5] END learning_rate=0.4, max_depth=7, n_estimators=400, subsample=8;, score=nan total time=   0.0s\n",
      "[CV 2/5] END learning_rate=0.4, max_depth=7, n_estimators=400, subsample=8;, score=nan total time=   0.0s\n",
      "[CV 3/5] END learning_rate=0.4, max_depth=7, n_estimators=400, subsample=8;, score=nan total time=   0.0s\n",
      "[CV 4/5] END learning_rate=0.4, max_depth=7, n_estimators=400, subsample=8;, score=nan total time=   0.0s\n",
      "[CV 5/5] END learning_rate=0.4, max_depth=7, n_estimators=400, subsample=8;, score=nan total time=   0.0s\n",
      "[CV 1/5] END learning_rate=0.4, max_depth=7, n_estimators=400, subsample=7;, score=nan total time=   0.0s\n",
      "[CV 2/5] END learning_rate=0.4, max_depth=7, n_estimators=400, subsample=7;, score=nan total time=   0.0s\n",
      "[CV 3/5] END learning_rate=0.4, max_depth=7, n_estimators=400, subsample=7;, score=nan total time=   0.0s\n",
      "[CV 4/5] END learning_rate=0.4, max_depth=7, n_estimators=400, subsample=7;, score=nan total time=   0.0s\n",
      "[CV 5/5] END learning_rate=0.4, max_depth=7, n_estimators=400, subsample=7;, score=nan total time=   0.0s\n",
      "[CV 1/5] END learning_rate=0.4, max_depth=7, n_estimators=400, subsample=6;, score=nan total time=   0.0s\n",
      "[CV 2/5] END learning_rate=0.4, max_depth=7, n_estimators=400, subsample=6;, score=nan total time=   0.0s\n",
      "[CV 3/5] END learning_rate=0.4, max_depth=7, n_estimators=400, subsample=6;, score=nan total time=   0.0s\n",
      "[CV 4/5] END learning_rate=0.4, max_depth=7, n_estimators=400, subsample=6;, score=nan total time=   0.0s\n",
      "[CV 5/5] END learning_rate=0.4, max_depth=7, n_estimators=400, subsample=6;, score=nan total time=   0.0s\n",
      "[CV 5/5] END learning_rate=0.4, max_depth=8, n_estimators=200, subsample=6;, score=nan total time=   0.0s\n",
      "[CV 1/5] END learning_rate=0.4, max_depth=8, n_estimators=300, subsample=9;, score=nan total time=   0.0s\n",
      "[CV 2/5] END learning_rate=0.4, max_depth=8, n_estimators=300, subsample=9;, score=nan total time=   0.0s\n",
      "[CV 2/5] END learning_rate=0.4, max_depth=8, n_estimators=300, subsample=7;, score=nan total time=   0.0s\n",
      "[CV 3/5] END learning_rate=0.4, max_depth=8, n_estimators=300, subsample=7;, score=nan total time=   0.0s\n",
      "[CV 4/5] END learning_rate=0.4, max_depth=8, n_estimators=300, subsample=7;, score=nan total time=   0.0s\n",
      "[CV 4/5] END learning_rate=0.4, max_depth=8, n_estimators=400, subsample=9;, score=nan total time=   0.0s\n",
      "[CV 5/5] END learning_rate=0.4, max_depth=8, n_estimators=400, subsample=9;, score=nan total time=   0.0s\n",
      "[CV 1/5] END learning_rate=0.4, max_depth=8, n_estimators=400, subsample=8;, score=nan total time=   0.0s\n",
      "[CV 3/5] END learning_rate=0.4, max_depth=8, n_estimators=400, subsample=7;, score=nan total time=   0.0s\n",
      "[CV 4/5] END learning_rate=0.4, max_depth=8, n_estimators=400, subsample=7;, score=nan total time=   0.0s\n",
      "[CV 5/5] END learning_rate=0.4, max_depth=8, n_estimators=400, subsample=7;, score=nan total time=   0.0s\n",
      "[CV 2/5] END learning_rate=0.4, max_depth=9, n_estimators=100, subsample=9;, score=nan total time=   0.0s\n",
      "[CV 3/5] END learning_rate=0.4, max_depth=9, n_estimators=100, subsample=9;, score=nan total time=   0.0s\n",
      "[CV 4/5] END learning_rate=0.4, max_depth=9, n_estimators=100, subsample=9;, score=nan total time=   0.0s\n",
      "[CV 1/5] END learning_rate=0.4, max_depth=9, n_estimators=100, subsample=7;, score=nan total time=   0.0s\n",
      "[CV 2/5] END learning_rate=0.4, max_depth=9, n_estimators=100, subsample=7;, score=nan total time=   0.0s\n",
      "[CV 3/5] END learning_rate=0.4, max_depth=9, n_estimators=100, subsample=7;, score=nan total time=   0.0s\n",
      "[CV 2/5] END learning_rate=0.4, max_depth=9, n_estimators=100, subsample=6;, score=nan total time=   0.0s\n",
      "[CV 3/5] END learning_rate=0.4, max_depth=9, n_estimators=100, subsample=6;, score=nan total time=   0.0s\n",
      "[CV 4/5] END learning_rate=0.4, max_depth=9, n_estimators=100, subsample=6;, score=nan total time=   0.0s\n",
      "[CV 5/5] END learning_rate=0.4, max_depth=1, n_estimators=100, subsample=7;, score=nan total time=   0.0s\n",
      "[CV 1/5] END learning_rate=0.4, max_depth=1, n_estimators=100, subsample=6;, score=nan total time=   0.0s\n",
      "[CV 2/5] END learning_rate=0.4, max_depth=1, n_estimators=100, subsample=6;, score=nan total time=   0.0s\n",
      "[CV 3/5] END learning_rate=0.4, max_depth=1, n_estimators=200, subsample=7;, score=nan total time=   0.0s\n",
      "[CV 4/5] END learning_rate=0.4, max_depth=1, n_estimators=200, subsample=7;, score=nan total time=   0.0s\n",
      "[CV 5/5] END learning_rate=0.4, max_depth=1, n_estimators=200, subsample=7;, score=nan total time=   0.0s\n",
      "[CV 2/5] END learning_rate=0.4, max_depth=1, n_estimators=300, subsample=9;, score=nan total time=   0.0s\n",
      "[CV 3/5] END learning_rate=0.4, max_depth=1, n_estimators=300, subsample=9;, score=nan total time=   0.0s\n",
      "[CV 4/5] END learning_rate=0.4, max_depth=1, n_estimators=300, subsample=9;, score=nan total time=   0.0s\n",
      "[CV 1/5] END learning_rate=0.4, max_depth=1, n_estimators=300, subsample=7;, score=nan total time=   0.0s\n",
      "[CV 2/5] END learning_rate=0.4, max_depth=1, n_estimators=300, subsample=7;, score=nan total time=   0.0s\n",
      "[CV 3/5] END learning_rate=0.4, max_depth=1, n_estimators=300, subsample=7;, score=nan total time=   0.0s\n",
      "[CV 3/5] END learning_rate=0.4, max_depth=1, n_estimators=400, subsample=6;, score=nan total time=   0.0s\n",
      "[CV 4/5] END learning_rate=0.4, max_depth=1, n_estimators=400, subsample=6;, score=nan total time=   0.0s\n",
      "[CV 5/5] END learning_rate=0.4, max_depth=1, n_estimators=400, subsample=6;, score=nan total time=   0.0s\n",
      "[CV 4/5] END learning_rate=0.1, max_depth=7, n_estimators=100, subsample=0.06;, score=0.909 total time=   0.0s\n",
      "[CV 2/5] END learning_rate=0.1, max_depth=7, n_estimators=100, subsample=1;, score=0.918 total time=   0.0s\n",
      "[CV 3/5] END learning_rate=0.1, max_depth=7, n_estimators=100, subsample=1;, score=0.976 total time=   0.1s\n",
      "[CV 2/5] END learning_rate=0.1, max_depth=7, n_estimators=200, subsample=1;, score=0.918 total time=   0.1s\n",
      "[CV 3/5] END learning_rate=0.1, max_depth=7, n_estimators=200, subsample=1;, score=0.976 total time=   0.1s\n",
      "[CV 5/5] END learning_rate=0.1, max_depth=7, n_estimators=400, subsample=0.2;, score=0.988 total time=   0.1s\n",
      "[CV 1/5] END learning_rate=0.1, max_depth=7, n_estimators=400, subsample=0.06;, score=0.946 total time=   0.1s\n",
      "[CV 2/5] END learning_rate=0.1, max_depth=7, n_estimators=400, subsample=0.06;, score=0.936 total time=   0.1s\n",
      "[CV 3/5] END learning_rate=0.1, max_depth=7, n_estimators=400, subsample=0.06;, score=0.982 total time=   0.1s\n",
      "[CV 1/5] END learning_rate=0.1, max_depth=8, n_estimators=200, subsample=0.2;, score=0.978 total time=   0.1s\n",
      "[CV 2/5] END learning_rate=0.1, max_depth=8, n_estimators=200, subsample=0.2;, score=0.972 total time=   0.1s\n",
      "[CV 3/5] END learning_rate=0.1, max_depth=8, n_estimators=200, subsample=0.2;, score=0.990 total time=   0.1s\n",
      "[CV 3/5] END learning_rate=0.1, max_depth=7, n_estimators=100, subsample=9;, score=nan total time=   0.0s\n",
      "[CV 4/5] END learning_rate=0.1, max_depth=7, n_estimators=200, subsample=8;, score=nan total time=   0.0s\n",
      "[CV 1/5] END learning_rate=0.1, max_depth=7, n_estimators=200, subsample=7;, score=nan total time=   0.0s\n",
      "[CV 4/5] END learning_rate=0.1, max_depth=7, n_estimators=200, subsample=7;, score=nan total time=   0.0s\n",
      "[CV 1/5] END learning_rate=0.1, max_depth=7, n_estimators=200, subsample=6;, score=nan total time=   0.0s\n",
      "[CV 2/5] END learning_rate=0.2, max_depth=9, n_estimators=100, subsample=6;, score=nan total time=   0.0s\n",
      "[CV 3/5] END learning_rate=0.2, max_depth=9, n_estimators=100, subsample=6;, score=nan total time=   0.0s\n",
      "[CV 4/5] END learning_rate=0.2, max_depth=9, n_estimators=100, subsample=6;, score=nan total time=   0.0s\n",
      "[CV 5/5] END learning_rate=0.2, max_depth=9, n_estimators=100, subsample=6;, score=nan total time=   0.0s\n",
      "[CV 1/5] END learning_rate=0.2, max_depth=9, n_estimators=200, subsample=9;, score=nan total time=   0.0s\n",
      "[CV 2/5] END learning_rate=0.2, max_depth=9, n_estimators=200, subsample=9;, score=nan total time=   0.0s\n",
      "[CV 3/5] END learning_rate=0.2, max_depth=9, n_estimators=200, subsample=9;, score=nan total time=   0.0s\n",
      "[CV 4/5] END learning_rate=0.2, max_depth=9, n_estimators=200, subsample=9;, score=nan total time=   0.0s\n",
      "[CV 5/5] END learning_rate=0.2, max_depth=9, n_estimators=200, subsample=9;, score=nan total time=   0.0s\n",
      "[CV 1/5] END learning_rate=0.2, max_depth=9, n_estimators=200, subsample=8;, score=nan total time=   0.0s\n",
      "[CV 2/5] END learning_rate=0.2, max_depth=9, n_estimators=200, subsample=8;, score=nan total time=   0.0s\n",
      "[CV 3/5] END learning_rate=0.2, max_depth=9, n_estimators=200, subsample=8;, score=nan total time=   0.0s\n",
      "[CV 4/5] END learning_rate=0.2, max_depth=9, n_estimators=200, subsample=8;, score=nan total time=   0.0s\n",
      "[CV 5/5] END learning_rate=0.2, max_depth=9, n_estimators=200, subsample=8;, score=nan total time=   0.0s\n",
      "[CV 1/5] END learning_rate=0.2, max_depth=9, n_estimators=200, subsample=7;, score=nan total time=   0.0s\n",
      "[CV 2/5] END learning_rate=0.2, max_depth=9, n_estimators=200, subsample=7;, score=nan total time=   0.0s\n",
      "[CV 1/5] END learning_rate=0.3, max_depth=8, n_estimators=100, subsample=9;, score=nan total time=   0.0s\n",
      "[CV 2/5] END learning_rate=0.3, max_depth=8, n_estimators=100, subsample=9;, score=nan total time=   0.0s\n",
      "[CV 3/5] END learning_rate=0.3, max_depth=8, n_estimators=100, subsample=9;, score=nan total time=   0.0s\n",
      "[CV 4/5] END learning_rate=0.3, max_depth=8, n_estimators=100, subsample=9;, score=nan total time=   0.0s\n",
      "[CV 5/5] END learning_rate=0.3, max_depth=8, n_estimators=100, subsample=9;, score=nan total time=   0.0s\n",
      "[CV 1/5] END learning_rate=0.3, max_depth=8, n_estimators=100, subsample=8;, score=nan total time=   0.0s\n",
      "[CV 2/5] END learning_rate=0.3, max_depth=8, n_estimators=100, subsample=8;, score=nan total time=   0.0s\n",
      "[CV 3/5] END learning_rate=0.3, max_depth=8, n_estimators=100, subsample=8;, score=nan total time=   0.0s\n",
      "[CV 4/5] END learning_rate=0.3, max_depth=8, n_estimators=100, subsample=8;, score=nan total time=   0.0s\n",
      "[CV 5/5] END learning_rate=0.3, max_depth=8, n_estimators=100, subsample=8;, score=nan total time=   0.0s\n",
      "[CV 1/5] END learning_rate=0.3, max_depth=8, n_estimators=100, subsample=7;, score=nan total time=   0.0s\n",
      "[CV 2/5] END learning_rate=0.3, max_depth=8, n_estimators=100, subsample=7;, score=nan total time=   0.0s\n",
      "[CV 3/5] END learning_rate=0.3, max_depth=8, n_estimators=100, subsample=7;, score=nan total time=   0.0s\n",
      "[CV 4/5] END learning_rate=0.3, max_depth=8, n_estimators=100, subsample=7;, score=nan total time=   0.0s\n",
      "[CV 5/5] END learning_rate=0.3, max_depth=8, n_estimators=100, subsample=7;, score=nan total time=   0.0s\n",
      "[CV 1/5] END learning_rate=0.3, max_depth=8, n_estimators=100, subsample=6;, score=nan total time=   0.0s\n",
      "[CV 2/5] END learning_rate=0.3, max_depth=8, n_estimators=100, subsample=6;, score=nan total time=   0.0s\n",
      "[CV 3/5] END learning_rate=0.3, max_depth=8, n_estimators=100, subsample=6;, score=nan total time=   0.0s\n",
      "[CV 4/5] END learning_rate=0.3, max_depth=8, n_estimators=100, subsample=6;, score=nan total time=   0.0s\n",
      "[CV 5/5] END learning_rate=0.3, max_depth=8, n_estimators=100, subsample=6;, score=nan total time=   0.0s\n",
      "[CV 1/5] END learning_rate=0.3, max_depth=8, n_estimators=200, subsample=9;, score=nan total time=   0.0s\n",
      "[CV 2/5] END learning_rate=0.3, max_depth=8, n_estimators=200, subsample=9;, score=nan total time=   0.0s\n",
      "[CV 3/5] END learning_rate=0.3, max_depth=8, n_estimators=200, subsample=9;, score=nan total time=   0.0s\n",
      "[CV 4/5] END learning_rate=0.3, max_depth=8, n_estimators=200, subsample=9;, score=nan total time=   0.0s\n",
      "[CV 5/5] END learning_rate=0.3, max_depth=8, n_estimators=200, subsample=9;, score=nan total time=   0.0s\n",
      "[CV 1/5] END learning_rate=0.3, max_depth=8, n_estimators=200, subsample=8;, score=nan total time=   0.0s\n",
      "[CV 2/5] END learning_rate=0.3, max_depth=8, n_estimators=200, subsample=8;, score=nan total time=   0.0s\n",
      "[CV 3/5] END learning_rate=0.3, max_depth=8, n_estimators=200, subsample=8;, score=nan total time=   0.0s\n",
      "[CV 4/5] END learning_rate=0.3, max_depth=8, n_estimators=200, subsample=8;, score=nan total time=   0.0s\n",
      "[CV 5/5] END learning_rate=0.3, max_depth=8, n_estimators=200, subsample=8;, score=nan total time=   0.0s\n",
      "[CV 1/5] END learning_rate=0.3, max_depth=8, n_estimators=200, subsample=7;, score=nan total time=   0.0s\n",
      "[CV 2/5] END learning_rate=0.3, max_depth=8, n_estimators=200, subsample=7;, score=nan total time=   0.0s\n",
      "[CV 2/5] END learning_rate=0.4, max_depth=7, n_estimators=100, subsample=6;, score=nan total time=   0.0s\n",
      "[CV 3/5] END learning_rate=0.4, max_depth=7, n_estimators=100, subsample=6;, score=nan total time=   0.0s\n",
      "[CV 4/5] END learning_rate=0.4, max_depth=7, n_estimators=100, subsample=6;, score=nan total time=   0.0s\n",
      "[CV 5/5] END learning_rate=0.4, max_depth=7, n_estimators=100, subsample=6;, score=nan total time=   0.0s\n",
      "[CV 1/5] END learning_rate=0.4, max_depth=7, n_estimators=200, subsample=9;, score=nan total time=   0.0s\n",
      "[CV 2/5] END learning_rate=0.4, max_depth=7, n_estimators=200, subsample=9;, score=nan total time=   0.0s\n",
      "[CV 3/5] END learning_rate=0.4, max_depth=7, n_estimators=200, subsample=9;, score=nan total time=   0.0s\n",
      "[CV 4/5] END learning_rate=0.4, max_depth=7, n_estimators=200, subsample=9;, score=nan total time=   0.0s\n",
      "[CV 5/5] END learning_rate=0.4, max_depth=7, n_estimators=200, subsample=9;, score=nan total time=   0.0s\n",
      "[CV 1/5] END learning_rate=0.4, max_depth=7, n_estimators=200, subsample=8;, score=nan total time=   0.0s\n",
      "[CV 2/5] END learning_rate=0.4, max_depth=7, n_estimators=200, subsample=8;, score=nan total time=   0.0s\n",
      "[CV 3/5] END learning_rate=0.4, max_depth=7, n_estimators=200, subsample=8;, score=nan total time=   0.0s\n",
      "[CV 4/5] END learning_rate=0.4, max_depth=7, n_estimators=200, subsample=8;, score=nan total time=   0.0s\n",
      "[CV 5/5] END learning_rate=0.4, max_depth=7, n_estimators=200, subsample=8;, score=nan total time=   0.0s\n",
      "[CV 1/5] END learning_rate=0.4, max_depth=7, n_estimators=200, subsample=7;, score=nan total time=   0.0s\n",
      "[CV 2/5] END learning_rate=0.4, max_depth=7, n_estimators=200, subsample=7;, score=nan total time=   0.0s\n",
      "[CV 3/5] END learning_rate=0.4, max_depth=7, n_estimators=200, subsample=7;, score=nan total time=   0.0s\n",
      "[CV 4/5] END learning_rate=0.4, max_depth=7, n_estimators=200, subsample=7;, score=nan total time=   0.0s\n",
      "[CV 5/5] END learning_rate=0.4, max_depth=7, n_estimators=200, subsample=7;, score=nan total time=   0.0s\n",
      "[CV 1/5] END learning_rate=0.4, max_depth=7, n_estimators=200, subsample=6;, score=nan total time=   0.0s\n",
      "[CV 2/5] END learning_rate=0.4, max_depth=7, n_estimators=200, subsample=6;, score=nan total time=   0.0s\n",
      "[CV 3/5] END learning_rate=0.4, max_depth=7, n_estimators=200, subsample=6;, score=nan total time=   0.0s\n",
      "[CV 4/5] END learning_rate=0.4, max_depth=7, n_estimators=200, subsample=6;, score=nan total time=   0.0s\n",
      "[CV 5/5] END learning_rate=0.4, max_depth=7, n_estimators=200, subsample=6;, score=nan total time=   0.0s\n",
      "[CV 1/5] END learning_rate=0.4, max_depth=7, n_estimators=300, subsample=9;, score=nan total time=   0.0s\n",
      "[CV 2/5] END learning_rate=0.4, max_depth=7, n_estimators=300, subsample=9;, score=nan total time=   0.0s\n",
      "[CV 3/5] END learning_rate=0.4, max_depth=7, n_estimators=300, subsample=9;, score=nan total time=   0.0s\n",
      "[CV 4/5] END learning_rate=0.4, max_depth=7, n_estimators=300, subsample=9;, score=nan total time=   0.0s\n",
      "[CV 5/5] END learning_rate=0.4, max_depth=7, n_estimators=300, subsample=9;, score=nan total time=   0.0s\n",
      "[CV 1/5] END learning_rate=0.4, max_depth=7, n_estimators=300, subsample=8;, score=nan total time=   0.0s\n",
      "[CV 2/5] END learning_rate=0.4, max_depth=7, n_estimators=300, subsample=8;, score=nan total time=   0.0s\n",
      "[CV 3/5] END learning_rate=0.4, max_depth=7, n_estimators=300, subsample=8;, score=nan total time=   0.0s\n",
      "[CV 3/5] END learning_rate=0.4, max_depth=8, n_estimators=200, subsample=8;, score=nan total time=   0.0s\n",
      "[CV 4/5] END learning_rate=0.4, max_depth=8, n_estimators=200, subsample=8;, score=nan total time=   0.0s\n",
      "[CV 5/5] END learning_rate=0.4, max_depth=8, n_estimators=200, subsample=8;, score=nan total time=   0.0s\n",
      "[CV 1/5] END learning_rate=0.4, max_depth=1, n_estimators=400, subsample=8;, score=nan total time=   0.0s\n",
      "[CV 2/5] END learning_rate=0.4, max_depth=1, n_estimators=400, subsample=8;, score=nan total time=   0.0s\n",
      "[CV 3/5] END learning_rate=0.4, max_depth=1, n_estimators=400, subsample=8;, score=nan total time=   0.0s\n",
      "[CV 5/5] END learning_rate=0.4, max_depth=1, n_estimators=400, subsample=7;, score=nan total time=   0.0s\n",
      "[CV 1/5] END learning_rate=0.4, max_depth=1, n_estimators=400, subsample=6;, score=nan total time=   0.0s\n",
      "[CV 2/5] END learning_rate=0.4, max_depth=1, n_estimators=400, subsample=6;, score=nan total time=   0.0s\n",
      "[CV 2/5] END learning_rate=0.1, max_depth=7, n_estimators=100, subsample=0.06;, score=0.931 total time=   0.0s\n",
      "[CV 1/5] END learning_rate=0.1, max_depth=7, n_estimators=100, subsample=1;, score=0.948 total time=   0.0s\n",
      "[CV 5/5] END learning_rate=0.1, max_depth=7, n_estimators=200, subsample=0.2;, score=0.989 total time=   0.0s\n",
      "[CV 1/5] END learning_rate=0.1, max_depth=7, n_estimators=200, subsample=0.06;, score=0.971 total time=   0.0s\n",
      "[CV 5/5] END learning_rate=0.1, max_depth=7, n_estimators=200, subsample=0.5;, score=0.989 total time=   0.1s\n",
      "[CV 1/5] END learning_rate=0.1, max_depth=7, n_estimators=200, subsample=1;, score=0.949 total time=   0.1s\n",
      "[CV 2/5] END learning_rate=0.1, max_depth=7, n_estimators=300, subsample=1;, score=0.920 total time=   0.1s\n",
      "[CV 3/5] END learning_rate=0.1, max_depth=7, n_estimators=300, subsample=1;, score=0.976 total time=   0.1s\n",
      "[CV 4/5] END learning_rate=0.1, max_depth=7, n_estimators=300, subsample=1;, score=0.942 total time=   0.1s\n",
      "[CV 5/5] END learning_rate=0.1, max_depth=7, n_estimators=300, subsample=1;, score=0.963 total time=   0.1s\n",
      "[CV 3/5] END learning_rate=0.1, max_depth=8, n_estimators=100, subsample=0.5;, score=0.991 total time=   0.0s\n",
      "[CV 4/5] END learning_rate=0.1, max_depth=8, n_estimators=100, subsample=0.5;, score=0.978 total time=   0.0s\n",
      "[CV 5/5] END learning_rate=0.1, max_depth=8, n_estimators=100, subsample=0.5;, score=0.987 total time=   0.0s\n",
      "[CV 1/5] END learning_rate=0.1, max_depth=8, n_estimators=100, subsample=1;, score=0.940 total time=   0.0s\n",
      "[CV 3/5] END learning_rate=0.1, max_depth=8, n_estimators=200, subsample=0.5;, score=0.991 total time=   0.1s\n",
      "[CV 4/5] END learning_rate=0.1, max_depth=8, n_estimators=200, subsample=0.5;, score=0.979 total time=   0.1s\n",
      "[CV 5/5] END learning_rate=0.1, max_depth=8, n_estimators=200, subsample=0.5;, score=0.992 total time=   0.1s\n",
      "[CV 1/5] END learning_rate=0.1, max_depth=8, n_estimators=200, subsample=1;, score=0.942 total time=   0.1s\n",
      "[CV 5/5] END learning_rate=0.1, max_depth=8, n_estimators=400, subsample=0.2;, score=0.984 total time=   0.1s\n",
      "[CV 1/5] END learning_rate=0.1, max_depth=8, n_estimators=400, subsample=0.06;, score=0.981 total time=   0.1s\n",
      "[CV 2/5] END learning_rate=0.1, max_depth=8, n_estimators=400, subsample=0.06;, score=0.912 total time=   0.1s\n",
      "[CV 3/5] END learning_rate=0.1, max_depth=8, n_estimators=400, subsample=0.06;, score=0.965 total time=   0.1s\n",
      "[CV 3/5] END learning_rate=0.1, max_depth=9, n_estimators=200, subsample=0.5;, score=0.988 total time=   0.1s\n",
      "[CV 4/5] END learning_rate=0.1, max_depth=9, n_estimators=200, subsample=0.5;, score=0.979 total time=   0.1s\n",
      "[CV 5/5] END learning_rate=0.1, max_depth=9, n_estimators=200, subsample=0.5;, score=0.995 total time=   0.1s\n",
      "[CV 1/5] END learning_rate=0.1, max_depth=9, n_estimators=200, subsample=1;, score=0.944 total time=   0.1s\n",
      "[CV 5/5] END learning_rate=0.1, max_depth=9, n_estimators=400, subsample=0.2;, score=0.988 total time=   0.1s\n",
      "[CV 1/5] END learning_rate=0.1, max_depth=9, n_estimators=400, subsample=0.06;, score=0.966 total time=   0.1s\n",
      "[CV 2/5] END learning_rate=0.1, max_depth=9, n_estimators=400, subsample=0.06;, score=0.934 total time=   0.1s\n",
      "[CV 3/5] END learning_rate=0.1, max_depth=9, n_estimators=400, subsample=0.06;, score=0.969 total time=   0.1s\n",
      "[CV 1/5] END learning_rate=0.1, max_depth=1, n_estimators=200, subsample=0.2;, score=0.922 total time=   0.0s\n",
      "[CV 2/5] END learning_rate=0.1, max_depth=1, n_estimators=200, subsample=0.2;, score=0.851 total time=   0.0s\n",
      "[CV 3/5] END learning_rate=0.1, max_depth=1, n_estimators=200, subsample=0.2;, score=0.947 total time=   0.0s\n",
      "[CV 4/5] END learning_rate=0.1, max_depth=1, n_estimators=200, subsample=0.2;, score=0.864 total time=   0.0s\n",
      "[CV 3/5] END learning_rate=0.1, max_depth=1, n_estimators=300, subsample=0.5;, score=0.924 total time=   0.1s\n",
      "[CV 4/5] END learning_rate=0.1, max_depth=1, n_estimators=300, subsample=0.5;, score=0.883 total time=   0.1s\n",
      "[CV 5/5] END learning_rate=0.1, max_depth=1, n_estimators=300, subsample=0.5;, score=0.889 total time=   0.1s\n",
      "[CV 1/5] END learning_rate=0.1, max_depth=1, n_estimators=300, subsample=1;, score=0.937 total time=   0.0s\n",
      "[CV 4/5] END learning_rate=0.2, max_depth=7, n_estimators=100, subsample=0.06;, score=0.899 total time=   0.0s\n",
      "[CV 5/5] END learning_rate=0.2, max_depth=7, n_estimators=100, subsample=0.06;, score=0.924 total time=   0.0s\n",
      "[CV 1/5] END learning_rate=0.2, max_depth=7, n_estimators=100, subsample=0.5;, score=0.969 total time=   0.0s\n",
      "[CV 2/5] END learning_rate=0.2, max_depth=7, n_estimators=100, subsample=0.5;, score=0.975 total time=   0.0s\n",
      "[CV 3/5] END learning_rate=0.2, max_depth=7, n_estimators=200, subsample=0.5;, score=0.984 total time=   0.1s\n",
      "[CV 4/5] END learning_rate=0.2, max_depth=7, n_estimators=200, subsample=0.5;, score=0.982 total time=   0.1s\n",
      "[CV 5/5] END learning_rate=0.2, max_depth=7, n_estimators=200, subsample=0.5;, score=0.987 total time=   0.1s\n",
      "[CV 1/5] END learning_rate=0.2, max_depth=7, n_estimators=200, subsample=1;, score=0.947 total time=   0.0s\n",
      "[CV 5/5] END learning_rate=0.2, max_depth=7, n_estimators=400, subsample=0.2;, score=0.978 total time=   0.1s\n",
      "[CV 1/5] END learning_rate=0.2, max_depth=7, n_estimators=400, subsample=0.06;, score=0.891 total time=   0.1s\n",
      "[CV 2/5] END learning_rate=0.2, max_depth=7, n_estimators=400, subsample=0.06;, score=0.894 total time=   0.1s\n",
      "[CV 3/5] END learning_rate=0.2, max_depth=7, n_estimators=400, subsample=0.06;, score=0.885 total time=   0.1s\n",
      "[CV 4/5] END learning_rate=0.2, max_depth=8, n_estimators=200, subsample=0.06;, score=0.884 total time=   0.0s\n",
      "[CV 5/5] END learning_rate=0.2, max_depth=8, n_estimators=200, subsample=0.06;, score=0.918 total time=   0.0s\n",
      "[CV 1/5] END learning_rate=0.2, max_depth=8, n_estimators=200, subsample=0.5;, score=0.977 total time=   0.1s\n",
      "[CV 2/5] END learning_rate=0.2, max_depth=8, n_estimators=200, subsample=0.5;, score=0.966 total time=   0.1s\n",
      "[CV 1/5] END learning_rate=0.2, max_depth=8, n_estimators=400, subsample=0.2;, score=0.965 total time=   0.1s\n",
      "[CV 2/5] END learning_rate=0.2, max_depth=8, n_estimators=400, subsample=0.2;, score=0.951 total time=   0.1s\n",
      "[CV 3/5] END learning_rate=0.2, max_depth=8, n_estimators=400, subsample=0.2;, score=0.978 total time=   0.1s\n",
      "[CV 4/5] END learning_rate=0.2, max_depth=8, n_estimators=400, subsample=0.2;, score=0.968 total time=   0.1s\n"
     ]
    },
    {
     "data": {
      "text/plain": [
       "GridSearchCV(cv=5, estimator=GradientBoostingRegressor(), n_jobs=-1,\n",
       "             param_grid=[{'learning_rate': [0.1, 0.2, 0.3, 0.4],\n",
       "                          'max_depth': [7, 8, 9, 1],\n",
       "                          'n_estimators': [100, 200, 300, 400],\n",
       "                          'subsample': [0.2, 0.06, 0.5, 1]}],\n",
       "             verbose=5)"
      ]
     },
     "execution_count": 53,
     "metadata": {},
     "output_type": "execute_result"
    }
   ],
   "source": [
    "abc = GridSearchCV(GradientBoostingRegressor(),\n",
    "                   greid_param,\n",
    "                   cv=5,\n",
    "                   n_jobs = -1,\n",
    "                   verbose=5)\n",
    "abc.fit(X_train,Y_train)"
   ]
  },
  {
   "cell_type": "code",
   "execution_count": 54,
   "id": "f34dd904",
   "metadata": {},
   "outputs": [
    {
     "data": {
      "text/plain": [
       "{'learning_rate': 0.1, 'max_depth': 8, 'n_estimators': 400, 'subsample': 0.5}"
      ]
     },
     "execution_count": 54,
     "metadata": {},
     "output_type": "execute_result"
    }
   ],
   "source": [
    "abc.best_params_"
   ]
  },
  {
   "cell_type": "markdown",
   "id": "20d20478",
   "metadata": {},
   "source": [
    "## Final model"
   ]
  },
  {
   "cell_type": "code",
   "execution_count": 55,
   "id": "e261dde4",
   "metadata": {},
   "outputs": [],
   "source": [
    "model = GradientBoostingRegressor(learning_rate=0.1 ,n_estimators= 400, max_depth=8 ,subsample=0.5)"
   ]
  },
  {
   "cell_type": "code",
   "execution_count": 56,
   "id": "5c02cf17",
   "metadata": {},
   "outputs": [
    {
     "data": {
      "text/plain": [
       "GradientBoostingRegressor(max_depth=8, n_estimators=400, subsample=0.5)"
      ]
     },
     "execution_count": 56,
     "metadata": {},
     "output_type": "execute_result"
    }
   ],
   "source": [
    "model.fit(X_train,Y_train)"
   ]
  },
  {
   "cell_type": "code",
   "execution_count": 57,
   "id": "ea12af60",
   "metadata": {},
   "outputs": [
    {
     "data": {
      "text/plain": [
       "0.985161295904234"
      ]
     },
     "execution_count": 57,
     "metadata": {},
     "output_type": "execute_result"
    }
   ],
   "source": [
    "model.score(X_test,Y_test)"
   ]
  },
  {
   "cell_type": "code",
   "execution_count": 58,
   "id": "9a3e7913",
   "metadata": {},
   "outputs": [
    {
     "data": {
      "text/plain": [
       "<AxesSubplot:>"
      ]
     },
     "execution_count": 58,
     "metadata": {},
     "output_type": "execute_result"
    },
    {
     "data": {
      "image/png": "[encoded data removed]",
      "text/plain": [
       "<Figure size 432x288 with 1 Axes>"
      ]
     },
     "metadata": {
      "needs_background": "light"
     },
     "output_type": "display_data"
    }
   ],
   "source": [
    "feat_importances = pd.Series(model.feature_importances_, index=X.columns)\n",
    "feat_importances = feat_importances.nlargest()\n",
    "feat_importances.plot(kind='barh')"
   ]
  },
  {
   "cell_type": "code",
   "execution_count": null,
   "id": "8b312482",
   "metadata": {},
   "outputs": [],
   "source": []
  }
 ],
 "metadata": {
  "kernelspec": {
   "display_name": "Python 3 (ipykernel)",
   "language": "python",
   "name": "python3"
  },
  "language_info": {
   "codemirror_mode": {
    "name": "ipython",
    "version": 3
   },
   "file_extension": ".py",
   "mimetype": "text/x-python",
   "name": "python",
   "nbconvert_exporter": "python",
   "pygments_lexer": "ipython3",
   "version": "3.9.12"
  }
 },
 "nbformat": 4,
 "nbformat_minor": 5
}
